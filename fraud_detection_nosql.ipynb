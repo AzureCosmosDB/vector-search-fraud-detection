{
 "cells": [
  {
   "cell_type": "code",
   "execution_count": null,
   "metadata": {},
   "outputs": [],
   "source": [
    "! pip install python-dotenv\n",
    "\n",
    "! pip install openai\n",
    "\n",
    "! pip install geopy\n",
    "\n",
    "! pip install azure-cosmos"
   ]
  },
  {
   "cell_type": "code",
   "execution_count": 2,
   "metadata": {},
   "outputs": [],
   "source": [
    "# Import the required libraries\n",
    "import time\n",
    "import os\n",
    "import json\n",
    "import uuid\n",
    "from dotenv import dotenv_values\n",
    "from openai import OpenAI, AzureOpenAI\n",
    "\n",
    "\n",
    "#Cosmos DB imports\n",
    "from azure.cosmos import CosmosClient"
   ]
  },
  {
   "cell_type": "code",
   "execution_count": 4,
   "metadata": {},
   "outputs": [],
   "source": [
    "env_name = \"variables.env\" # following example.env template change to your own .env file name\n",
    "config = dotenv_values(env_name)\n",
    "\n",
    "nosql_uri=config[\"NOSQL_URI\"]\n",
    "cosmos_key = config['NOSQL_PRIMARY_KEY']\n",
    "cosmos_database = \"Account\"\n",
    "cosmos_container = \"Transactions\"\n",
    "\n",
    "openai_endpoint = config['AOAI_ENDPOINT']\n",
    "openai_key = config['AOAI_KEY']\n",
    "openai_api_version = config['API_VERSION']\n",
    "openai_embeddings_deployment = config['AOAI_EMBEDDING_DEPLOYMENT']\n",
    "openai_embeddings_model = config['AOAI_EMBEDDING_DEPLOYMENT_MODEL']\n",
    "#openai_embeddings_dimensions = int(config['openai_embeddings_dimensions'])\n",
    "\n",
    "# Create the Azure Cosmos DB for NoSQL client\n",
    "cosmos_client = CosmosClient(url=nosql_uri, credential=cosmos_key)\n",
    "\n",
    "azure_openai_embeddings = AzureOpenAI(\n",
    "    api_version=openai_api_version,\n",
    "    api_key= openai_key,\n",
    "    azure_endpoint= openai_endpoint,\n",
    ")"
   ]
  },
  {
   "cell_type": "code",
   "execution_count": 5,
   "metadata": {},
   "outputs": [
    {
     "name": "stdout",
     "output_type": "stream",
     "text": [
      "{\"id\": \"fraud-nosql-db\", \"_rid\": \"+jUIAA==\", \"_self\": \"dbs/+jUIAA==/\", \"_etag\": \"\\\"0000f500-0000-4700-0000-66ebf3df0000\\\"\", \"_colls\": \"colls/\", \"_users\": \"users/\", \"_ts\": 1726739423}\n"
     ]
    }
   ],
   "source": [
    "#create database\n",
    "DATABASE_NAME = \"fraud-nosql-db\"\n",
    "db= cosmos_client.create_database_if_not_exists(\n",
    "    id=DATABASE_NAME\n",
    ")\n",
    "properties = db.read()\n",
    "print(json.dumps(properties))"
   ]
  },
  {
   "cell_type": "code",
   "execution_count": 6,
   "metadata": {},
   "outputs": [],
   "source": [
    "vector_embedding_policy = {\n",
    "    \"vectorEmbeddings\": [\n",
    "        {\n",
    "            \"path\":\"/locationVector\",\n",
    "            \"dataType\":\"float32\",\n",
    "            \"distanceFunction\":\"cosine\",\n",
    "            \"dimensions\":1536\n",
    "        },\n",
    "    ]\n",
    "}\n",
    "\n",
    "indexing_policy = {\n",
    "    \"includedPaths\": [\n",
    "        {\n",
    "            \"path\": \"/*\"\n",
    "        }\n",
    "    ],\n",
    "    \"excludedPaths\": [\n",
    "        {\n",
    "            \"path\": \"/\\\"_etag\\\"/?\"\n",
    "        },\n",
    "        {\n",
    "            \"path\": \"/locationVector/*\"\n",
    "        }\n",
    "    ],\n",
    "    \"vectorIndexes\": [\n",
    "        {\"path\": \"/locationVector\",\n",
    "         \"type\": \"diskANN\"\n",
    "        }\n",
    "    ]\n",
    "}"
   ]
  },
  {
   "cell_type": "code",
   "execution_count": 20,
   "metadata": {},
   "outputs": [
    {
     "name": "stdout",
     "output_type": "stream",
     "text": [
      "Container with properties '{'id': 'fraud-nosql-cont', 'indexingPolicy': {'indexingMode': 'consistent', 'automatic': True, 'includedPaths': [{'path': '/*'}], 'excludedPaths': [{'path': '/\"_etag\"/?'}, {'path': '/locationVector/*'}], 'vectorIndexes': [{'path': '/locationVector', 'type': 'diskANN'}]}, 'partitionKey': {'paths': ['/TenantId'], 'kind': 'Hash', 'version': 2}, 'conflictResolutionPolicy': {'mode': 'LastWriterWins', 'conflictResolutionPath': '/_ts', 'conflictResolutionProcedure': ''}, 'geospatialConfig': {'type': 'Geography'}, 'vectorEmbeddingPolicy': {'vectorEmbeddings': [{'path': '/locationVector', 'dataType': 'float32', 'dimensions': 1536, 'distanceFunction': 'cosine'}]}, '_rid': '+jUIAPV8yqA=', '_ts': 1726750562, '_self': 'dbs/+jUIAA==/colls/+jUIAPV8yqA=/', '_etag': '\"00004201-0000-4700-0000-66ec1f620000\"', '_docs': 'docs/', '_sprocs': 'sprocs/', '_triggers': 'triggers/', '_udfs': 'udfs/', '_conflicts': 'conflicts/'}' created\n"
     ]
    }
   ],
   "source": [
    "from azure.cosmos import PartitionKey, exceptions\n",
    "\n",
    "CONTAINER_NAME = \"fraud-nosql-cont\"\n",
    "try:    \n",
    "    container = db.create_container_if_not_exists(\n",
    "                    id=CONTAINER_NAME,\n",
    "                    partition_key=PartitionKey(path=\"/TenantId\"),\n",
    "                    indexing_policy=indexing_policy,\n",
    "                    vector_embedding_policy=vector_embedding_policy)\n",
    "\n",
    "    properties = container.read()\n",
    "    print('Container with properties \\'{0}\\' created'.format(properties))\n",
    "\n",
    "except exceptions.CosmosResourceExistsError:\n",
    "    print('A container with id \\'{0}\\' already exists'.format(id))"
   ]
  },
  {
   "cell_type": "code",
   "execution_count": 8,
   "metadata": {},
   "outputs": [],
   "source": [
    "def generate_embeddings(lat_lon):\n",
    "    lat_lon_str = f\"{lat_lon[0]},{lat_lon[1]}\"\n",
    "    \n",
    "    # Call OpenAI to generate embeddings (assuming text input is required)\n",
    "    response = azure_openai_embeddings.embeddings.create(input=lat_lon_str, model=openai_embeddings_model)\n",
    "    embeddings = response.model_dump()\n",
    "    \n",
    "    time.sleep(0.5)  # To avoid API rate limits\n",
    "    \n",
    "    return embeddings['data'][0]['embedding']"
   ]
  },
  {
   "cell_type": "code",
   "execution_count": 9,
   "metadata": {},
   "outputs": [],
   "source": [
    "from geopy.geocoders import Nominatim\n",
    "\n",
    "def get_city_coordinates(city_name):\n",
    "    try:\n",
    "        # Create a geolocator object using Nominatim service\n",
    "        geolocator = Nominatim(user_agent=\"MyAPP\")\n",
    "        \n",
    "        # Geocode the city name to get location details\n",
    "        location = geolocator.geocode(city_name)\n",
    "        \n",
    "        if location:\n",
    "            # Extract the latitude and longitude from the location object\n",
    "            lat = location.latitude\n",
    "            lon = location.longitude\n",
    "            return lat, lon\n",
    "        else:\n",
    "            print(f\"City '{city_name}' not found.\")\n",
    "            return None, None\n",
    "    except Exception as e:\n",
    "        print(f\"Error occurred: {e}\")\n",
    "        return None, None\n",
    "\n"
   ]
  },
  {
   "cell_type": "code",
   "execution_count": 22,
   "metadata": {},
   "outputs": [],
   "source": [
    "# Load text-sample_w_embeddings.json which has embeddings pre-computed\n",
    "data_file = open(file=\"data/data_with_tenants.json\", mode=\"r\") \n",
    "\n",
    "data = json.load(data_file)\n",
    "data_file.close()"
   ]
  },
  {
   "cell_type": "code",
   "execution_count": 23,
   "metadata": {},
   "outputs": [
    {
     "name": "stdout",
     "output_type": "stream",
     "text": [
      "{\n",
      "  \"TransactionID\": \"T7356\",\n",
      "  \"Amount\": 360.73,\n",
      "  \"Timestamp\": \"2024-09-15 14:04:38\",\n",
      "  \"Location\": \"New York\",\n",
      "  \"Merchant\": \"Amazon\",\n",
      "  \"Fraud\": false,\n",
      "  \"TenantId\": \"1\"\n",
      "}\n"
     ]
    }
   ],
   "source": [
    "# Take a peek at one data item\n",
    "print(json.dumps(data[2], indent=2))"
   ]
  },
  {
   "cell_type": "code",
   "execution_count": 24,
   "metadata": {},
   "outputs": [
    {
     "name": "stdout",
     "output_type": "stream",
     "text": [
      "Creating embeddings for transaction: T8612\r"
     ]
    }
   ],
   "source": [
    "# Generate embeddings for each location and store data in cosmos db container\n",
    "for item in data:\n",
    "    transaction_id = item[\"TransactionID\"]\n",
    "    item['id'] = transaction_id\n",
    "    location = item[\"Location\"]\n",
    "    location_coord = get_city_coordinates(location)\n",
    "    location_embeddings = generate_embeddings(location_coord)\n",
    "    item['locationVector'] = location_embeddings\n",
    "    item['@search.action'] = 'upload'\n",
    "   \n",
    "    print(\"Creating embeddings for transaction:\", transaction_id, end='\\r')\n",
    "    \n",
    "    # Insert the item into the container\n",
    "    container.upsert_item(item)    "
   ]
  },
  {
   "cell_type": "code",
   "execution_count": 15,
   "metadata": {},
   "outputs": [],
   "source": [
    "import numpy as np\n",
    "\n",
    "def get_average_location_vector(container = container, num_purchases=10):\n",
    "    # SQL query to get the last 'num_purchases' transactions ordered by timestamp\n",
    "    sql_query = \"\"\"\n",
    "    SELECT TOP @num_purchases c.locationVector\n",
    "    FROM c\n",
    "    ORDER BY c.Timestamp DESC\n",
    "    \"\"\"\n",
    "    \n",
    "    # Parameters for the query\n",
    "    parameters = [\n",
    "        {\"name\": \"@num_purchases\", \"value\": num_purchases}\n",
    "    ]\n",
    "    \n",
    "    # Execute the query to get the location vectors\n",
    "    results = container.query_items(\n",
    "        query=sql_query,\n",
    "        parameters=parameters,\n",
    "        enable_cross_partition_query=True\n",
    "    )\n",
    "    \n",
    "    # Collect the location vectors\n",
    "    vectors = []\n",
    "    for result in results:\n",
    "        vectors.append(result['locationVector'])\n",
    "    \n",
    "    # If no vectors are found, return None\n",
    "    if not vectors:\n",
    "        return None\n",
    "    \n",
    "    # Convert the list of vectors into a numpy array\n",
    "    vectors_np = np.array(vectors)\n",
    "    \n",
    "    # Calculate the element-wise average of the vectors\n",
    "    avg_vector = np.mean(vectors_np, axis=0)\n",
    "    \n",
    "    return avg_vector\n"
   ]
  },
  {
   "cell_type": "code",
   "execution_count": 16,
   "metadata": {},
   "outputs": [],
   "source": [
    "def vector_search( current_location_vector, average_location_vector, amount, num_results=5):\n",
    "\n",
    "    if isinstance(current_location_vector, np.ndarray):\n",
    "        current_location_vector = current_location_vector.tolist()\n",
    "    if isinstance(average_location_vector, np.ndarray):\n",
    "        average_location_vector = average_location_vector.tolist()\n",
    "    # SQL query for vector similarity search combined with vector distances and amount filtering\n",
    "    sql_query = \"\"\"\n",
    "    SELECT TOP @num_results \n",
    "        c.TransactionID,\n",
    "        c.Amount, \n",
    "        c.timestamp, \n",
    "        c.location, \n",
    "        c.merchant, \n",
    "        VectorDistance(@average_location_vector, @current_location_vector) AS ProximityofCurrentToAverage\n",
    "    FROM c\n",
    "    WHERE \n",
    "        VectorDistance(@average_location_vector, @current_location_vector) > 0.1  -- Proximity to the current location vector\n",
    "        AND c.Amount > @amount * 0.5 \n",
    "        AND c.Amount < @amount * 2.0\n",
    "    -- ORDER BY ProximityofCurrentToAverage\n",
    "    \"\"\"\n",
    "\n",
    "    # Parameters for the SQL query\n",
    "    parameters = [\n",
    "        {\"name\": \"@num_results\", \"value\": num_results},    # Number of results\n",
    "        {\"name\": \"@average_location_vector\", \"value\": average_location_vector},  # Use the average location vector\n",
    "        {\"name\": \"@current_location_vector\", \"value\": current_location_vector},  # Use the current location vector\n",
    "        {\"name\": \"@amount\", \"value\": amount},  # Transaction amount range filtering\n",
    "    ]\n",
    "\n",
    "    results = container.query_items(\n",
    "        query=sql_query,\n",
    "        parameters=parameters,\n",
    "        enable_cross_partition_query=True\n",
    "    )\n",
    "\n",
    "    return list(results)\n"
   ]
  },
  {
   "cell_type": "code",
   "execution_count": 25,
   "metadata": {},
   "outputs": [
    {
     "name": "stdout",
     "output_type": "stream",
     "text": [
      "{'TransactionID': 'T2243', 'Amount': 165.86, 'ProximityofCurrentToAverage': 0.7936539014827947}\n",
      "{'TransactionID': 'T5109', 'Amount': 108.79, 'ProximityofCurrentToAverage': 0.7936539014827947}\n",
      "{'TransactionID': 'T5751', 'Amount': 194.48, 'ProximityofCurrentToAverage': 0.7936539014827947}\n",
      "{'TransactionID': 'T7623', 'Amount': 137.76, 'ProximityofCurrentToAverage': 0.7936539014827947}\n",
      "{'TransactionID': 'T6345', 'Amount': 60.86, 'ProximityofCurrentToAverage': 0.7936539014827947}\n"
     ]
    }
   ],
   "source": [
    "# Assuming you already computed the average location vector and current location vector\n",
    "average_location_vector = get_average_location_vector(container)\n",
    "current_location_vector = generate_embeddings(get_city_coordinates(\"Phoenix\"))\n",
    "\n",
    "# Query parameters\n",
    "query = \"Recent purchase at a grocery store\"\n",
    "amount = 100.0  # The current transaction amount\n",
    "\n",
    "# Perform vector search\n",
    "results = vector_search( current_location_vector, average_location_vector, amount, num_results=5)\n",
    "\n",
    "for result in results:\n",
    "    print(result)\n"
   ]
  },
  {
   "cell_type": "code",
   "execution_count": null,
   "metadata": {},
   "outputs": [],
   "source": []
  }
 ],
 "metadata": {
  "kernelspec": {
   "display_name": ".venv",
   "language": "python",
   "name": "python3"
  },
  "language_info": {
   "codemirror_mode": {
    "name": "ipython",
    "version": 3
   },
   "file_extension": ".py",
   "mimetype": "text/x-python",
   "name": "python",
   "nbconvert_exporter": "python",
   "pygments_lexer": "ipython3",
   "version": "3.9.13"
  }
 },
 "nbformat": 4,
 "nbformat_minor": 2
}
