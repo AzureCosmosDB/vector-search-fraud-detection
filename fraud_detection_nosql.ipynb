{
 "cells": [
  {
   "cell_type": "code",
   "execution_count": 1,
   "metadata": {},
   "outputs": [
    {
     "name": "stdout",
     "output_type": "stream",
     "text": [
      "Requirement already satisfied: python-dotenv in c:\\users\\khelan modi\\appdata\\local\\packages\\pythonsoftwarefoundation.python.3.11_qbz5n2kfra8p0\\localcache\\local-packages\\python311\\site-packages (1.0.0)\n"
     ]
    },
    {
     "name": "stderr",
     "output_type": "stream",
     "text": [
      "\n",
      "[notice] A new release of pip is available: 23.3.1 -> 24.2\n",
      "[notice] To update, run: C:\\Users\\Khelan Modi\\AppData\\Local\\Microsoft\\WindowsApps\\PythonSoftwareFoundation.Python.3.11_qbz5n2kfra8p0\\python.exe -m pip install --upgrade pip\n"
     ]
    },
    {
     "name": "stdout",
     "output_type": "stream",
     "text": [
      "Requirement already satisfied: openai in c:\\users\\khelan modi\\appdata\\local\\packages\\pythonsoftwarefoundation.python.3.11_qbz5n2kfra8p0\\localcache\\local-packages\\python311\\site-packages (1.44.1)\n",
      "Requirement already satisfied: anyio<5,>=3.5.0 in c:\\users\\khelan modi\\appdata\\local\\packages\\pythonsoftwarefoundation.python.3.11_qbz5n2kfra8p0\\localcache\\local-packages\\python311\\site-packages (from openai) (3.7.1)\n",
      "Requirement already satisfied: distro<2,>=1.7.0 in c:\\users\\khelan modi\\appdata\\local\\packages\\pythonsoftwarefoundation.python.3.11_qbz5n2kfra8p0\\localcache\\local-packages\\python311\\site-packages (from openai) (1.9.0)\n",
      "Requirement already satisfied: httpx<1,>=0.23.0 in c:\\users\\khelan modi\\appdata\\local\\packages\\pythonsoftwarefoundation.python.3.11_qbz5n2kfra8p0\\localcache\\local-packages\\python311\\site-packages (from openai) (0.26.0)\n",
      "Requirement already satisfied: jiter<1,>=0.4.0 in c:\\users\\khelan modi\\appdata\\local\\packages\\pythonsoftwarefoundation.python.3.11_qbz5n2kfra8p0\\localcache\\local-packages\\python311\\site-packages (from openai) (0.5.0)\n",
      "Requirement already satisfied: pydantic<3,>=1.9.0 in c:\\users\\khelan modi\\appdata\\local\\packages\\pythonsoftwarefoundation.python.3.11_qbz5n2kfra8p0\\localcache\\local-packages\\python311\\site-packages (from openai) (1.10.9)\n",
      "Requirement already satisfied: sniffio in c:\\users\\khelan modi\\appdata\\local\\packages\\pythonsoftwarefoundation.python.3.11_qbz5n2kfra8p0\\localcache\\local-packages\\python311\\site-packages (from openai) (1.3.0)\n",
      "Requirement already satisfied: tqdm>4 in c:\\users\\khelan modi\\appdata\\local\\packages\\pythonsoftwarefoundation.python.3.11_qbz5n2kfra8p0\\localcache\\local-packages\\python311\\site-packages (from openai) (4.66.1)\n",
      "Requirement already satisfied: typing-extensions<5,>=4.11 in c:\\users\\khelan modi\\appdata\\local\\packages\\pythonsoftwarefoundation.python.3.11_qbz5n2kfra8p0\\localcache\\local-packages\\python311\\site-packages (from openai) (4.12.2)\n",
      "Requirement already satisfied: idna>=2.8 in c:\\users\\khelan modi\\appdata\\local\\packages\\pythonsoftwarefoundation.python.3.11_qbz5n2kfra8p0\\localcache\\local-packages\\python311\\site-packages (from anyio<5,>=3.5.0->openai) (3.4)\n",
      "Requirement already satisfied: certifi in c:\\users\\khelan modi\\appdata\\local\\packages\\pythonsoftwarefoundation.python.3.11_qbz5n2kfra8p0\\localcache\\local-packages\\python311\\site-packages (from httpx<1,>=0.23.0->openai) (2023.7.22)\n",
      "Requirement already satisfied: httpcore==1.* in c:\\users\\khelan modi\\appdata\\local\\packages\\pythonsoftwarefoundation.python.3.11_qbz5n2kfra8p0\\localcache\\local-packages\\python311\\site-packages (from httpx<1,>=0.23.0->openai) (1.0.2)\n",
      "Requirement already satisfied: h11<0.15,>=0.13 in c:\\users\\khelan modi\\appdata\\local\\packages\\pythonsoftwarefoundation.python.3.11_qbz5n2kfra8p0\\localcache\\local-packages\\python311\\site-packages (from httpcore==1.*->httpx<1,>=0.23.0->openai) (0.14.0)\n",
      "Requirement already satisfied: colorama in c:\\users\\khelan modi\\appdata\\local\\packages\\pythonsoftwarefoundation.python.3.11_qbz5n2kfra8p0\\localcache\\local-packages\\python311\\site-packages (from tqdm>4->openai) (0.4.6)\n"
     ]
    },
    {
     "name": "stderr",
     "output_type": "stream",
     "text": [
      "\n",
      "[notice] A new release of pip is available: 23.3.1 -> 24.2\n",
      "[notice] To update, run: C:\\Users\\Khelan Modi\\AppData\\Local\\Microsoft\\WindowsApps\\PythonSoftwareFoundation.Python.3.11_qbz5n2kfra8p0\\python.exe -m pip install --upgrade pip\n"
     ]
    },
    {
     "name": "stdout",
     "output_type": "stream",
     "text": [
      "Requirement already satisfied: geopy in c:\\users\\khelan modi\\appdata\\local\\packages\\pythonsoftwarefoundation.python.3.11_qbz5n2kfra8p0\\localcache\\local-packages\\python311\\site-packages (2.4.1)\n",
      "Requirement already satisfied: geographiclib<3,>=1.52 in c:\\users\\khelan modi\\appdata\\local\\packages\\pythonsoftwarefoundation.python.3.11_qbz5n2kfra8p0\\localcache\\local-packages\\python311\\site-packages (from geopy) (2.0)\n"
     ]
    },
    {
     "name": "stderr",
     "output_type": "stream",
     "text": [
      "\n",
      "[notice] A new release of pip is available: 23.3.1 -> 24.2\n",
      "[notice] To update, run: C:\\Users\\Khelan Modi\\AppData\\Local\\Microsoft\\WindowsApps\\PythonSoftwareFoundation.Python.3.11_qbz5n2kfra8p0\\python.exe -m pip install --upgrade pip\n"
     ]
    },
    {
     "name": "stdout",
     "output_type": "stream",
     "text": [
      "Requirement already satisfied: azure-cosmos in c:\\users\\khelan modi\\appdata\\local\\packages\\pythonsoftwarefoundation.python.3.11_qbz5n2kfra8p0\\localcache\\local-packages\\python311\\site-packages (4.7.0)\n",
      "Requirement already satisfied: azure-core>=1.25.1 in c:\\users\\khelan modi\\appdata\\local\\packages\\pythonsoftwarefoundation.python.3.11_qbz5n2kfra8p0\\localcache\\local-packages\\python311\\site-packages (from azure-cosmos) (1.29.5)\n",
      "Requirement already satisfied: typing-extensions>=4.6.0 in c:\\users\\khelan modi\\appdata\\local\\packages\\pythonsoftwarefoundation.python.3.11_qbz5n2kfra8p0\\localcache\\local-packages\\python311\\site-packages (from azure-cosmos) (4.12.2)\n",
      "Requirement already satisfied: requests>=2.18.4 in c:\\users\\khelan modi\\appdata\\local\\packages\\pythonsoftwarefoundation.python.3.11_qbz5n2kfra8p0\\localcache\\local-packages\\python311\\site-packages (from azure-core>=1.25.1->azure-cosmos) (2.31.0)\n",
      "Requirement already satisfied: six>=1.11.0 in c:\\users\\khelan modi\\appdata\\local\\packages\\pythonsoftwarefoundation.python.3.11_qbz5n2kfra8p0\\localcache\\local-packages\\python311\\site-packages (from azure-core>=1.25.1->azure-cosmos) (1.16.0)\n",
      "Requirement already satisfied: charset-normalizer<4,>=2 in c:\\users\\khelan modi\\appdata\\local\\packages\\pythonsoftwarefoundation.python.3.11_qbz5n2kfra8p0\\localcache\\local-packages\\python311\\site-packages (from requests>=2.18.4->azure-core>=1.25.1->azure-cosmos) (3.3.1)\n",
      "Requirement already satisfied: idna<4,>=2.5 in c:\\users\\khelan modi\\appdata\\local\\packages\\pythonsoftwarefoundation.python.3.11_qbz5n2kfra8p0\\localcache\\local-packages\\python311\\site-packages (from requests>=2.18.4->azure-core>=1.25.1->azure-cosmos) (3.4)\n",
      "Requirement already satisfied: urllib3<3,>=1.21.1 in c:\\users\\khelan modi\\appdata\\local\\packages\\pythonsoftwarefoundation.python.3.11_qbz5n2kfra8p0\\localcache\\local-packages\\python311\\site-packages (from requests>=2.18.4->azure-core>=1.25.1->azure-cosmos) (2.0.7)\n",
      "Requirement already satisfied: certifi>=2017.4.17 in c:\\users\\khelan modi\\appdata\\local\\packages\\pythonsoftwarefoundation.python.3.11_qbz5n2kfra8p0\\localcache\\local-packages\\python311\\site-packages (from requests>=2.18.4->azure-core>=1.25.1->azure-cosmos) (2023.7.22)\n"
     ]
    },
    {
     "name": "stderr",
     "output_type": "stream",
     "text": [
      "\n",
      "[notice] A new release of pip is available: 23.3.1 -> 24.2\n",
      "[notice] To update, run: C:\\Users\\Khelan Modi\\AppData\\Local\\Microsoft\\WindowsApps\\PythonSoftwareFoundation.Python.3.11_qbz5n2kfra8p0\\python.exe -m pip install --upgrade pip\n"
     ]
    }
   ],
   "source": [
    "! pip install python-dotenv\n",
    "\n",
    "! pip install openai\n",
    "\n",
    "! pip install geopy\n",
    "\n",
    "! pip install azure-cosmos"
   ]
  },
  {
   "cell_type": "code",
   "execution_count": 2,
   "metadata": {},
   "outputs": [],
   "source": [
    "# Import the required libraries\n",
    "import time\n",
    "import os\n",
    "import json\n",
    "import uuid\n",
    "from dotenv import dotenv_values\n",
    "from openai import OpenAI, AzureOpenAI\n",
    "\n",
    "\n",
    "#Cosmos DB imports\n",
    "from azure.cosmos import CosmosClient"
   ]
  },
  {
   "cell_type": "code",
   "execution_count": 15,
   "metadata": {},
   "outputs": [],
   "source": [
    "env_name = \"variable.env\" # following example.env template change to your own .env file name\n",
    "config = dotenv_values(env_name)\n",
    "\n",
    "nosql_uri=config[\"NOSQL_URI\"]\n",
    "cosmos_key = config['NOSQL_PRIMARY_KEY']\n",
    "cosmos_database = \"Account\"\n",
    "cosmos_container = \"Transactions\"\n",
    "\n",
    "openai_endpoint = config['AOAI_ENDPOINT']\n",
    "openai_key = config['AOAI_KEY']\n",
    "openai_api_version = config['API_VERSION']\n",
    "openai_embeddings_deployment = config['AOAI_EMBEDDING_DEPLOYMENT']\n",
    "openai_embeddings_model = config['AOAI_EMBEDDING_DEPLOYMENT_MODEL']\n",
    "#openai_embeddings_dimensions = int(config['openai_embeddings_dimensions'])\n",
    "\n",
    "# Create the Azure Cosmos DB for NoSQL client\n",
    "cosmos_client = CosmosClient(url=nosql_uri, credential=cosmos_key)\n",
    "\n",
    "azure_openai_embeddings = AzureOpenAI(\n",
    "    api_version=openai_api_version,\n",
    "    api_key= openai_key,\n",
    "    azure_endpoint= openai_endpoint,\n",
    ")"
   ]
  },
  {
   "cell_type": "code",
   "execution_count": 16,
   "metadata": {},
   "outputs": [
    {
     "name": "stdout",
     "output_type": "stream",
     "text": [
      "{\"id\": \"fraud-nosql-db\", \"_rid\": \"+jUIAA==\", \"_self\": \"dbs/+jUIAA==/\", \"_etag\": \"\\\"0000f500-0000-4700-0000-66ebf3df0000\\\"\", \"_colls\": \"colls/\", \"_users\": \"users/\", \"_ts\": 1726739423}\n"
     ]
    }
   ],
   "source": [
    "#create database\n",
    "DATABASE_NAME = \"fraud-nosql-db\"\n",
    "db= cosmos_client.create_database_if_not_exists(\n",
    "    id=DATABASE_NAME\n",
    ")\n",
    "properties = db.read()\n",
    "print(json.dumps(properties))"
   ]
  },
  {
   "cell_type": "code",
   "execution_count": 18,
   "metadata": {},
   "outputs": [],
   "source": [
    "vector_embedding_policy = {\n",
    "    \"vectorEmbeddings\": [\n",
    "        {\n",
    "            \"path\":\"/locationVector\",\n",
    "            \"dataType\":\"float32\",\n",
    "            \"distanceFunction\":\"cosine\",\n",
    "            \"dimensions\":1536\n",
    "        },\n",
    "    ]\n",
    "}\n",
    "\n",
    "indexing_policy = {\n",
    "    \"includedPaths\": [\n",
    "        {\n",
    "            \"path\": \"/*\"\n",
    "        }\n",
    "    ],\n",
    "    \"excludedPaths\": [\n",
    "        {\n",
    "            \"path\": \"/\\\"_etag\\\"/?\"\n",
    "        },\n",
    "        {\n",
    "            \"path\": \"/locationVector/*\"\n",
    "        }\n",
    "    ],\n",
    "    \"vectorIndexes\": [\n",
    "        {\"path\": \"/locationVector\",\n",
    "         \"type\": \"diskANN\"\n",
    "        }\n",
    "    ]\n",
    "}"
   ]
  },
  {
   "cell_type": "code",
   "execution_count": 19,
   "metadata": {},
   "outputs": [
    {
     "name": "stdout",
     "output_type": "stream",
     "text": [
      "Container with properties '{'id': 'fraud-nosql-cont', 'indexingPolicy': {'indexingMode': 'consistent', 'automatic': True, 'includedPaths': [{'path': '/*'}], 'excludedPaths': [{'path': '/\"_etag\"/?'}, {'path': '/locationVector/*'}], 'vectorIndexes': [{'path': '/locationVector', 'type': 'diskANN'}]}, 'partitionKey': {'paths': ['/TenantId'], 'kind': 'Hash', 'version': 2}, 'conflictResolutionPolicy': {'mode': 'LastWriterWins', 'conflictResolutionPath': '/_ts', 'conflictResolutionProcedure': ''}, 'geospatialConfig': {'type': 'Geography'}, 'vectorEmbeddingPolicy': {'vectorEmbeddings': [{'path': '/locationVector', 'dataType': 'float32', 'dimensions': 1536, 'distanceFunction': 'cosine'}]}, '_rid': '+jUIAPV8yqA=', '_ts': 1726750562, '_self': 'dbs/+jUIAA==/colls/+jUIAPV8yqA=/', '_etag': '\"00004201-0000-4700-0000-66ec1f620000\"', '_docs': 'docs/', '_sprocs': 'sprocs/', '_triggers': 'triggers/', '_udfs': 'udfs/', '_conflicts': 'conflicts/'}' created\n"
     ]
    }
   ],
   "source": [
    "from azure.cosmos import PartitionKey, exceptions\n",
    "\n",
    "CONTAINER_NAME = \"fraud-nosql-cont\"\n",
    "try:    \n",
    "    container = db.create_container_if_not_exists(\n",
    "                    id=CONTAINER_NAME,\n",
    "                    partition_key=PartitionKey(path=\"/TenantId\"),\n",
    "                    indexing_policy=indexing_policy,\n",
    "                    vector_embedding_policy=vector_embedding_policy)\n",
    "\n",
    "    properties = container.read()\n",
    "    print('Container with properties \\'{0}\\' created'.format(properties))\n",
    "\n",
    "except exceptions.CosmosResourceExistsError:\n",
    "    print('A container with id \\'{0}\\' already exists'.format(id))"
   ]
  },
  {
   "cell_type": "code",
   "execution_count": 20,
   "metadata": {},
   "outputs": [],
   "source": [
    "def generate_embeddings(lat_lon):\n",
    "    lat_lon_str = f\"{lat_lon[0]},{lat_lon[1]}\"\n",
    "    \n",
    "    # Call OpenAI to generate embeddings (assuming text input is required)\n",
    "    response = azure_openai_embeddings.embeddings.create(input=lat_lon_str, model=openai_embeddings_model)\n",
    "    embeddings = response.model_dump()\n",
    "    \n",
    "    time.sleep(0.5)  # To avoid API rate limits\n",
    "    \n",
    "    return embeddings['data'][0]['embedding']"
   ]
  },
  {
   "cell_type": "code",
   "execution_count": 35,
   "metadata": {},
   "outputs": [],
   "source": [
    "from geopy.geocoders import Nominatim\n",
    "\n",
    "def get_city_coordinates(city_name):\n",
    "    try:\n",
    "        # Create a geolocator object using Nominatim service\n",
    "        geolocator = Nominatim(user_agent=\"MyAPP\")\n",
    "        \n",
    "        # Geocode the city name to get location details\n",
    "        location = geolocator.geocode(city_name)\n",
    "        \n",
    "        if location:\n",
    "            # Extract the latitude and longitude from the location object\n",
    "            lat = location.latitude\n",
    "            lon = location.longitude\n",
    "            return lat, lon\n",
    "        else:\n",
    "            print(f\"City '{city_name}' not found.\")\n",
    "            return None, None\n",
    "    except Exception as e:\n",
    "        print(f\"Error occurred: {e}\")\n",
    "        return None, None\n",
    "\n"
   ]
  },
  {
   "cell_type": "code",
   "execution_count": 36,
   "metadata": {},
   "outputs": [],
   "source": [
    "# Load text-sample_w_embeddings.json which has embeddings pre-computed\n",
    "data_file = open(file=\"data/data_with_tenants.json\", mode=\"r\") \n",
    "\n",
    "data = json.load(data_file)\n",
    "data_file.close()"
   ]
  },
  {
   "cell_type": "code",
   "execution_count": 23,
   "metadata": {},
   "outputs": [
    {
     "name": "stdout",
     "output_type": "stream",
     "text": [
      "{\n",
      "  \"TransactionID\": \"T7356\",\n",
      "  \"Amount\": 360.73,\n",
      "  \"Timestamp\": \"2024-09-15 14:04:38\",\n",
      "  \"Location\": \"New York\",\n",
      "  \"Merchant\": \"Amazon\",\n",
      "  \"Fraud\": false,\n",
      "  \"TenantId\": \"1\"\n",
      "}\n"
     ]
    }
   ],
   "source": [
    "# Take a peek at one data item\n",
    "print(json.dumps(data[2], indent=2))"
   ]
  },
  {
   "cell_type": "code",
   "execution_count": 10,
   "metadata": {},
   "outputs": [
    {
     "ename": "NameError",
     "evalue": "name 'data' is not defined",
     "output_type": "error",
     "traceback": [
      "\u001b[1;31m---------------------------------------------------------------------------\u001b[0m",
      "\u001b[1;31mNameError\u001b[0m                                 Traceback (most recent call last)",
      "Cell \u001b[1;32mIn[10], line 2\u001b[0m\n\u001b[0;32m      1\u001b[0m \u001b[38;5;66;03m# Generate embeddings for each location and store data in cosmos db container\u001b[39;00m\n\u001b[1;32m----> 2\u001b[0m \u001b[38;5;28;01mfor\u001b[39;00m item \u001b[38;5;129;01min\u001b[39;00m \u001b[43mdata\u001b[49m:\n\u001b[0;32m      3\u001b[0m     transaction_id \u001b[38;5;241m=\u001b[39m item[\u001b[38;5;124m\"\u001b[39m\u001b[38;5;124mTransactionID\u001b[39m\u001b[38;5;124m\"\u001b[39m]\n\u001b[0;32m      4\u001b[0m     item[\u001b[38;5;124m'\u001b[39m\u001b[38;5;124mid\u001b[39m\u001b[38;5;124m'\u001b[39m] \u001b[38;5;241m=\u001b[39m transaction_id\n",
      "\u001b[1;31mNameError\u001b[0m: name 'data' is not defined"
     ]
    }
   ],
   "source": [
    "# Generate embeddings for each location and store data in cosmos db container\n",
    "for item in data:\n",
    "    transaction_id = item[\"TransactionID\"]\n",
    "    item['id'] = transaction_id\n",
    "    location = item[\"Location\"]\n",
    "    location_coord = get_city_coordinates(location)\n",
    "    location_embeddings = generate_embeddings(location_coord)\n",
    "    item['locationVector'] = location_embeddings\n",
    "    item['@search.action'] = 'upload'\n",
    "   \n",
    "    print(\"Creating embeddings for transaction:\", transaction_id, end='\\r')\n",
    "    \n",
    "    # Insert the item into the container\n",
    "    container.upsert_item(item)    "
   ]
  },
  {
   "cell_type": "code",
   "execution_count": 37,
   "metadata": {},
   "outputs": [],
   "source": [
    "import numpy as np\n",
    "\n",
    "def get_average_location_vector(container, tenant_id, num_purchases=10):\n",
    "    # SQL query to get the last 'num_purchases' transactions ordered by timestamp\n",
    "    sql_query = \"\"\"\n",
    "    SELECT TOP @num_purchases c.locationVector\n",
    "    FROM c\n",
    "    ORDER BY c.Timestamp DESC\n",
    "    \"\"\"\n",
    "    \n",
    "    # Parameters for the query\n",
    "    parameters = [\n",
    "        {\"name\": \"@num_purchases\", \"value\": num_purchases}, \n",
    "        {\"name\": \"@tenant_id\", \"value\": tenant_id}\n",
    "    ]\n",
    "    \n",
    "    # Execute the query to get the location vectors\n",
    "    results = container.query_items(\n",
    "        query=sql_query,\n",
    "        parameters=parameters,\n",
    "        enable_cross_partition_query=True\n",
    "    )\n",
    "    \n",
    "    # Collect the location vectors\n",
    "    vectors = []\n",
    "    for result in results:\n",
    "        vectors.append(result['locationVector'])\n",
    "    \n",
    "    # If no vectors are found, return None\n",
    "    if not vectors:\n",
    "        return None\n",
    "    \n",
    "    # Convert the list of vectors into a numpy array\n",
    "    vectors_np = np.array(vectors)\n",
    "    \n",
    "    # Calculate the element-wise average of the vectors\n",
    "    avg_vector = np.mean(vectors_np, axis=0)\n",
    "    \n",
    "    return avg_vector\n"
   ]
  },
  {
   "cell_type": "code",
   "execution_count": 46,
   "metadata": {},
   "outputs": [],
   "source": [
    "def vector_search( current_location_vector, average_location_vector, amount, num_results=5):\n",
    "\n",
    "    if isinstance(current_location_vector, np.ndarray):\n",
    "        current_location_vector = current_location_vector.tolist()\n",
    "    if isinstance(average_location_vector, np.ndarray):\n",
    "        average_location_vector = average_location_vector.tolist()\n",
    "\n",
    "    sql_query = \"\"\"\n",
    "    SELECT TOP @num_results \n",
    "        c.TransactionID,\n",
    "        c.Amount, \n",
    "        c.timestamp, \n",
    "        c.location, \n",
    "        c.merchant, \n",
    "        VectorDistance(@average_location_vector, @current_location_vector) AS ProximityofCurrentToAverage\n",
    "    FROM c\n",
    "    -- WHERE \n",
    "    --    VectorDistance(@average_location_vector, @current_location_vector) > 0  -- Proximity to the current location vector\n",
    "    --    AND c.Amount > @amount * 0.5 \n",
    "    --    AND c.Amount < @amount * 2.0\n",
    "    -- ORDER BY ProximityofCurrentToAverage\n",
    "    \"\"\"\n",
    "\n",
    "    # Parameters for the SQL query\n",
    "    parameters = [\n",
    "        {\"name\": \"@num_results\", \"value\": num_results},   \n",
    "        {\"name\": \"@average_location_vector\", \"value\": average_location_vector},  \n",
    "        {\"name\": \"@current_location_vector\", \"value\": current_location_vector},  \n",
    "        {\"name\": \"@amount\", \"value\": amount},  # Transaction amount range filtering\n",
    "    ]\n",
    "\n",
    "    results = container.query_items(\n",
    "        query=sql_query,\n",
    "        parameters=parameters,\n",
    "        enable_cross_partition_query=True\n",
    "    )\n",
    "\n",
    "    return list(results)\n"
   ]
  },
  {
   "cell_type": "code",
   "execution_count": 47,
   "metadata": {},
   "outputs": [
    {
     "name": "stdout",
     "output_type": "stream",
     "text": [
      "[-0.02813053 -0.03880301  0.05858876 ... -0.00941028 -0.02411494\n",
      "  0.01414467]\n",
      "[-0.024866273626685143, -0.023750372231006622, 0.004513570107519627, -0.003114529885351658, -0.019786424934864044, -0.0022193107288330793, -0.010576077736914158, 0.06525523215532303, -0.01501469872891903, 0.026731660589575768, -0.039506230503320694, 0.015955720096826553, 0.0039264727383852005, -0.019653182476758957, 0.016397083178162575, 0.01060938835144043, -0.08087784796953201, 0.003699545282870531, -0.03710787370800972, -0.005862644407898188, 0.007419909350574017, -0.008843932300806046, -0.027730975300073624, 0.03740767017006874, 0.0045593720860779285, 0.031128643080592155, 0.0008478558156639338, 0.012199963442981243, 0.01303272508084774, 0.021868329495191574, -0.01441511046141386, 0.01797100342810154, 0.03874008730053902, 0.013024398125708103, 0.02626531384885311, -0.006578819826245308, -0.0001234179362654686, 0.01938669942319393, -0.017088275402784348, 0.05139807239174843, 0.009285296313464642, -0.005825170315802097, -0.018953662365674973, 0.01095082052052021, -0.010834233835339546, -0.007503185421228409, -0.026365244761109352, -0.02528265491127968, -0.0057918597012758255, 0.005529539659619331, 0.02121877670288086, -0.027581077069044113, -0.007532332092523575, -0.02979622408747673, -0.010917509905993938, -0.017421381548047066, 0.027198007330298424, 0.11745275557041168, -0.003624596633017063, 0.05749388784170151, -8.184488979168236e-05, -0.019986288622021675, -0.0010732220252975821, 0.02175174281001091, 0.005013227462768555, 0.02360047586262226, 0.013590675778687, 0.03590869903564453, 0.007940385490655899, -0.004072206094861031, -0.0014594154199585319, 0.0019986287225037813, -0.012283239513635635, 0.009510141797363758, 0.007532332092523575, -0.01743803545832634, 0.02421671897172928, 0.005887627135962248, 0.005446263588964939, -0.009035468101501465, 0.04996572062373161, -0.027247972786426544, -0.0173381045460701, 0.05899285897612572, 0.0247663427144289, -0.009959833696484566, -0.0351758673787117, -0.10326249152421951, -0.052930351346731186, -0.005034046247601509, 0.043769970536231995, 0.0005553481751121581, 0.007032675202935934, 0.0022276383824646473, 0.021635156124830246, 0.012966104783117771, 0.02335064671933651, 0.0005470205214805901, -0.02378368191421032, 0.027198007330298424, -0.007840454578399658, -0.024782996624708176, -0.01150877121835947, 0.002130829729139805, 0.017854416742920876, -0.008106937631964684, 0.014448421075940132, 0.008019497618079185, 0.011350546032190323, -0.023034196346998215, 0.007769669406116009, -0.0266483835875988, 0.006645440589636564, 0.00025165025726892054, -0.05096503347158432, 0.014231902547180653, 0.06735379248857498, -0.053363390266895294, 0.00353091093711555, -0.02276771329343319, -0.0511648990213871, 0.00869403500109911, 0.009551780298352242, -0.02761438861489296, 0.05139807239174843, 0.02271774783730507, -0.008602431043982506, 0.029912810772657394, 0.0004273109952919185, 0.012941121123731136, 0.019853046163916588, -0.010509456507861614, -0.014331834390759468, -0.003147840267047286, 0.023467233404517174, 0.005217254161834717, -0.050898414105176926, 0.02248457446694374, 0.024816308170557022, 0.008394241333007812, -0.0640227422118187, -0.006029197014868259, -0.007927894592285156, -0.03764084354043007, -0.02576565556228161, 0.003266508923843503, -0.009501814842224121, 0.018204176798462868, 0.00016772346862126142, -0.004596846178174019, -0.02421671897172928, 0.007919566705822945, 0.018037624657154083, 0.005071520805358887, 0.03279416635632515, -0.024349961429834366, -0.005117322318255901, 0.0005886586150154471, -0.011850203387439251, -0.017937693744897842, 0.027214663103222847, -0.013215932995080948, 0.015814149752259254, -0.03817380964756012, -0.011733616702258587, -0.006861959118396044, -0.02568238042294979, -0.01860390231013298, 0.02461644448339939, 0.023583820089697838, -0.006033360492438078, -0.00927696842700243, -0.0046343207359313965, -0.04190458357334137, 0.021668467670679092, -0.018154211342334747, -0.01244979165494442, 0.0061457837000489235, -0.018004314973950386, -0.015497701242566109, -0.028447149321436882, -0.00025125991669483483, 0.016746843233704567, -0.034809451550245285, -0.018820421770215034, -0.03707456588745117, -0.014798181131482124, -0.043237004429101944, 0.027481146156787872, -0.04606839269399643, -0.0003999859909527004, 0.008011170662939548, 0.041105132550001144, 0.026331935077905655, 0.06532184779644012, 0.007982023991644382, 0.02063584327697754, 0.019203491508960724, -0.004430294036865234, -0.0431370735168457, -0.010859216563403606, -0.003793230978772044, -0.026565108448266983, 0.01562261488288641, -0.036741457879543304, -0.007411581929773092, 0.027198007330298424, 0.042370930314064026, 0.005575341638177633, 0.024283340200781822, 0.019969632849097252, -0.001886205980554223, -0.03444303572177887, 0.014831490814685822, 0.02858039177954197, 0.04233761876821518, -0.02403351105749607, -0.027148041874170303, 0.0025315964594483376, 0.019020283594727516, 0.019053595140576363, -0.012816207483410835, 0.026082105934619904, 0.013532382436096668, -0.030112674459815025, 0.028996773064136505, -0.03052905574440956, 0.048466749489307404, 0.0173381045460701, -0.024016855284571648, 0.0054962290450930595, 0.01180023793131113, -0.025715690106153488, 0.02528265491127968, -0.04650143161416054, -0.009318606927990913, -0.052497316151857376, 0.012208291329443455, -0.0015843297587707639, -0.009476831182837486, -0.043969832360744476, -0.02223474532365799, -0.005966739729046822, -0.03610856086015701, 0.0009790158364921808, -0.02403351105749607, -0.022900955751538277, 0.04200451448559761, 0.003391423262655735, -0.003801558632403612, 0.022834334522485733, -0.02519937790930271, -0.02005290985107422, -0.02563241496682167, 0.004213775508105755, -0.004979916848242283, -0.004488587379455566, 0.06342315673828125, 0.005816842429339886, -0.004434457514435053, -0.050465378910303116, 0.017171552404761314, -0.021785054355859756, 0.04889978468418121, 0.03284413367509842, 0.03269423544406891, -0.008490008302032948, 0.030745573341846466, -0.016888413578271866, -0.0005527457688003778, -0.010842561721801758, 0.008348438888788223, 0.003104120260104537, -0.00592093775048852, 0.004896640777587891, 0.0014198592398315668, -0.008860588073730469, -0.012583034113049507, 0.009135399013757706, -0.00848168134689331, 0.01468159444630146, 0.05716078355908394, 0.03294406458735466, -0.018137555569410324, -0.008943864144384861, 0.030778883025050163, 0.01850397139787674, 0.006728717125952244, 0.0024608117528259754, 0.014981388114392757, -0.019303422421216965, -0.014931422658264637, 0.008752328343689442, 0.03216126933693886, -0.02310081757605076, -0.022084848955273628, 0.046534739434719086, -0.046434808522462845, -0.002850127872079611, 0.01448173075914383, 0.007128442637622356, 0.0012106277281418443, -0.025132756680250168, -0.04800040274858475, 0.027164695784449577, -0.013066035695374012, 0.006628785748034716, 0.01419859193265438, -0.06468895077705383, -0.03520917892456055, 0.04453611373901367, 0.0028917661402374506, -0.013407467864453793, -0.001642623101361096, 0.04893309623003006, 0.020419323816895485, -0.013915453106164932, -0.023533854633569717, 0.0143901277333498, -0.02766435407102108, 0.009451848454773426, 0.017321448773145676, -0.04713432863354683, 0.03430979326367378, 0.013690607622265816, -0.03560890257358551, 0.0028230631723999977, -0.014823163859546185, -0.00622489582747221, -0.033743515610694885, 0.0024295831099152565, 0.0022963411174714565, -0.02446654811501503, 0.0013376239221543074, 0.0016374182887375355, -0.024533169344067574, -0.01182522065937519, 0.036808080971241, 0.006374793127179146, 0.01797100342810154, 0.014373471960425377, -0.0420711375772953, -0.01583913341164589, 0.022801022976636887, -0.016505341976881027, -0.005142305511981249, 0.0453355647623539, -0.01603899523615837, 0.014231902547180653, 0.0046343207359313965, 0.0007120115333236754, -0.0026356917805969715, 0.032244544476270676, -0.014356817118823528, 0.032577648758888245, -0.0247996523976326, -0.02461644448339939, -0.026681695133447647, 0.011258942075073719, -0.028696978464722633, -0.009385228157043457, -0.01007642038166523, -0.01593906432390213, 0.004705105442553759, 0.003682889975607395, 0.012116687372326851, 0.025066135451197624, 0.022201435640454292, -0.003564221318811178, -0.018820421770215034, -0.008993829600512981, 0.008510828018188477, 0.005317185539752245, 0.0011471296893432736, -0.006732880603522062, -0.0389399528503418, -0.004109680652618408, 0.00041091599268838763, 0.009701677598059177, 0.0009342548437416553, -0.005621143616735935, 0.004263741429895163, 0.009918195195496082, -0.027681009843945503, 0.004257495515048504, 0.02906339429318905, 0.0011346382088959217, -0.00862741470336914, 0.03196140378713608, 0.027581077069044113, -0.02548251673579216, 0.017271483317017555, -0.010626043193042278, -0.035542283207178116, 0.01189184095710516, -0.013432451523840427, -0.045568738132715225, 0.010942492634057999, 0.021585190668702126, 0.013332519680261612, 0.005900118965655565, 0.04936613142490387, 0.0015416506212204695, 0.004800872877240181, -0.006158275064080954, -0.0062790256924927235, -0.021352017298340797, -0.03454296663403511, 0.006582983769476414, 0.013232587836682796, 0.013890470378100872, -0.03937298804521561, 0.018320763483643532, 0.039506230503320694, 0.003079137532040477, -0.003480945248156786, -0.020819049328565598, 0.004003503359854221, -0.030445778742432594, -0.033460378646850586, 0.005342168267816305, 0.0008681543986313045, -0.03604193776845932, 0.03289409726858139, 0.003326884238049388, -0.004684286192059517, 0.022501228377223015, 0.012566378340125084, 0.03136181831359863, -0.00973498821258545, -0.03372685983777046, 0.011950134299695492, 0.0008915758226066828, 0.00866905227303505, 0.004463604185730219, 0.015272854827344418, -0.012874500826001167, 0.02931322157382965, -0.006328991148620844, -0.01034290436655283, -0.021685123443603516, 0.047500744462013245, -0.0007078477065078914, -0.025665724650025368, -0.036841392517089844, 7.442810601787642e-05, -0.003193642245605588, -0.0020881507080048323, 0.003364358562976122, -0.02553248219192028, -0.05469580739736557, 0.008273490704596043, 0.01976976916193962, -0.0056877643801271915, -0.01322426088154316, 0.00649137981235981, -0.01579749584197998, 0.006349810399115086, -0.040772028267383575, 0.0247996523976326, 0.013532382436096668, -0.004509406164288521, 0.03187812864780426, -0.026515142992138863, -0.03351034224033356, 0.016538653522729874, -0.011750271543860435, 0.0008967805770225823, -0.004317870829254389, 0.0034976003225892782, -0.006537181790918112, -0.024066822603344917, -0.005396297667175531, 0.004984080791473389, -0.012025083415210247, 0.02629862353205681, 0.004417802207171917, -0.012224946171045303, -0.03042912296950817, -0.027214663103222847, 0.018737144768238068, 0.0089188814163208, 0.00978495366871357, 0.005750221665948629, 0.01502302661538124, -0.006728717125952244, 0.02741452492773533, 0.0074657113291323185, -0.03720780462026596, 0.05852651223540306, 0.011009113863110542, 0.014240230433642864, -0.033460378646850586, -0.026781626045703888, -0.0020423487294465303, -0.01589742675423622, -0.029779568314552307, -0.010676008649170399, -0.017987659201025963, 0.024699721485376358, -0.008552465587854385, -0.013424123637378216, 0.014573334716260433, -0.011342218145728111, 0.017621243372559547, -0.0018914106767624617, 0.03142843768000603, -0.018903696909546852, -0.006866122595965862, -0.026948178187012672, 0.046734604984521866, -0.0022755220998078585, 0.034709520637989044, -0.006133292336016893, 0.020802395418286324, -0.006591311190277338, -0.006291517056524754, -0.017671208828687668, -0.0025586611591279507, 0.013590675778687, 0.009918195195496082, 0.03201137110590935, -0.00026049837470054626, 0.019636528566479683, 0.004172137472778559, 0.015630943700671196, 0.013124329037964344, -0.012458119541406631, 0.021401982754468918, 0.0007978900684975088, 0.0333271361887455, -0.011225631460547447, 0.005900118965655565, 0.01574753038585186, 0.012966104783117771, -0.015172923915088177, -0.01209170464426279, 0.027048109099268913, 0.0057044196873903275, -0.028463805094361305, -0.0041617280803620815, -0.03251102939248085, 0.009285296313464642, -0.010276283137500286, -0.003189478535205126, -0.01860390231013298, 0.01699667237699032, -0.018054280430078506, 0.01817086711525917, 0.005471246317028999, 0.020419323816895485, 0.017804451286792755, -0.027481146156787872, 0.0014240230666473508, 0.006803665775805712, 0.02156853675842285, 0.013790538534522057, 0.005608652252703905, -0.005579505581408739, 0.007249193266034126, -0.0054379357025027275, 0.006803665775805712, 0.01773783005774021, 0.029346533119678497, -0.018870387226343155, -0.03111198917031288, -0.01738807000219822, 0.031761541962623596, -0.004817528184503317, -0.003056236542761326, 0.02741452492773533, -0.013182622380554676, 0.003422651905566454, 0.023417267948389053, 0.02218477986752987, 0.0012814125511795282, -0.014156954362988472, -0.026082105934619904, -0.04913295805454254, -0.019553251564502716, 0.010209661908447742, -0.02238464169204235, 0.017571277916431427, -0.009285296313464642, -0.006866122595965862, 0.012632999569177628, -0.00037318147951737046, -0.046401496976614, -0.03877339884638786, -0.004055550787597895, 0.00973498821258545, 0.017954349517822266, 0.01822083257138729, 0.03677476942539215, -0.038007259368896484, -0.008298473432660103, 0.016938379034399986, -0.0038848347030580044, -0.03149506077170372, -0.015414424240589142, -0.00824018009006977, 0.00032659884891472757, 0.040572166442871094, -0.009976488538086414, 0.013715590350329876, -0.012807879596948624, 0.027880871668457985, 0.0006006296025589108, -0.015122957527637482, -0.00675786379724741, -0.021401982754468918, 0.015081319957971573, 0.02355050854384899, -0.006433086469769478, 0.04820026457309723, -0.033060651272535324, -0.007565642707049847, 0.051664553582668304, 0.00821519736200571, 0.003378931898623705, 0.010567749850451946, -0.04230431094765663, 0.015406097285449505, 0.009951505810022354, -0.011383856646716595, -0.0013490744167938828, 0.004592682234942913, -0.018204176798462868, -0.016696877777576447, -0.0072450293228030205, -0.004182547330856323, 0.013665624894201756, -0.022268056869506836, 0.005038210190832615, 0.005288038868457079, 0.00311869359575212, 0.0010185720166191459, -0.00014274060958996415, 0.010742629878222942, 0.008090282790362835, 0.008952191099524498, 0.002981287892907858, -0.024683065712451935, -0.010018127039074898, -0.0045760273933410645, 0.0010237768292427063, -0.00751151330769062, -0.0027668518014252186, 0.04093857854604721, 0.030545709654688835, 0.012599688954651356, 0.020419323816895485, 0.03590869903564453, 0.0015333230840042233, 0.04886647313833237, -0.008369257673621178, -0.017371416091918945, -0.03740767017006874, -0.018737144768238068, 0.012774568982422352, -0.017571277916431427, 0.007261684630066156, -0.014015384949743748, 0.014131971634924412, 0.010118057951331139, 0.011492115445435047, -0.037141185253858566, 0.0020621269941329956, 0.04636818915605545, 0.010784268379211426, 0.005004899576306343, 0.004380328115075827, 0.005537867546081543, -0.015522683970630169, -0.019103560596704483, -0.028796909376978874, 0.0041617280803620815, -0.003289409913122654, -0.01189184095710516, 0.0045593720860779285, -0.007840454578399658, 0.02291760966181755, -0.018953662365674973, 0.03997257724404335, 0.039506230503320694, -0.007344960700720549, -0.008835604414343834, 0.027747629210352898, -0.00954345241189003, -0.029030082747340202, 0.008348438888788223, 0.005741893779486418, -0.0025003678165376186, 0.004867494106292725, 0.0036953813396394253, 0.02431664988398552, -0.016938379034399986, -0.03241109848022461, 0.007932058535516262, -0.010917509905993938, -0.05925934389233589, -0.012499758042395115, 0.0037453470285981894, 0.018320763483643532, 0.010484473779797554, 0.000827557232696563, 0.011233959347009659, -0.0123998261988163, 0.004401147365570068, -0.010501128621399403, -0.008510828018188477, 0.0014937667874619365, 0.003653743304312229, -0.018154211342334747, -0.009368572384119034, -0.016680222004652023, 0.026515142992138863, 0.0009686063276603818, -0.0006979586323723197, -0.011175666004419327, -0.0074074179865419865, 0.007840454578399658, 0.01593073643743992, 0.0014063267735764384, -0.007336633279919624, -0.023633785545825958, 0.013140984810888767, -0.0056294710375368595, -0.015589304268360138, 0.02281767874956131, -0.03537572920322418, 0.006866122595965862, 0.0005014788475818932, 0.005346332211047411, 0.020236115902662277, 0.016305480152368546, 0.022734401747584343, 0.005812678951770067, -0.0020132020581513643, -0.0024816307704895735, 0.015189578756690025, 0.0020798230543732643, 0.046401496976614, -0.008777311071753502, -0.015605960041284561, 0.012241601012647152, -0.010601060464978218, -0.0005813719471916556, 0.00592093775048852, -0.0044719320721924305, 0.00696605397388339, -0.0059084463864564896, -0.001476070610806346, -0.03497600555419922, -0.023000886663794518, 0.027247972786426544, 0.021485259756445885, -0.020236115902662277, -0.021835019811987877, 0.013840504921972752, -0.01603899523615837, -0.01875380054116249, 0.010759284719824791, 0.04360342025756836, -0.019003629684448242, -0.06488881260156631, -0.010800923220813274, 0.012000100687146187, 0.043536797165870667, -0.023517198860645294, 0.014265213161706924, 0.022034883499145508, 0.019253456965088844, -0.001971564022824168, 0.006749535910785198, 0.02413344196975231, 0.008473353460431099, -0.017704520374536514, -0.0037078727036714554, -0.0025357604026794434, 0.016646912321448326, -0.030795538797974586, -0.0019486630335450172, 0.0007406377117149532, -0.04363672807812691, 0.019969632849097252, -0.016255514696240425, 0.009060450829565525, -0.018920352682471275, 0.03807387873530388, -0.01845400594174862, -0.007782160770148039, -0.011483787558972836, -0.006666259840130806, 0.009368572384119034, -0.014281868003308773, -0.014889784157276154, 0.004401147365570068, -0.007153425831347704, 0.004792545456439257, 0.012941121123731136, 0.023517198860645294, -0.027297938242554665, -0.02494954876601696, -0.058393269777297974, -0.013024398125708103, -0.015822477638721466, 0.012999414466321468, -0.03386010229587555, 0.017421381548047066, 0.0261154156178236, -0.014873129315674305, 0.005175615660846233, 0.03797394782304764, -0.017371416091918945, 0.011525426059961319, -0.005271383561193943, -0.013982074335217476, -0.016538653522729874, 0.009060450829565525, -0.012149997986853123, 0.014923094771802425, -0.003135348903015256, -0.03814049810171127, -0.01748800277709961, 0.004288724157959223, -0.003793230978772044, -0.031378474086523056, 0.011758599430322647, 0.007290831301361322, 0.004159646108746529, 0.03191144019365311, -0.02679828181862831, -0.009401882998645306, -0.011592047289013863, 0.031894784420728683, 0.021818364039063454, 0.040572166442871094, 0.0028896841686218977, -0.006632949225604534, -0.001709243981167674, -0.015680909156799316, -0.0009686063276603818, -0.0019382535247132182, 0.017171552404761314, 0.022118158638477325, 0.01613892801105976, -0.003162413602694869, -0.018304109573364258, -0.0016374182887375355, -0.0025919717736542225, 0.017504656687378883, -0.03667483851313591, 0.014948077499866486, -0.021984916180372238, 0.019636528566479683, -0.019686494022607803, 0.00869403500109911, -0.025998828932642937, -0.0028584555257111788, -0.014523369260132313, 0.013340847566723824, -0.020435979589819908, -0.018487315624952316, 0.021768398582935333, 0.011675323359668255, 0.03707456588745117, -0.009668366983532906, -0.02693152241408825, -0.011900168843567371, 0.003528828965499997, -0.016888413578271866, 0.0041908747516572475, -0.013091018423438072, 0.0017144487937912345, -0.004272068850696087, 0.012141670100390911, 0.014048694632947445, 0.012891155667603016, -0.005258892197161913, -0.032910753041505814, 0.010834233835339546, 0.001834158319979906, -0.015139613300561905, 0.010018127039074898, -0.0013490744167938828, 0.0071992273442447186, 0.013673951849341393, 0.022301366552710533, 0.015922410413622856, -0.012916138395667076, 0.022451262921094894, -0.02456647902727127, 0.006104145664721727, 0.01705496571958065, -0.01155873667448759, -0.04766729846596718, -0.032877445220947266, 0.007157589308917522, 0.008760656230151653, 0.010059764608740807, -0.024299995973706245, -0.030145984143018723, 0.0003187917172908783, -0.0013626068830490112, -0.011358873918652534, 0.028280597180128098, 0.005084012169390917, 0.01414862647652626, 0.01676349900662899, -0.009110416285693645, 0.003520501311868429, -0.005508720874786377, -0.0002110531204380095, -0.004913295619189739, 0.03251102939248085, -0.01182522065937519, 0.008106937631964684, -0.01444009318947792, -0.032394442707300186, -0.03734104707837105, 0.016072306782007217, -0.024166753515601158, -0.009093761444091797, 0.009993144311010838, -0.01041785255074501, 0.002945895539596677, -0.0008613882237114012, -0.0019986287225037813, 0.0044719320721924305, 0.004157564137130976, 0.02010287530720234, 0.012566378340125084, 0.007016019895672798, 0.01264132745563984, -0.003174905199557543, -0.009984816424548626, -0.021768398582935333, -0.00696605397388339, -0.020869016647338867, -0.014256885275244713, 0.012166652828454971, -0.02121877670288086, 0.020219461992383003, -0.014248558320105076, 0.009426865726709366, -0.012141670100390911, -0.023717062547802925, 0.006137455813586712, -0.0013292963849380612, 0.04063878580927849, -0.01807093620300293, 0.001994465012103319, 0.022601161152124405, 0.007840454578399658, 0.007432400714606047, -0.03284413367509842, -0.016705205664038658, -0.0005808515124954283, -0.010509456507861614, -0.0008207910577766597, 0.03770746290683746, -0.031128643080592155, -0.0010680172126740217, -0.01182522065937519, 0.04020575061440468, 0.04233761876821518, 0.018370728939771652, 0.00375575665384531, -0.009077105671167374, -0.0037474290002137423, -0.014156954362988472, -0.011900168843567371, 0.03256099298596382, 0.011125700548291206, 0.0173381045460701, -0.004070124123245478, -0.018004314973950386, -0.04663467034697533, 0.0038806709926575422, 0.024333305656909943, -0.021618502214550972, 0.0316949225962162, 0.023916924372315407, 0.0037515927106142044, 0.0023005050607025623, 0.0074074179865419865, -0.01448173075914383, -0.028213975951075554, -0.004796708934009075, 0.020968947559595108, 0.021002257242798805, -0.007145097944885492, -0.04097189009189606, 0.01850397139787674, -0.00866905227303505, -0.02916332520544529, -0.014831490814685822, 0.018337419256567955, -0.03847360610961914, -0.026365244761109352, -0.035975318402051926, -0.00353091093711555, -0.012974431738257408, -0.03186147287487984, -0.004967425484210253, 0.008860588073730469, -0.002142280340194702, -0.00891055352985859, 0.006570492405444384, 0.00011957941751461476, 0.037474289536476135, 0.005433772224932909, -0.03594200685620308, -0.053030285984277725, 0.046967778354883194, -0.021451950073242188, 0.029762914404273033, 0.023234060034155846, 0.06152445822954178, -0.027148041874170303, 0.020119529217481613, 0.007877928204834461, -0.027397869154810905, -0.0010680172126740217, 0.015056337229907513, -0.011592047289013863, -0.0086523974314332, -0.003524665255099535, 0.015805823728442192, 0.018903696909546852, 0.03329382464289665, 0.008893897756934166, 0.01092583779245615, 0.012824534438550472, -0.0008280777256004512, 0.004199202172458172, 0.012433136813342571, 0.004359508864581585, 0.004521897528320551, 0.01782110705971718, 0.004057632759213448, 0.008036153391003609, 0.0247663427144289, -0.009984816424548626, -0.02180171012878418, -0.0071409340016543865, -0.0011856448836624622, -0.012891155667603016, 0.018737144768238068, -0.01792103797197342, -0.009177037514746189, 0.022850988432765007, -0.019903011620044708, 0.008469189517199993, 0.012732931412756443, -0.02873028814792633, -0.022084848955273628, 0.033310480415821075, -0.011433822102844715, -0.023916924372315407, -0.03594200685620308, -0.0013834259007126093, -0.018004314973950386, 0.0346095897257328, 0.0016582373064011335, 0.011450477875769138, 0.012016755528748035, -0.001628049765713513, -0.01850397139787674, 0.003603777615353465, 0.007507349364459515, -0.009435193613171577, 0.023866958916187286, 0.014764870516955853, 0.02446654811501503, -0.03457627817988396, -0.01354071032255888, 0.017804451286792755, -0.023567164316773415, 0.0074074179865419865, -0.008569121360778809, -0.009959833696484566, 0.028746943920850754, 0.014340161345899105, -0.013066035695374012, -0.007016019895672798, -0.022850988432765007, 0.016022341325879097, 0.017721176147460938, -0.03296072036027908, -0.011716960929334164, 0.015589304268360138, 0.01647203229367733, 0.00045151315862312913, -0.015489373356103897, -0.0116003742441535, 0.061324592679739, 0.0057044196873903275, -0.017854416742920876, -0.006574655883014202, -0.027497801929712296, 0.0024941221345216036, 0.009526797570288181, -0.02853042632341385, -0.0011679487070068717, -0.008968846872448921, -0.011475460603833199, 0.01812090165913105, -0.012974431738257408, -0.0018830830231308937, -0.005196434911340475, 0.0025961354840546846, -0.0045885187573730946, 0.018887042999267578, -0.006162439007312059, 0.014431765303015709, 0.013973746448755264, 0.0060416883789002895, 0.020086219534277916, 0.015372786670923233, 0.014106987975537777, -0.005279710981994867, 0.020286083221435547, -0.010034781880676746, -0.02233467623591423, 0.004347017500549555, -0.016172237694263458, -0.003618350951001048, 0.006316499784588814, -0.011383856646716595, 0.006083326414227486, 0.0735495388507843, 0.015997357666492462, -0.00011073132191086188, 0.05309690535068512, -0.004630156792700291, -0.005458754952996969, -0.009751643054187298, 0.011142355389893055, -0.0008613882237114012, -0.006016705650836229, -0.04117175191640854, -0.016063978895545006, 0.0040159947238862514, 0.0030000251717865467, -0.00675786379724741, 0.0025295144878327847, 0.01562261488288641, -0.013732245191931725, 0.003403914626687765, -0.003974356688559055, 0.003104120260104537, 0.032827477902173996, 0.012308222241699696, -0.017238173633813858, -0.013424123637378216, -0.009027140215039253, 0.020386014133691788, -9.967120422516018e-05, -0.0001665524032432586, -0.004638484213501215, -0.004297052044421434, -0.027114730328321457, -0.007882092148065567, -0.012533067725598812, 0.028896842151880264, -0.0263985563069582, 0.005725238937884569, -0.013698934577405453, 0.015972375869750977, 0.00025373217067681253, -0.01574753038585186, 0.0002792355080600828, 0.001690506818704307, -0.005296366289258003, -0.02713138610124588, -0.026864903047680855, 0.021302051842212677, -0.005962575785815716, 0.019453320652246475, 0.004821692127734423, -0.0077904886566102505, 0.0043386900797486305, -0.016255514696240425, -0.02020280621945858, -0.003083301242440939, -0.008677380159497261, -0.012541395612061024, -0.02311747334897518, -0.02891349606215954, 0.010775940492749214, 0.015689237043261528, 0.024882929399609566, -0.017271483317017555, 0.007149261888116598, 0.00930195115506649, -0.0008312005666084588, 0.008177722804248333, 0.046334877610206604, -0.03580876439809799, 0.07201725989580154, -0.01753796823322773, 0.018953662365674973, 0.0028188994619995356, -0.0011658668518066406, 0.010168024338781834, -0.03047908842563629, 0.008398404344916344, -0.008177722804248333, 0.003510091919451952, -0.024050166830420494, -0.00010832412226591259, -0.0021110516972839832, -0.014798181131482124, 0.010326248593628407, -0.005446263588964939, -0.02325071580708027, 0.019603217020630836, 0.022551195695996284, 0.008048644289374352, 0.007615608628839254, -0.024116788059473038, -0.026198692619800568, -0.030245915055274963, 0.011542080901563168, -0.0047800540924072266, 0.03259430453181267, 0.013673951849341393, -0.003391423262655735, -0.01445674803107977, -0.009368572384119034, -0.014057022519409657, -0.013024398125708103, -0.025066135451197624, -0.03149506077170372, 0.007607280742377043, -0.005746057722717524, 2.4397324523306452e-05, 0.0025649070739746094, 0.022201435640454292, 0.01981973648071289, -0.0008931372431106865, 0.01210835948586464, -0.003191560273990035, 0.00010207840387010947, 0.03251102939248085, -0.008727345615625381, 0.005371314939111471, -0.010492801666259766, -0.005858480464667082, -0.0012803715653717518, -0.024050166830420494, -0.02175174281001091, 0.008098610676825047, -0.024333305656909943, 0.005471246317028999, 0.014906439930200577, -0.013765555806457996, -0.009376900270581245, -0.004245004151016474, 0.005188107490539551, 0.014673266559839249, 0.02156853675842285, -0.029429808259010315, -0.005558686330914497, -0.022034883499145508, -0.0005064234137535095, -0.004213775508105755, 0.024716375395655632, -0.019070249050855637, 0.024866273626685143, -0.0038202956784516573, 0.013390813022851944, -0.00709929596632719, 0.020419323816895485, -0.00734079722315073, 0.003295655595138669, -0.005929265636950731, 0.002902175532653928, 0.04230431094765663, -0.02548251673579216, 0.006412267219275236, -0.016113944351673126, -0.019736459478735924, -0.015097974799573421, -0.009043795056641102, -0.004896640777587891, -0.0178377628326416, -0.00804448127746582, 0.01446507591754198, -0.014673266559839249, 0.004996572155505419, 0.011075735092163086, -0.018537282943725586, 0.013707262463867664, 0.010251300409436226, -0.0002940690901596099, 0.015031354501843452, 0.029712948948144913, 0.003859851974993944, -0.014032039791345596, 0.00736577995121479, -0.002981287892907858, -0.007394926622509956, 0.02941315434873104, -0.031078677624464035, 0.003449716605246067, -0.02190164104104042, -0.009635056369006634, -0.00922700297087431, 0.00375575665384531, -0.02165181189775467, 0.020286083221435547, 0.004090943373739719, -0.017354760318994522, 0.02888018637895584, -0.03477614000439644, -0.006341482512652874, 0.02345057763159275, 0.008569121360778809, -0.0351758673787117, 0.014648283831775188, -0.00862741470336914, -0.022168124094605446, -0.008868915028870106, -0.013657297007739544, 0.00414090882986784, -0.008248507976531982, 0.008744001388549805, 0.012316550128161907, 0.016005685552954674, -0.05366318300366402, 0.001962195383384824, -0.01593073643743992, -0.008294309489428997, -6.031018710928038e-05, 0.0019278440158814192, -0.003214461263269186, -0.014356817118823528, -0.01041785255074501, 0.0026502651162445545, -0.00030499909189529717, -0.019486630335450172, 0.003424733644351363, -0.011625357903540134, 0.011608702130615711, -0.03177819773554802, 0.007707212120294571, -0.006000050343573093, -0.013823849149048328, -0.012791224755346775, -0.058359961956739426, 0.003010434564203024, -0.005454591009765863, -0.004755070898681879, 0.02093563601374626, 0.009701677598059177, -0.012258256785571575, 0.0024795487988740206, 0.02005290985107422, 0.019786424934864044, -0.010700991377234459, -0.009460176341235638, 0.004888312891125679, 0.009435193613171577, 0.01182522065937519, -0.028164010494947433, 0.0023005050607025623, 0.0025711527559906244, -0.013915453106164932, -0.0002883438428398222, 0.020469289273023605, 0.013432451523840427, 0.009959833696484566, -0.022318022325634956, -0.003976438660174608, 0.005396297667175531, 0.03387675806879997, 0.01300774235278368, -0.000950389658100903, 0.028280597180128098, 0.010209661908447742, -0.0011814810568466783, 0.03162829950451851, 0.03734104707837105, 0.008660724386572838, 0.026415210217237473, 0.03707456588745117, 0.0038765070494264364, 0.02631527930498123, -0.0024733031168580055, -0.03312727063894272, -0.013157639652490616, -0.0074074179865419865, 0.011042424477636814, 0.02045263536274433, 0.02659841813147068, 0.004567699506878853, 0.024499857798218727, 0.013532382436096668, -0.0063373190350830555, -0.009943177923560143, 0.03337709978222847, -0.029513085260987282, 0.0045302254147827625, 0.0009134358260780573, -0.006287353113293648, 0.004730088170617819, 0.028447149321436882, -0.0012741258833557367, 0.009260313585400581, 0.019536595791578293, -0.007915402762591839, 0.016447048634290695, -0.00333104794844985, -0.013723918236792088, 0.014057022519409657, 0.026048796251416206, -0.07768003642559052, 0.02398354560136795, -0.01822083257138729, -0.009318606927990913, 0.0023692077957093716, 0.032344475388526917, -0.001388630596920848, -0.020802395418286324, 0.01618056558072567, -0.026565108448266983, -0.010775940492749214, 0.003428897587582469, 0.003439306979998946, 0.013232587836682796, -0.007690557278692722, 0.013107674196362495, -0.007478202693164349, 0.004521897528320551, -0.03957284986972809, 0.014914767816662788, -0.013082691468298435, -0.03507593646645546, -0.014473403804004192, 0.0009509100927971303, -0.0116003742441535, -0.038640156388282776, -0.009152054786682129, 0.016338789835572243, -0.036508284509181976, -0.03351034224033356, 0.018820421770215034, 0.0018258306663483381, -0.0064539057202637196, -0.006607966497540474, 0.01579749584197998, 0.002069413661956787, 0.008152740076184273, 0.03216126933693886, 0.016355445608496666, 0.012907811440527439, -0.017038309946656227, 0.00896051898598671, -0.004317870829254389, 0.02136867307126522, 0.015922410413622856, 0.017621243372559547, -0.023633785545825958, -0.021668467670679092, 0.008244344033300877, 0.023000886663794518, 0.019436664879322052, -0.02558244951069355, 0.03329382464289665, 0.013240915723145008, 0.003074973588809371, 0.03126188740134239, 0.004149236716330051, 0.03179485350847244, -0.010334576480090618, -0.004421966150403023, 0.004065960645675659, -0.013474089093506336, -0.01880376599729061, -0.0178377628326416, 0.0027710155118256807, 0.014023711904883385, 0.03322720527648926, 0.004521897528320551, 0.011025768704712391, 0.01822083257138729, -0.00777799729257822, -0.005508720874786377, 0.008885570801794529, -0.009576763026416302, -0.003662070957943797, -0.010642698034644127, -0.013823849149048328, 0.022318022325634956, 0.02418340928852558, 0.015139613300561905, -0.01180023793131113, 0.018304109573364258, -0.00634564645588398, 0.03056236542761326, 0.031811509281396866, 0.017188208177685738, 0.010534439235925674, -0.02383364923298359, -0.0030666461680084467, -0.027014799416065216, -0.04073871672153473, -0.00607916247099638, 0.022634470835328102, -0.008186050690710545, 0.019886355847120285, -0.009110416285693645, 0.036408353596925735, -0.019853046163916588, -0.017937693744897842, -0.013590675778687, 0.0069952006451785564, -0.02858039177954197, -0.006524690426886082, 0.0012512248940765858, -0.0007781119784340262, -0.007253357209265232, -0.02233467623591423, -0.0027876708190888166, -0.013024398125708103, 0.014381799846887589, -0.007249193266034126, -0.003426815615966916, -0.009843247011303902, -0.0004741538723465055, -0.006241551134735346, -0.011733616702258587, -0.002020488725975156, 0.0006734962807968259, 0.007890420034527779, -0.02083570510149002, -0.0010550053557381034, -0.009826591238379478, -0.018137555569410324, 0.015481045469641685, 0.005616979673504829, -0.005271383561193943, 0.03399334475398064, -0.004825855605304241, -0.012191635556519032, -0.0005844948464073241, -0.0028771928045898676, -0.0018591411644592881, 0.003734937636181712, 0.004211694002151489, -0.009485159069299698, 0.006124964449554682, -0.009035468101501465, -0.01792103797197342, 0.015081319957971573, -0.02286764420568943, -0.012724603526294231, 0.0027168861124664545, 0.005300530232489109, -0.010292937979102135, -0.008735673502087593, -0.018304109573364258, 0.00424916809424758, -0.0021797544322907925, 0.011067407205700874, 0.01095082052052021, -0.03977271169424057, -0.003485108958557248, -0.005991722457110882, 0.008752328343689442, 0.004946606233716011, -0.0011023686965927482, -0.00043303624261170626, -0.008635741658508778, 0.009993144311010838, -0.0263985563069582, 0.0036579070147126913, -0.0011554572265595198, -0.007507349364459515, 0.008410896174609661, 0.010834233835339546, 0.019170181825757027, 0.009685021825134754, 0.012674638070166111, -0.009335261769592762, 0.009218675084412098, -0.00720755523070693, -0.0007760300650261343, 0.0010919591877609491, -0.014373471960425377, -0.008469189517199993, 0.02819732204079628, 0.011991772800683975, -0.028413839638233185, 0.009893212467432022, 0.01528118271380663, 0.007453219965100288, -0.006591311190277338, 0.009501814842224121, -0.012732931412756443, 0.0026856574695557356, -0.0025565794203430414, -0.012008427642285824, 0.003114529885351658, -0.02466640993952751, 0.015997357666492462, 0.021535225212574005, -0.0007099296199157834, 0.009368572384119034, 0.04660136252641678, -0.0022338840644806623, -0.03187812864780426, -0.007936221547424793, -0.013665624894201756, 0.0025378421414643526, 0.0028626194689422846, -0.005204762332141399, -0.018437350168824196, 0.0021776726935058832, 0.022701092064380646, -0.011583719402551651, 0.0027751794550567865, 0.01725482940673828, 0.02713138610124588, 0.005175615660846233, 0.008211033418774605, -0.0025003678165376186, -0.022950921207666397, -0.020219461992383003, 0.03027922660112381, 0.01559763215482235, -0.01827079802751541, 0.010850888676941395, 0.022151470184326172, -0.006986873224377632, -0.001605148776434362, 0.03760753199458122, -0.005267219617962837, 0.006924415938556194, -0.016796808689832687, -0.007457383908331394, -0.03484276309609413, 0.004421966150403023, 0.0011096553644165397, -0.0017633734969422221, 0.003539238590747118, -0.014448421075940132, -0.02964632771909237, 0.013432451523840427, -0.0012106277281418443, -0.023800337687134743, -0.014473403804004192, -0.017521312460303307, 0.02543255127966404, -0.0026211184449493885, 0.000852540077175945, 0.005192270968109369, 0.015347803942859173, -0.01728813908994198, 0.019636528566479683, -0.010717647150158882, 0.002041307743638754, 0.0075698066502809525, -0.014556679874658585, -0.008852260187268257, 0.010567749850451946, -0.0025649070739746094, -0.031711578369140625, -0.011275597847998142, 0.03317723795771599, -0.019969632849097252, -0.016147255897521973, -0.0027876708190888166, 0.003137430874630809, -0.019270112738013268, -0.011192320846021175, -0.002937567885965109, 0.008131921291351318, 0.007586461957544088, 0.0019403354963287711, 0.01938669942319393, 0.0213187076151371, 0.013174294494092464, -0.02073577418923378, 0.009909868240356445, -0.0038286233320832253, -0.0277143195271492, 0.01589742675423622, 0.013765555806457996, -0.030978746712207794, -0.02058587595820427, 0.014306851662695408, 0.00789874792098999, 0.003152004210278392, -0.005300530232489109, 0.004821692127734423, 0.016638584434986115, -0.032877445220947266, -0.018720488995313644, -0.010909182019531727, -0.021585190668702126, 0.00023785764642525464, -0.01562261488288641, -0.0043386900797486305, -0.01598902978003025, -0.011708633974194527, 0.0013303372543305159, -0.007469875272363424, -0.013440778478980064, -0.001823748811148107, 0.001634295447729528, 0.009060450829565525, -0.022451262921094894, -0.005508720874786377, 0.028863530606031418, -0.010217989794909954, 0.016838448122143745, 0.022318022325634956, -0.00796536821871996, -0.010576077736914158, -0.03990595415234566, 0.012075048871338367, -0.036408353596925735, 0.0009326934232376516, 0.013607331551611423, 0.005875135771930218, 0.0043969834223389626, 0.010517784394323826, 0.00040336910751648247, -0.0014667020877823234, 0.009501814842224121, -0.012899483554065228, 0.008381749503314495, -0.008219361305236816, 0.01126726996153593, -0.02543255127966404, -0.0019205573480576277, 4.17682203988079e-05, 0.012075048871338367, -0.009701677598059177, -0.003004188882187009, 0.0013011905830353498, -0.02286764420568943, 0.02543255127966404, 0.00084629439515993, -0.03530910983681679, 0.021202120929956436, -0.0027876708190888166, 0.005225581582635641, -0.001519790617749095, -0.006183257792145014, 0.006558000575751066, -0.012616344727575779, -0.023800337687134743, 0.00891055352985859, -0.0018164621433243155, 0.013765555806457996, 0.013549038209021091, -0.009027140215039253, -0.006037524435669184, -0.008635741658508778, 0.009610073640942574, 0.01441511046141386, 0.02271774783730507, 0.018687179312109947, -0.005167288240045309, -0.006258206441998482, -0.0014708659145981073, 0.0011273515410721302, 0.008444206789135933, 0.029146669432520866, 0.008385913446545601, -0.00044318553409539163, 0.02829725295305252, -0.003195724217221141, -0.005071520805358887, 0.022834334522485733, -0.009751643054187298, 0.001501053455285728, 0.019303422421216965, 0.013157639652490616, -0.012841190211474895, 0.007698884699493647, -0.009876557625830173, 0.0013938354095444083, -0.019303422421216965, -0.006562164518982172, -0.005117322318255901, 0.018587248399853706, -0.018054280430078506, 0.00019608942966442555, 0.008327620103955269, -0.010584404692053795, -0.0025544974487274885, -0.0237337164580822, -0.006641277112066746, 0.008077790960669518, 0.010784268379211426, 0.0008384872344322503, 0.01276624109596014, -0.02271774783730507, -0.005900118965655565, -0.01126726996153593, -0.0351758673787117, -0.004392819479107857, -0.0044136387296020985, 0.007057657930999994, -0.01923680305480957, 0.013116001151502132, 0.004551044199615717, -0.0009597581811249256, -0.010767612606287003, -0.007994514890015125, 0.007994514890015125, 0.0024878764525055885, -0.0029792061541229486, -0.018204176798462868, -0.007132606580853462, 0.0011054915376007557, 0.005242236889898777, 0.019270112738013268, 0.006499707233160734, 0.0011773172300308943, -0.008777311071753502, 0.0026939851231873035, 0.008390077389776707, 0.003272754605859518, -0.01632213592529297, -4.264652307028882e-05, 0.001129433512687683, -0.0001199697726406157, -0.005583669058978558, -0.02155188098549843, -0.01690506935119629, 0.005358823575079441, -0.013948763720691204, 0.01503968145698309, 0.005213090218603611, -0.028114045038819313, -0.007548987399786711, -0.001782110659405589, -0.014981388114392757, -0.011492115445435047, -0.023217404261231422, -0.00694107124581933, 0.0207857396453619, -0.008115265518426895, 0.011642012745141983, 0.03430979326367378, -0.019803080707788467, -0.013415795750916004, -0.03983933478593826, -0.014131971634924412, -0.004165892023593187, 0.011483787558972836, -0.03222788870334625, 0.005142305511981249, -0.006578819826245308, -0.002945895539596677, -0.006295680534094572, 0.0076280999928712845, 0.014015384949743748, 0.0020923144184052944, -0.011783582158386707, -0.011683651246130466, 0.011458804830908775, -0.010309593752026558, 0.01563926972448826, -0.0025982174556702375, -0.009576763026416302, -0.02330068126320839, -0.00722004659473896, 0.010201334953308105, -0.02911335974931717, 0.0057044196873903275, -0.03319389373064041, -0.014581662602722645, 0.003535074647516012, -0.012832862325012684, -0.012308222241699696, 0.0005678395973518491, 0.008527482859790325, -0.013648969121277332, -0.0024066821206361055, -0.0012501839082688093, -0.0014156954130157828, 0.014298523776233196, -0.01499804388731718, -0.014373471960425377, -0.011258942075073719, 0.01046781800687313, -0.014057022519409657, 0.0008660724852234125, -0.014614973217248917, 0.0029646328184753656, -0.0047509074211120605, -0.03167826682329178, -0.022251401096582413, 0.01182522065937519, 0.005837661679834127, -0.010934164747595787, -0.019503286108374596, 0.00893553625792265, -0.028513770550489426, -0.027830906212329865, -0.03367689624428749, -0.00975997094064951, -0.012008427642285824, 0.005875135771930218, 0.01209170464426279, -0.017721176147460938, 0.02616538293659687, -0.014007057063281536, 0.011408839374780655, -0.00825683493167162, 0.03319389373064041, 0.0006276943604461849, -0.012682965025305748, -0.03182816505432129, 0.003181150881573558, -0.020652497187256813, 0.001657196437008679, -0.012774568982422352, 0.004542716778814793, -0.015714218840003014, 0.009710004553198814, -0.011467132717370987, -0.02989615499973297, 0.009368572384119034, 0.0005160521832294762, -0.008015334606170654, 0.0027023127768188715, -0.009343589656054974, -0.0056294710375368595, 0.012100031599402428, 0.020719118416309357, -0.012299894355237484, 0.004155482165515423, -0.005009063519537449, -0.016122272238135338, 0.0017248583026230335, -0.024433236569166183, -0.016172237694263458, -0.01976976916193962, -0.004650975577533245, -0.01817086711525917, -0.02111884392797947, -0.01883707568049431, 0.022084848955273628, 0.004076370038092136, -0.0009326934232376516, -0.01685510203242302, -0.004438621457666159, -0.006270697806030512, -0.021718433126807213, -0.010934164747595787, 0.022684436291456223, 0.009984816424548626, -0.003220706945285201, 0.012724603526294231, -0.011708633974194527, -0.0022276383824646473, 0.006291517056524754, -0.01618889346718788, 0.009934850968420506, 0.0028834384866058826, 0.0006464315229095519, 0.006687079090625048, 0.023800337687134743, -0.003114529885351658, -0.01720486208796501, -0.010326248593628407, -0.019253456965088844, -0.029246602207422256, -0.004113844130188227, -0.012075048871338367, -0.018953662365674973, -0.029962776228785515, 0.013923780992627144, -0.023567164316773415, -0.009826591238379478, -0.0025357604026794434, 0.006074998993426561, -0.01407367829233408, -0.039606161415576935, 0.009376900270581245, -0.0005621143500320613, 0.05343000963330269, -0.006974381860345602, 0.01409866102039814, -0.0010347068309783936, -0.0013907125685364008, -0.006949399132281542, 0.011183993890881538, 0.030395813286304474, -0.005088175646960735, -0.017704520374536514, 0.014698249287903309, 0.03022926114499569, -0.003816131968051195, 0.013748900964856148, 0.005009063519537449, 0.013174294494092464, 0.037907324731349945, -0.022034883499145508, -0.01956990733742714, 0.009077105671167374, -0.016072306782007217, -0.0029646328184753656, 0.04083864763379097, 0.013215932995080948, 0.0008280777256004512, -0.026381900534033775, -0.003164495574310422, 0.021352017298340797, 0.005533703602850437, 0.017088275402784348, -0.02474968694150448, 0.004199202172458172, -0.029080048203468323, 0.025898898020386696, -0.0130577078089118, 0.007957041263580322, -0.006741208489984274, 0.025615759193897247, 0.010276283137500286, 0.01675517112016678, -0.00036537431878969073, -0.028946807608008385, 0.016630256548523903, -0.004638484213501215, 0.0020808640401810408, 0.008352602832019329, 0.014923094771802425, -0.0003518419398460537, -0.0046343207359313965, 0.018887042999267578, 0.015147941187024117, -0.01880376599729061, 0.006295680534094572, 0.015522683970630169, 0.02058587595820427, 0.0037661660462617874, 0.006961890496313572, -0.022834334522485733, -0.014181937091052532, -0.025449207052588463, -0.006620457861572504, -1.75172790477518e-05, -0.0038827527314424515, 0.021102190017700195, 0.0004601010004989803, 0.024583134800195694, -0.011716960929334164, -0.006703733932226896, 0.0011127782054245472, 0.03362692892551422, -0.011492115445435047, 0.00402224063873291, -0.008594104088842869, -0.015764184296131134, -0.005783532280474901, -0.01758793368935585, -0.019636528566479683, -0.01743803545832634, 0.00922700297087431, -0.005633634980767965, 0.015431080013513565, 0.011675323359668255, 0.0042803967371582985, -0.009351917542517185, -0.012466447427868843, 0.028996773064136505, 0.007482366636395454, 0.008319292217493057, 0.000919161073397845, -0.02146860398352146, -0.009701677598059177, 0.00678284652531147, -0.005242236889898777, -0.0006011500954627991, 0.003360194619745016, -0.009751643054187298, -0.008011170662939548, -0.006074998993426561, -3.051291969313752e-05, 0.006957726553082466, 0.005092339590191841, -0.018154211342334747, -0.015122957527637482, -0.010267955251038074, -0.01295777689665556, -0.014598317444324493, -0.01153375394642353, -0.016638584434986115, 0.020186150446534157, -0.00664960453286767, -0.003433061297982931, -0.014873129315674305, -0.02766435407102108, -0.021668467670679092, -0.0007593748741783202, -0.012866172939538956, -0.0071950638666749, 0.008144412189722061, -0.00618742173537612, 0.007286667358130217, -0.005912610329687595, -0.007707212120294571, 0.0026440194342285395, 0.0012387335300445557, -0.004124253988265991, 0.01748800277709961, -0.005179779604077339, 0.0015916164265945554, 0.0059084463864564896, -0.0008051767363213003, -0.018204176798462868, -0.013648969121277332, -0.013915453106164932, -0.014806508086621761, -0.018820421770215034, 0.0038994080387055874, -0.015439407899975777, -0.030412469059228897, 0.026048796251416206, 0.0162721686065197, 0.005304694175720215, -0.005621143616735935, 0.003210297552868724, 0.0024566478095948696, 0.008494172245264053, -0.012891155667603016, 0.0022671944461762905, 0.01327422633767128, -0.014190264977514744, 0.0062498790211975574, 0.0263985563069582, 0.0373077392578125, 0.004024322144687176, -0.012516412883996964, -0.0028230631723999977, 0.005229745525866747, 0.011941807344555855, 0.0012220782227814198, -0.0067953378893435, 0.024449892342090607, -0.0197198037058115, 0.019753115251660347, -0.022018227726221085, -0.02165181189775467, -0.018587248399853706, 0.013024398125708103, -0.018087590113282204, 0.0037224460393190384, 0.0017602506559342146, -0.0038681793957948685, -0.01633046194911003, -0.003229034598916769, 0.019170181825757027, 0.00869403500109911, -0.004913295619189739, 0.006216568406671286, 0.024733031168580055, -0.017354760318994522, -0.014215247705578804, 0.005729402415454388, 0.01603899523615837, -0.0029646328184753656, 0.007607280742377043, 0.006678751204162836, 0.010642698034644127, 0.02738121524453163, -0.007182572036981583, -0.0023421430960297585, 0.006849467288702726, -0.011125700548291206, 0.025299308821558952, -0.0021401983685791492, 0.009085433557629585, -0.013482416979968548, 0.022034883499145508, 0.018537282943725586, 0.010567749850451946, -0.011950134299695492, 0.02045263536274433, 0.008544137701392174, 0.0037037089932709932, 0.0031832328531891108, 0.017221517860889435, 0.004267905373126268, 3.971884507336654e-05, -0.011400511488318443, 0.004392819479107857, -0.0029354861471801996, -0.012574706226587296, 0.0060708350501954556, 0.0016853021224960685, -0.0237337164580822, -0.017188208177685738, -0.0038827527314424515, 0.00183832214679569, -0.016580291092395782, 0.006591311190277338, 0.01218330767005682, -0.015247872099280357, 0.0024545660708099604, -0.015422752127051353, -0.0013521972578018904, -0.0021120926830917597, -0.008927208371460438, -0.003460126230493188, 0.019436664879322052, -0.0008041358087211847, 0.003308146959170699, -0.0011356791947036982, 0.01334917452186346, 0.023633785545825958, -0.004297052044421434, 0.002841800218448043, -0.029729602858424187, -0.004322034772485495, 0.0158474612981081, -0.01933673396706581, 0.0047800540924072266, -0.015964047983288765, -0.007877928204834461, -0.016580291092395782, 0.024599788710474968, -0.017371416091918945, -0.004070124123245478, 5.656926077790558e-05, 0.028863530606031418, -0.006724553182721138, 0.011333891190588474, -0.0064539057202637196, 0.02573234587907791, 0.006811993196606636, -0.00337268621660769, 0.005442099645733833, -0.004421966150403023, -0.014281868003308773, 0.004170055501163006, 0.0029396498575806618, -0.0037620023358613253, 0.0133241917937994, 0.012508084997534752, -0.01565592549741268, -0.0007833167328499258, 0.011833547614514828, 0.0063664657063782215, -0.022367987781763077, -0.005504556931555271, -0.005941757000982761, -0.004684286192059517, 0.0008135043899528682, 0.00018541965982876718, -0.01349074486643076, 0.018337419256567955, -0.0133241917937994, -0.0028376365080475807, 0.013374158181250095, -0.0045010787434875965, -1.6264883129224472e-07, -0.009235330857336521, -0.027597732841968536, -0.001973645994439721, 0.01445674803107977, -0.015955720096826553, 0.013557365164160728, -0.0027647698298096657, -0.015614287927746773, 0.006399775855243206, -0.010459491051733494, -0.02819732204079628, 0.0010362681932747364, 0.0013417877489700913, -0.011042424477636814, -0.0024046003818511963, 0.00869403500109911, -0.004717596806585789, -0.015589304268360138, -0.0012616344029083848, 0.008019497618079185, -0.011500443331897259, 0.008023661561310291, -0.019536595791578293, -7.644495099157211e-07, 0.02418340928852558, 0.007611444685608149, 0.0019330488285049796, 0.0021089697256684303, 0.0017727421363815665, 0.009235330857336521, 0.012341532856225967, 0.01189184095710516, 0.014256885275244713, 0.00951846968382597, -0.020852360874414444, 0.017887728288769722, -0.00043199528590776026, -0.0025649070739746094, 0.005171452183276415, -0.02858039177954197, -0.01378221157938242, -0.008127757348120213, -0.0007739482098259032, -0.0121333422139287, -0.0025191050954163074, 0.001723817316815257, -0.0002404600236332044, -0.0002560743014328182, 0.004492750857025385, -0.0014094497309997678, -0.013116001151502132, 0.012208291329443455, -0.017771141603589058, 0.0038286233320832253, 0.02621534839272499, -0.03017929568886757, -0.015156268142163754, -0.00011905893916264176, 0.014206919819116592, 0.029396498575806618, 0.0057169110514223576, -0.03042912296950817, 0.0014687839429825544, 0.010326248593628407, -0.0075822980143129826, -0.012249928899109364, 0.0022734403610229492, 0.012499758042395115, 0.0013324192259460688, 0.010692664422094822, 0.0314784049987793, 0.006270697806030512, -0.018637213855981827, -0.009260313585400581, -0.016405411064624786, -0.004215857479721308, -0.010009799152612686, -0.004671794828027487, 0.0010357477003708482, 0.02576565556228161, -0.005487901624292135, -0.006016705650836229, 0.019170181825757027, -0.011733616702258587, 0.0037078727036714554, -0.008119429461658001, -0.027497801929712296, -0.007011855952441692, -0.009651711210608482, 0.007969532161951065, 0.0003981643239967525, -0.018520627170801163, -0.005500392988324165, 0.0005610734224319458, 0.0004457879113033414, 0.0047800540924072266, -0.01743803545832634, -0.010917509905993938, -0.00621240446344018, 0.008860588073730469, -0.0008384872344322503, 0.011691978201270103, 0.010984131135046482, 0.00789874792098999, 0.052197523415088654, -0.02335064671933651, 0.008206869475543499, 0.012732931412756443, -0.0024566478095948696, 0.002215147018432617, 0.020036254078149796, -0.0005100667476654053, 0.01209170464426279, 0.01005143765360117, -0.00782796274870634, 0.0009753725025802851, -0.0007349124643951654, 0.023900268599390984, -0.00946850422769785, -0.018370728939771652, -0.0027647698298096657, 0.0009717291686683893, 0.00302708987146616, 0.011034096591174603, 0.022834334522485733, -0.007444892078638077, 0.02936318889260292, -0.01380719430744648, -0.02518272213637829, 0.0018841240089386702, -0.024549823254346848, -0.010159696452319622, 0.012657982297241688, 0.005729402415454388, 0.012066720984876156, -0.03372685983777046, -0.008827277459204197, -0.0024129278026521206, 0.011433822102844715, 0.003972274716943502, -0.016546981409192085, 0.005937593057751656, 0.0007448015385307372, 0.005517048295587301, -0.00341016030870378, -0.0038556880317628384, 0.00402224063873291, -0.009751643054187298, -0.015048009343445301, -0.02048594504594803, -0.023467233404517174, -0.0039868480525910854, 0.021235430613160133, 0.012624671682715416, -0.009843247011303902, 0.009160381741821766, -0.0025690707843750715, -0.011675323359668255, 0.011883514001965523, -0.005200598854571581, -0.015997357666492462, 0.011492115445435047, -0.00036537431878969073, 0.006720389239490032, 0.004813364241272211, -0.02045263536274433, 0.00978495366871357, 0.0006313376943580806, 0.016771826893091202, 0.0038348690140992403, 0.00689110578969121, -0.009751643054187298, 0.01468159444630146, 0.011642012745141983, 0.012241601012647152, -0.02111884392797947, 0.01860390231013298, 0.01129225268959999, 0.012000100687146187, 0.01046781800687313, -0.006499707233160734, -0.029862845316529274, -0.020186150446534157, -0.0037078727036714554, 0.0016332544619217515, -0.008477517403662205, 0.003181150881573558, -0.009326934814453125, 0.006574655883014202, 0.0173047948628664, 0.025882242247462273, 0.03002939745783806, -0.01850397139787674, -0.013207605108618736, -0.007611444685608149, 0.011642012745141983, 0.011092389933764935, -0.0019382535247132182, 0.007911238819360733, 0.01676349900662899, 0.004151318687945604, -0.011816892772912979, -0.003493436612188816, -0.010043109767138958, 0.008902225643396378, 0.001484398264437914, -0.011483787558972836, 0.007982023991644382, 0.012533067725598812, -0.003056236542761326, -0.01860390231013298, -0.031128643080592155, 0.020769083872437477, -0.004763398785144091, 0.016930051147937775, 0.016546981409192085, -0.01448173075914383, -0.008594104088842869, 0.008052808232605457, -0.011816892772912979, -0.017787795513868332, 0.017354760318994522, -0.003991011995822191, -0.01324924360960722, 0.004099270794540644, -0.03274420276284218, -0.0026939851231873035, -0.02558244951069355, -0.01298275962471962, 0.00578769575804472, -0.018004314973950386, 0.015447734855115414, -0.01327422633767128, -0.001734226825647056, -0.008585776202380657, 0.01182522065937519, -0.016005685552954674, 0.005691928323358297, 0.011467132717370987, -0.011233959347009659, 0.00622489582747221, 0.0020423487294465303, 0.005533703602850437, -0.01295777689665556, -0.019753115251660347, -0.009643384255468845, 0.005708583630621433, -0.02413344196975231, 0.004517734050750732, -0.002981287892907858, 0.0017373497830703855, 0.0003156688471790403, 0.011500443331897259, 0.008285981602966785, -0.006274861749261618, 0.007894583977758884, -0.0013209687313064933, 0.0023900270462036133, -0.007902911864221096, -0.003936882596462965, -0.03246106207370758, 0.004051387310028076, 0.005962575785815716, 0.008027825504541397, -0.0045885187573730946, 0.019736459478735924, 0.011666995473206043, 0.009085433557629585, -0.005017390940338373, -0.02548251673579216, 0.009068777784705162, -0.005317185539752245, -0.012724603526294231, -0.0007349124643951654, 0.01041785255074501, 0.0043261987157166, -0.009485159069299698, 0.0058501530438661575, -0.012125014327466488, 0.01060938835144043, -0.015089647844433784, -0.01503968145698309, -0.0008827277342788875, 0.026148727163672447, -0.0038536060601472855, 0.0070826406590640545, 0.006179093848913908, 0.013116001151502132, 0.005700255744159222, 0.00852331891655922, -0.0037162003573030233, 0.004211694002151489, 0.00709929596632719, 0.015189578756690025, -0.016680222004652023, -0.006445577833801508, -0.005987558979541063, -0.008710690774023533, 0.0013969582505524158, -0.02015284076333046, -0.005358823575079441, 0.02340061217546463, -0.0014542106073349714, 0.02160184644162655, -0.01938669942319393, 0.008810621686279774, 0.007411581929773092, -0.006553837098181248, -0.011658667586743832, -0.004888312891125679, 0.016921723261475563, 0.017029982060194016, -0.020602531731128693, -0.012616344727575779, -0.009943177923560143, -0.005292202346026897, -0.014373471960425377, 0.009651711210608482, 0.008086118847131729, -0.0030145985074341297, -0.0077904886566102505, -0.008710690774023533, 0.023866958916187286, 0.0021058470010757446, -0.005929265636950731, -0.0025482517667114735, 0.013432451523840427, 0.011475460603833199, 0.01445674803107977, -0.0071867359802126884, -0.00022302407887764275, 0.02058587595820427, 0.006999364588409662, 0.003453880315646529, -0.008544137701392174, -0.021002257242798805, 0.004938278812915087, 0.007394926622509956, -0.01097580324858427, -0.02330068126320839, 0.005583669058978558, 0.011050751432776451, -0.005700255744159222, 0.0075406599789857864, 0.003068727906793356, -0.010009799152612686, 0.007586461957544088, -0.012949449010193348, -0.006420595105737448, -0.007415745407342911, -0.004700941499322653, -0.01870383508503437, 0.005038210190832615, -0.008348438888788223, -0.012674638070166111, -0.01573920249938965, -0.012341532856225967, -0.015547666698694229, 0.02873028814792633, -0.007328305393457413, -0.023700406774878502, -0.015614287927746773, -0.03424317389726639, -0.014914767816662788, -0.016655240207910538, 0.0184040404856205, 0.0016748926136642694, -0.014989716000854969, -0.017954349517822266, 0.007382435258477926, -0.010842561721801758, 0.007003528531640768, -0.004800872877240181, -0.005038210190832615, 0.016938379034399986, 0.010501128621399403, -0.007032675202935934, 0.010542767122387886, -0.0021922460291534662, 0.0046926140785217285, -0.010917509905993938, 0.009626728482544422, 0.014248558320105076, -0.006778682582080364, 0.0002379877696512267, -0.019853046163916588, 0.0028397184796631336, 0.013232587836682796, 0.02629862353205681, -0.0006401857826858759, 0.022651126608252525, -0.00023382395738735795, 0.01738807000219822, -0.014540024101734161, -0.0073324693366885185, 0.026914868503808975, -0.0038494423497468233, -0.00848168134689331, -0.0011970953783020377, 0.004800872877240181, 0.006678751204162836, 0.009968161582946777, -0.021135499700903893, 0.0055420310236513615, 0.0009665244142524898, 0.005916773807257414, -0.018037624657154083, -0.007794652134180069, 0.024449892342090607, 0.010001471266150475, 0.0005491024348884821, -0.001782110659405589, 0.027048109099268913, 0.008993829600512981, -0.0023650440853089094, 0.0074365646578371525, 0.025249343365430832, 9.537727601127699e-05, 0.023050852119922638, 0.014206919819116592, -0.028463805094361305, -0.010226317681372166, 0.0178377628326416, 0.0086523974314332, -0.008793966844677925, 0.010001471266150475, 0.00577520439401269, 0.0037911490071564913, 0.004159646108746529, 0.0035413203295320272, 0.0022359660360962152, 0.013765555806457996, 0.011433822102844715, -0.014356817118823528, -0.0059833950363099575, -0.009168709628283978, -0.020319392904639244, 0.00720755523070693, 0.00592093775048852, -0.01758793368935585, 0.018287453800439835, -0.0046051740646362305, 0.004138827323913574, -0.013332519680261612, 0.02456647902727127, 0.001567674451507628, -0.0014198592398315668, 0.008007006719708443, -0.0025711527559906244, -0.011975117959082127, 0.0029105031862854958, -0.0076863933354616165, 0.009410210885107517, 0.00804448127746582, -0.021785054355859756, -0.015231217257678509, 0.01628049649298191, 0.013748900964856148, -0.0010279405396431684, 0.02558244951069355, -0.008048644289374352, 0.018820421770215034, 0.03299403190612793, -0.011417167261242867, -0.005217254161834717, -0.008810621686279774, -0.013599003665149212, 0.020036254078149796, -0.008052808232605457, 0.003137430874630809, 0.009110416285693645, 0.010892527177929878, 0.015564321540296078, -1.3524249879992567e-05, -0.00633315509185195, 0.005579505581408739, 0.0005345290992408991, -0.010526111349463463, 0.028980117291212082, -0.004950770176947117, 8.243042975664139e-05, -0.010093075223267078, -0.00848168134689331, 0.0242666844278574, -0.0028917661402374506, 0.014556679874658585, -0.011775254271924496, -0.0010898772161453962, -0.003816131968051195, -0.010842561721801758, 0.016355445608496666, -0.0008405691478401423, -0.006899433210492134, -0.0011533753713592887, -0.006191585678607225, -0.005870972294360399, 0.01444009318947792, -0.014889784157276154, -0.0010846725199371576, -0.00318531459197402, -0.0014417192433029413, -0.008152740076184273, -0.03990595415234566, 0.0007749891374260187, -0.0013813439290970564, -0.008968846872448921, -0.00777799729257822, -0.014223574660718441, 0.01715489663183689, 0.026148727163672447, -0.02781425043940544, 0.007977860048413277, -0.007907074876129627, 0.01651366986334324, 0.006936907302588224, 0.018670523539185524, -0.023184094578027725, -0.0024878764525055885, 0.061024799942970276, 0.00792373064905405, 0.017904382199048996, 0.008777311071753502, 0.039073191583156586, 0.0071950638666749, -0.0029354861471801996, 0.0025378421414643526, -0.01860390231013298, 0.008827277459204197, 0.0024462384171783924, 0.007145097944885492, 0.008115265518426895, -0.00162596779409796, 0.0005834538605995476, -0.004717596806585789, -1.9582919776439667e-05, -0.004609337542206049, 0.006791173946112394, 0.004650975577533245, -0.004322034772485495, 0.017604589462280273, 0.0025253507774323225, -0.015589304268360138, 0.017621243372559547, -0.015422752127051353, -0.012050066143274307, 0.014356817118823528, 0.014989716000854969, 0.023517198860645294, -0.0003684971889015287, -0.026615073904395103, 0.004855002276599407, -0.03484276309609413, 0.0013709344202652574, 0.015139613300561905, 0.014323506504297256, -0.010759284719824791, -0.01473155990242958, -0.01501469872891903, -0.007798816077411175, 0.003345621284097433, 0.004359508864581585, -0.0002480069233570248, 0.013632314279675484, -0.006304008420556784, -0.012724603526294231, 0.000821311550680548, -0.015814149752259254, 0.020552566275000572, 0.013524054549634457, 0.03450965881347656, -0.0007708253106102347, 0.0056877643801271915, -0.00431370735168457, 0.0023192421067506075, 0.012266584672033787, -0.0036350060254335403, -0.025665724650025368, -0.008023661561310291, -0.004109680652618408, -0.009035468101501465, -0.007482366636395454, 0.005462918896228075, -0.00813608430325985, 0.0011106963502243161, -0.013290881179273129, 0.00980993639677763, -0.01792103797197342, -0.008323456160724163, 0.011966790072619915, 0.0059084463864564896, -0.04083864763379097, -0.006866122595965862, 0.006391448434442282, 0.02103556878864765, -0.007282503880560398, 0.0027522784657776356, -0.01095082052052021, -0.01441511046141386, -0.015914082527160645, 0.015381114557385445, -0.01238317135721445, 0.06052514165639877, -0.006857795175164938, -0.03487607091665268, 0.013665624894201756, 0.004863330163061619, 0.01329920906573534, 0.0020506763830780983, 0.006999364588409662, -0.01247477438300848, -0.007136770524084568, 0.006387284491211176, -0.003376849927008152, 0.01850397139787674, 0.014798181131482124, 0.003472617594525218, 0.020086219534277916, -0.003997257445007563, 0.009443521499633789, -0.018137555569410324, -0.020918982103466988, -0.015764184296131134, 0.017721176147460938, -0.005533703602850437, 0.007669738028198481, -0.012791224755346775, 0.003056236542761326, -0.007561478763818741, -0.009093761444091797, 0.01157539151608944, -0.018420696258544922, -0.00637062918394804, -0.005129814147949219, 0.003149922238662839, 0.01870383508503437, 0.01942000910639763, 0.01017635129392147, -0.013948763720691204, 0.0062040770426392555, 0.025315964594483376, -0.008031989447772503, -0.015372786670923233, -0.00821519736200571, 0.02195160649716854, 0.012100031599402428, -0.011966790072619915, -0.023333990946412086, -0.005591996945440769, 0.011025768704712391, -0.013207605108618736, 0.014723232015967369, 0.007994514890015125, -0.016930051147937775, 0.02063584327697754, 0.01672186143696308, -0.014639955945312977, -0.009210348129272461, 0.011233959347009659, 0.0077613419853150845, 0.023866958916187286, -0.00047649600310251117, 0.02190164104104042, 0.010667681694030762, 0.008077790960669518, -0.005612815730273724, -0.03177819773554802, 0.02959636226296425, 0.022634470835328102, 0.00864406954497099, -0.005292202346026897, 0.02296757511794567, -0.01827079802751541, -0.007057657930999994, -0.026948178187012672, -0.016213875263929367, 0.010867544449865818, -0.010617715306580067, -0.0057335663586854935, -0.020369358360767365, 0.008527482859790325, 0.00034169264836236835, -0.01007642038166523, 0.01598902978003025, -0.030895469710230827, -0.004792545456439257, -0.016696877777576447, -0.0071992273442447186, 0.006112473085522652, -0.027098076418042183, 0.01579749584197998, -0.030745573341846466, 0.00956843513995409, 0.020552566275000572, 0.0002161277661798522, -0.003793230978772044, 0.0019455401925370097, 0.0008176682167686522, 0.0116003742441535, -0.008852260187268257, -0.009510141797363758, -0.001008683000691235, 0.0138571597635746, 0.025848932564258575, -0.003068727906793356, -0.022451262921094894, 0.00039556194678880274, -0.006582983769476414, 0.003916063345968723, -0.0013542792294174433, -0.005271383561193943, -0.00155934679787606, 0.003054154571145773, 0.01300774235278368, -0.005604488309472799, 0.03510924428701401, -0.015722546726465225, 0.03392672538757324, 0.011275597847998142, 0.009435193613171577, -0.022201435640454292, -0.0022755220998078585, -0.025032825767993927, 0.0028542918153107166, 0.012732931412756443, -0.011858531273901463, 0.01182522065937519, -0.014806508086621761, -0.0073491246439516544, 0.01182522065937519, -0.010509456507861614, 0.011159011162817478, -0.0006297762738540769, 0.009368572384119034, 0.01728813908994198, 0.012349860742688179, 0.021451950073242188, -0.014215247705578804, 0.025166068226099014, -0.00925198569893837, 0.004838347434997559, 0.03256099298596382, -0.0026690021622925997, 0.02106887847185135, -0.011342218145728111, 0.01530616544187069, 0.013424123637378216, 0.009826591238379478, -0.02451651357114315, 0.008594104088842869, 0.021152155473828316, 0.015464390628039837, -0.009260313585400581, -0.0037765756715089083, 0.020186150446534157, -0.02484961785376072, -0.015481045469641685, 0.01329920906573534, 0.0162721686065197, 0.00809444673359394, -0.007453219965100288, 0.014673266559839249, -0.011383856646716595, 0.015972375869750977, 0.013915453106164932, -0.0063956123776733875, -0.016655240207910538, 0.005962575785815716, -0.012832862325012684, -0.02126874215900898, -0.0008056972292251885, 0.015722546726465225, -0.011175666004419327, 0.010892527177929878, -0.002156853675842285, 0.023950235918164253, -0.00020519776444416493, -0.0018060526344925165, -0.005308857653290033, -0.01184187550097704, 0.005175615660846233, 0.006603802554309368, -0.0022172287572175264, -0.003580876626074314, 0.005575341638177633, 0.017754485830664635, 0.033493686467409134, 0.009876557625830173, 0.016605274751782417, -0.011958462186157703, 0.010434508323669434, -0.006791173946112394, 0.0045468807220458984, -0.021918296813964844, -0.0038681793957948685, 0.0026148727629333735, -0.0037453470285981894, -0.00026453204918652773, -0.016880085691809654, 0.005054865498095751, 0.0023733717389404774, 0.028996773064136505, 0.0003115050494670868, -0.004215857479721308, -0.005900118965655565, -0.009818264283239841]\n",
      "[]\n"
     ]
    }
   ],
   "source": [
    "tenant_id = \"9\"\n",
    "# Assuming you already computed the average location vector and current location vector\n",
    "average_location_vector = get_average_location_vector(container, tenant_id)\n",
    "\n",
    "print(average_location_vector)\n",
    "current_location_vector = generate_embeddings(get_city_coordinates(\"Boston\"))\n",
    "print(current_location_vector)\n",
    "\n",
    "# Query parameters\n",
    "query = \"Recent purchase at a grocery store\"\n",
    "amount = 10.0  # The current transaction amount\n",
    "\n",
    "# Perform vector search\n",
    "results = vector_search( current_location_vector, average_location_vector, amount, num_results=5)\n",
    "print(results)\n",
    "for result in results:\n",
    "    print(result)\n"
   ]
  },
  {
   "cell_type": "code",
   "execution_count": null,
   "metadata": {},
   "outputs": [],
   "source": []
  }
 ],
 "metadata": {
  "kernelspec": {
   "display_name": ".venv",
   "language": "python",
   "name": "python3"
  },
  "language_info": {
   "codemirror_mode": {
    "name": "ipython",
    "version": 3
   },
   "file_extension": ".py",
   "mimetype": "text/x-python",
   "name": "python",
   "nbconvert_exporter": "python",
   "pygments_lexer": "ipython3",
   "version": "3.11.9"
  }
 },
 "nbformat": 4,
 "nbformat_minor": 2
}
