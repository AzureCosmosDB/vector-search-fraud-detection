{
 "cells": [
  {
   "cell_type": "code",
   "execution_count": 1,
   "metadata": {},
   "outputs": [
    {
     "name": "stdout",
     "output_type": "stream",
     "text": [
      "Requirement already satisfied: python-dotenv in c:\\users\\khelan modi\\appdata\\local\\packages\\pythonsoftwarefoundation.python.3.11_qbz5n2kfra8p0\\localcache\\local-packages\\python311\\site-packages (1.0.0)\n"
     ]
    },
    {
     "name": "stderr",
     "output_type": "stream",
     "text": [
      "\n",
      "[notice] A new release of pip is available: 23.3.1 -> 24.2\n",
      "[notice] To update, run: C:\\Users\\Khelan Modi\\AppData\\Local\\Microsoft\\WindowsApps\\PythonSoftwareFoundation.Python.3.11_qbz5n2kfra8p0\\python.exe -m pip install --upgrade pip\n"
     ]
    },
    {
     "name": "stdout",
     "output_type": "stream",
     "text": [
      "Requirement already satisfied: openai in c:\\users\\khelan modi\\appdata\\local\\packages\\pythonsoftwarefoundation.python.3.11_qbz5n2kfra8p0\\localcache\\local-packages\\python311\\site-packages (1.44.1)\n",
      "Requirement already satisfied: anyio<5,>=3.5.0 in c:\\users\\khelan modi\\appdata\\local\\packages\\pythonsoftwarefoundation.python.3.11_qbz5n2kfra8p0\\localcache\\local-packages\\python311\\site-packages (from openai) (3.7.1)\n",
      "Requirement already satisfied: distro<2,>=1.7.0 in c:\\users\\khelan modi\\appdata\\local\\packages\\pythonsoftwarefoundation.python.3.11_qbz5n2kfra8p0\\localcache\\local-packages\\python311\\site-packages (from openai) (1.9.0)\n",
      "Requirement already satisfied: httpx<1,>=0.23.0 in c:\\users\\khelan modi\\appdata\\local\\packages\\pythonsoftwarefoundation.python.3.11_qbz5n2kfra8p0\\localcache\\local-packages\\python311\\site-packages (from openai) (0.26.0)\n",
      "Requirement already satisfied: jiter<1,>=0.4.0 in c:\\users\\khelan modi\\appdata\\local\\packages\\pythonsoftwarefoundation.python.3.11_qbz5n2kfra8p0\\localcache\\local-packages\\python311\\site-packages (from openai) (0.5.0)\n",
      "Requirement already satisfied: pydantic<3,>=1.9.0 in c:\\users\\khelan modi\\appdata\\local\\packages\\pythonsoftwarefoundation.python.3.11_qbz5n2kfra8p0\\localcache\\local-packages\\python311\\site-packages (from openai) (1.10.9)\n",
      "Requirement already satisfied: sniffio in c:\\users\\khelan modi\\appdata\\local\\packages\\pythonsoftwarefoundation.python.3.11_qbz5n2kfra8p0\\localcache\\local-packages\\python311\\site-packages (from openai) (1.3.0)\n",
      "Requirement already satisfied: tqdm>4 in c:\\users\\khelan modi\\appdata\\local\\packages\\pythonsoftwarefoundation.python.3.11_qbz5n2kfra8p0\\localcache\\local-packages\\python311\\site-packages (from openai) (4.66.1)\n",
      "Requirement already satisfied: typing-extensions<5,>=4.11 in c:\\users\\khelan modi\\appdata\\local\\packages\\pythonsoftwarefoundation.python.3.11_qbz5n2kfra8p0\\localcache\\local-packages\\python311\\site-packages (from openai) (4.12.2)\n",
      "Requirement already satisfied: idna>=2.8 in c:\\users\\khelan modi\\appdata\\local\\packages\\pythonsoftwarefoundation.python.3.11_qbz5n2kfra8p0\\localcache\\local-packages\\python311\\site-packages (from anyio<5,>=3.5.0->openai) (3.4)\n",
      "Requirement already satisfied: certifi in c:\\users\\khelan modi\\appdata\\local\\packages\\pythonsoftwarefoundation.python.3.11_qbz5n2kfra8p0\\localcache\\local-packages\\python311\\site-packages (from httpx<1,>=0.23.0->openai) (2023.7.22)\n",
      "Requirement already satisfied: httpcore==1.* in c:\\users\\khelan modi\\appdata\\local\\packages\\pythonsoftwarefoundation.python.3.11_qbz5n2kfra8p0\\localcache\\local-packages\\python311\\site-packages (from httpx<1,>=0.23.0->openai) (1.0.2)\n",
      "Requirement already satisfied: h11<0.15,>=0.13 in c:\\users\\khelan modi\\appdata\\local\\packages\\pythonsoftwarefoundation.python.3.11_qbz5n2kfra8p0\\localcache\\local-packages\\python311\\site-packages (from httpcore==1.*->httpx<1,>=0.23.0->openai) (0.14.0)\n",
      "Requirement already satisfied: colorama in c:\\users\\khelan modi\\appdata\\local\\packages\\pythonsoftwarefoundation.python.3.11_qbz5n2kfra8p0\\localcache\\local-packages\\python311\\site-packages (from tqdm>4->openai) (0.4.6)\n"
     ]
    },
    {
     "name": "stderr",
     "output_type": "stream",
     "text": [
      "\n",
      "[notice] A new release of pip is available: 23.3.1 -> 24.2\n",
      "[notice] To update, run: C:\\Users\\Khelan Modi\\AppData\\Local\\Microsoft\\WindowsApps\\PythonSoftwareFoundation.Python.3.11_qbz5n2kfra8p0\\python.exe -m pip install --upgrade pip\n"
     ]
    },
    {
     "name": "stdout",
     "output_type": "stream",
     "text": [
      "Requirement already satisfied: geopy in c:\\users\\khelan modi\\appdata\\local\\packages\\pythonsoftwarefoundation.python.3.11_qbz5n2kfra8p0\\localcache\\local-packages\\python311\\site-packages (2.4.1)\n",
      "Requirement already satisfied: geographiclib<3,>=1.52 in c:\\users\\khelan modi\\appdata\\local\\packages\\pythonsoftwarefoundation.python.3.11_qbz5n2kfra8p0\\localcache\\local-packages\\python311\\site-packages (from geopy) (2.0)\n"
     ]
    },
    {
     "name": "stderr",
     "output_type": "stream",
     "text": [
      "\n",
      "[notice] A new release of pip is available: 23.3.1 -> 24.2\n",
      "[notice] To update, run: C:\\Users\\Khelan Modi\\AppData\\Local\\Microsoft\\WindowsApps\\PythonSoftwareFoundation.Python.3.11_qbz5n2kfra8p0\\python.exe -m pip install --upgrade pip\n"
     ]
    },
    {
     "name": "stdout",
     "output_type": "stream",
     "text": [
      "Requirement already satisfied: azure-cosmos in c:\\users\\khelan modi\\appdata\\local\\packages\\pythonsoftwarefoundation.python.3.11_qbz5n2kfra8p0\\localcache\\local-packages\\python311\\site-packages (4.7.0)\n",
      "Requirement already satisfied: azure-core>=1.25.1 in c:\\users\\khelan modi\\appdata\\local\\packages\\pythonsoftwarefoundation.python.3.11_qbz5n2kfra8p0\\localcache\\local-packages\\python311\\site-packages (from azure-cosmos) (1.29.5)\n",
      "Requirement already satisfied: typing-extensions>=4.6.0 in c:\\users\\khelan modi\\appdata\\local\\packages\\pythonsoftwarefoundation.python.3.11_qbz5n2kfra8p0\\localcache\\local-packages\\python311\\site-packages (from azure-cosmos) (4.12.2)\n",
      "Requirement already satisfied: requests>=2.18.4 in c:\\users\\khelan modi\\appdata\\local\\packages\\pythonsoftwarefoundation.python.3.11_qbz5n2kfra8p0\\localcache\\local-packages\\python311\\site-packages (from azure-core>=1.25.1->azure-cosmos) (2.31.0)\n",
      "Requirement already satisfied: six>=1.11.0 in c:\\users\\khelan modi\\appdata\\local\\packages\\pythonsoftwarefoundation.python.3.11_qbz5n2kfra8p0\\localcache\\local-packages\\python311\\site-packages (from azure-core>=1.25.1->azure-cosmos) (1.16.0)\n",
      "Requirement already satisfied: charset-normalizer<4,>=2 in c:\\users\\khelan modi\\appdata\\local\\packages\\pythonsoftwarefoundation.python.3.11_qbz5n2kfra8p0\\localcache\\local-packages\\python311\\site-packages (from requests>=2.18.4->azure-core>=1.25.1->azure-cosmos) (3.3.1)\n",
      "Requirement already satisfied: idna<4,>=2.5 in c:\\users\\khelan modi\\appdata\\local\\packages\\pythonsoftwarefoundation.python.3.11_qbz5n2kfra8p0\\localcache\\local-packages\\python311\\site-packages (from requests>=2.18.4->azure-core>=1.25.1->azure-cosmos) (3.4)\n",
      "Requirement already satisfied: urllib3<3,>=1.21.1 in c:\\users\\khelan modi\\appdata\\local\\packages\\pythonsoftwarefoundation.python.3.11_qbz5n2kfra8p0\\localcache\\local-packages\\python311\\site-packages (from requests>=2.18.4->azure-core>=1.25.1->azure-cosmos) (2.0.7)\n",
      "Requirement already satisfied: certifi>=2017.4.17 in c:\\users\\khelan modi\\appdata\\local\\packages\\pythonsoftwarefoundation.python.3.11_qbz5n2kfra8p0\\localcache\\local-packages\\python311\\site-packages (from requests>=2.18.4->azure-core>=1.25.1->azure-cosmos) (2023.7.22)\n"
     ]
    },
    {
     "name": "stderr",
     "output_type": "stream",
     "text": [
      "\n",
      "[notice] A new release of pip is available: 23.3.1 -> 24.2\n",
      "[notice] To update, run: C:\\Users\\Khelan Modi\\AppData\\Local\\Microsoft\\WindowsApps\\PythonSoftwareFoundation.Python.3.11_qbz5n2kfra8p0\\python.exe -m pip install --upgrade pip\n"
     ]
    }
   ],
   "source": [
    "! pip install python-dotenv\n",
    "\n",
    "! pip install openai\n",
    "\n",
    "! pip install geopy\n",
    "\n",
    "! pip install azure-cosmos"
   ]
  },
  {
   "cell_type": "code",
   "execution_count": 2,
   "metadata": {},
   "outputs": [],
   "source": [
    "# Import the required libraries\n",
    "import time\n",
    "import os\n",
    "import json\n",
    "import uuid\n",
    "from dotenv import dotenv_values\n",
    "from openai import OpenAI, AzureOpenAI\n",
    "\n",
    "\n",
    "#Cosmos DB imports\n",
    "from azure.cosmos import CosmosClient"
   ]
  },
  {
   "cell_type": "code",
   "execution_count": 98,
   "metadata": {},
   "outputs": [],
   "source": [
    "env_name = \"variable.env\" # following example.env template change to your own .env file name\n",
    "config = dotenv_values(env_name)\n",
    "\n",
    "nosql_uri=config[\"NOSQL_URI\"]\n",
    "cosmos_key = config['NOSQL_PRIMARY_KEY']\n",
    "cosmos_database = \"Account\"\n",
    "cosmos_container = \"Transactions\"\n",
    "\n",
    "openai_endpoint = config['AOAI_ENDPOINT']\n",
    "openai_key = config['AOAI_KEY']\n",
    "openai_api_version = config['API_VERSION']\n",
    "openai_embeddings_deployment = config['AOAI_EMBEDDING_DEPLOYMENT']\n",
    "openai_embeddings_model = config['AOAI_EMBEDDING_DEPLOYMENT_MODEL']\n",
    "#openai_embeddings_dimensions = int(config['openai_embeddings_dimensions'])\n",
    "\n",
    "# Create the Azure Cosmos DB for NoSQL client\n",
    "cosmos_client = CosmosClient(url=nosql_uri, credential=cosmos_key)\n",
    "\n",
    "azure_openai_embeddings = AzureOpenAI(\n",
    "    api_version=openai_api_version,\n",
    "    api_key= openai_key,\n",
    "    azure_endpoint= openai_endpoint,\n",
    ")"
   ]
  },
  {
   "cell_type": "code",
   "execution_count": 89,
   "metadata": {},
   "outputs": [
    {
     "name": "stdout",
     "output_type": "stream",
     "text": [
      "{\"id\": \"fraud-nosql-db2\", \"_rid\": \"+39sAA==\", \"_self\": \"dbs/+39sAA==/\", \"_etag\": \"\\\"0000f401-0000-4700-0000-66ed8ffd0000\\\"\", \"_colls\": \"colls/\", \"_users\": \"users/\", \"_ts\": 1726844925}\n"
     ]
    }
   ],
   "source": [
    "#create database\n",
    "DATABASE_NAME = \"fraud-nosql-db2\"\n",
    "db= cosmos_client.create_database_if_not_exists(\n",
    "    id=DATABASE_NAME\n",
    ")\n",
    "properties = db.read()\n",
    "print(json.dumps(properties))"
   ]
  },
  {
   "cell_type": "code",
   "execution_count": 90,
   "metadata": {},
   "outputs": [],
   "source": [
    "vector_embedding_policy = {\n",
    "    \"vectorEmbeddings\": [\n",
    "        {\n",
    "            \"path\":\"/locationVector\",\n",
    "            \"dataType\":\"float32\",\n",
    "            \"distanceFunction\":\"cosine\",\n",
    "            \"dimensions\":1536\n",
    "        },\n",
    "    ]\n",
    "}\n",
    "\n",
    "indexing_policy = {\n",
    "    \"includedPaths\": [\n",
    "        {\n",
    "            \"path\": \"/*\"\n",
    "        }\n",
    "    ],\n",
    "    \"excludedPaths\": [\n",
    "        {\n",
    "            \"path\": \"/\\\"_etag\\\"/?\"\n",
    "        },\n",
    "        {\n",
    "            \"path\": \"/locationVector/*\"\n",
    "        }\n",
    "    ],\n",
    "    \"vectorIndexes\": [\n",
    "        {\"path\": \"/locationVector\",\n",
    "         \"type\": \"diskANN\"\n",
    "        }\n",
    "    ]\n",
    "}"
   ]
  },
  {
   "cell_type": "code",
   "execution_count": 91,
   "metadata": {},
   "outputs": [
    {
     "name": "stdout",
     "output_type": "stream",
     "text": [
      "Container with properties '{'id': 'fraud-nosql-cont', 'indexingPolicy': {'indexingMode': 'consistent', 'automatic': True, 'includedPaths': [{'path': '/*'}], 'excludedPaths': [{'path': '/\"_etag\"/?'}, {'path': '/locationVector/*'}], 'vectorIndexes': [{'path': '/locationVector', 'type': 'diskANN'}]}, 'partitionKey': {'paths': ['/TenantId'], 'kind': 'Hash', 'version': 2}, 'conflictResolutionPolicy': {'mode': 'LastWriterWins', 'conflictResolutionPath': '/_ts', 'conflictResolutionProcedure': ''}, 'geospatialConfig': {'type': 'Geography'}, 'vectorEmbeddingPolicy': {'vectorEmbeddings': [{'path': '/locationVector', 'dataType': 'float32', 'dimensions': 1536, 'distanceFunction': 'cosine'}]}, '_rid': '+39sAPLryro=', '_ts': 1726844930, '_self': 'dbs/+39sAA==/colls/+39sAPLryro=/', '_etag': '\"0000f601-0000-4700-0000-66ed90020000\"', '_docs': 'docs/', '_sprocs': 'sprocs/', '_triggers': 'triggers/', '_udfs': 'udfs/', '_conflicts': 'conflicts/'}' created\n"
     ]
    }
   ],
   "source": [
    "from azure.cosmos import PartitionKey, exceptions\n",
    "\n",
    "CONTAINER_NAME = \"fraud-nosql-cont\"\n",
    "try:    \n",
    "    container = db.create_container_if_not_exists(\n",
    "                    id=CONTAINER_NAME,\n",
    "                    partition_key=PartitionKey(path=\"/TenantId\"),\n",
    "                    indexing_policy=indexing_policy,\n",
    "                    vector_embedding_policy=vector_embedding_policy)\n",
    "\n",
    "    properties = container.read()\n",
    "    print('Container with properties \\'{0}\\' created'.format(properties))\n",
    "\n",
    "except exceptions.CosmosResourceExistsError:\n",
    "    print('A container with id \\'{0}\\' already exists'.format(id))"
   ]
  },
  {
   "cell_type": "code",
   "execution_count": 92,
   "metadata": {},
   "outputs": [],
   "source": [
    "def generate_embeddings(lat_lon):\n",
    "    lat_lon_str = f\"{lat_lon[0]},{lat_lon[1]}\"\n",
    "    \n",
    "    # Call OpenAI to generate embeddings (assuming text input is required)\n",
    "    response = azure_openai_embeddings.embeddings.create(input=lat_lon_str, model=openai_embeddings_model)\n",
    "    embeddings = response.model_dump()\n",
    "    \n",
    "    time.sleep(0.5)  # To avoid API rate limits\n",
    "    \n",
    "    return embeddings['data'][0]['embedding']"
   ]
  },
  {
   "cell_type": "code",
   "execution_count": 93,
   "metadata": {},
   "outputs": [],
   "source": [
    "from geopy.geocoders import Nominatim\n",
    "\n",
    "def get_city_coordinates(city_name):\n",
    "    try:\n",
    "        # Create a geolocator object using Nominatim service\n",
    "        geolocator = Nominatim(user_agent=\"MyAPP\")\n",
    "        \n",
    "        # Geocode the city name to get location details\n",
    "        location = geolocator.geocode(city_name)\n",
    "        \n",
    "        if location:\n",
    "            # Extract the latitude and longitude from the location object\n",
    "            lat = location.latitude\n",
    "            lon = location.longitude\n",
    "            return lat, lon\n",
    "        else:\n",
    "            print(f\"City '{city_name}' not found.\")\n",
    "            return None, None\n",
    "    except Exception as e:\n",
    "        print(f\"Error occurred: {e}\")\n",
    "        return None, None\n",
    "\n"
   ]
  },
  {
   "cell_type": "code",
   "execution_count": 94,
   "metadata": {},
   "outputs": [],
   "source": [
    "# Load text-sample_w_embeddings.json which has embeddings pre-computed\n",
    "data_file = open(file=\"data/data_with_tenants.json\", mode=\"r\") \n",
    "\n",
    "data = json.load(data_file)\n",
    "data_file.close()"
   ]
  },
  {
   "cell_type": "code",
   "execution_count": 96,
   "metadata": {},
   "outputs": [
    {
     "name": "stdout",
     "output_type": "stream",
     "text": [
      "{\n",
      "  \"TransactionID\": \"T5109\",\n",
      "  \"Amount\": 108.79,\n",
      "  \"Timestamp\": \"2024-09-15 14:02:38\",\n",
      "  \"Location\": \"Boston\",\n",
      "  \"Merchant\": \"Lyft\",\n",
      "  \"Fraud\": false,\n",
      "  \"TenantId\": \"5\"\n",
      "}\n"
     ]
    }
   ],
   "source": [
    "# Take a peek at one data item\n",
    "print(json.dumps(data[4], indent=2))"
   ]
  },
  {
   "cell_type": "code",
   "execution_count": 99,
   "metadata": {},
   "outputs": [
    {
     "name": "stdout",
     "output_type": "stream",
     "text": [
      "Creating embeddings for transaction: T8612\r"
     ]
    }
   ],
   "source": [
    "# Generate embeddings for each location and store data in cosmos db container\n",
    "for item in data:\n",
    "    transaction_id = item[\"TransactionID\"]\n",
    "    item['id'] = transaction_id\n",
    "    location = item[\"Location\"]\n",
    "    location_coord = get_city_coordinates(location)\n",
    "    location_embeddings = generate_embeddings(location_coord)\n",
    "    item['locationVector'] = location_embeddings\n",
    "    item['@search.action'] = 'upload'\n",
    "   \n",
    "    print(\"Creating embeddings for transaction:\", transaction_id, end='\\r')\n",
    "    \n",
    "    # Insert the item into the container\n",
    "    container.upsert_item(item)    "
   ]
  },
  {
   "cell_type": "code",
   "execution_count": 154,
   "metadata": {},
   "outputs": [],
   "source": [
    "import numpy as np\n",
    "\n",
    "def get_average_location_vector(container, tenant_id):\n",
    "    # SQL query to get the last 'num_purchases' transactions ordered by timestamp\n",
    "    sql_query = \"\"\"\n",
    "    SELECT c.locationVector\n",
    "    FROM c\n",
    "    WHERE c.TenantId = @tenant_id\n",
    "    ORDER BY c.Timestamp DESC\n",
    "    \"\"\"\n",
    "    \n",
    "    # Parameters for the query\n",
    "    parameters = [\n",
    "        {\"name\": \"@tenant_id\", \"value\": tenant_id}\n",
    "    ]\n",
    "    \n",
    "    # Execute the query to get the location vectors\n",
    "    results = container.query_items(\n",
    "        query=sql_query,\n",
    "        parameters=parameters,\n",
    "        enable_cross_partition_query=True\n",
    "    )\n",
    "    \n",
    "    # Collect the location vectors\n",
    "    vectors = []\n",
    "    for result in results:\n",
    "        vectors.append(result['locationVector'])\n",
    "    \n",
    "    \n",
    "    # If no vectors are found, return None\n",
    "    if not vectors:\n",
    "        return None\n",
    "    \n",
    "    # Convert the list of vectors into a numpy array\n",
    "    vectors_np = np.array(vectors)\n",
    "    \n",
    "    # Calculate the element-wise average of the vectors\n",
    "    avg_vector = np.mean(vectors_np, axis=0)\n",
    "    \n",
    "    return avg_vector, len(vectors)\n"
   ]
  },
  {
   "cell_type": "code",
   "execution_count": 187,
   "metadata": {},
   "outputs": [],
   "source": [
    "def vector_search( current_location_vector, tenant_id, average_location_vector, amount, num_results=5):\n",
    "\n",
    "    if isinstance(current_location_vector, np.ndarray):\n",
    "        current_location_vector = current_location_vector.tolist()\n",
    "    if isinstance(average_location_vector, np.ndarray):\n",
    "        average_location_vector = average_location_vector.tolist()\n",
    "\n",
    "    sql_query = \"\"\"\n",
    " SELECT \n",
    "        c.TransactionID,\n",
    "        c.Amount, \n",
    "        c.Timestamp, \n",
    "        c.Location, \n",
    "        c.Merchant,\n",
    "        c.TenantId, \n",
    "        VectorDistance(c.locationVector, @current_location_vector) AS ProximityOfCurrentToLast,\n",
    "        VectorDistance(@current_location_vector, @average_location_vector) AS ProximityOfAverageToLast\n",
    "    FROM c\n",
    "    WHERE \n",
    "        VectorDistance(c.locationVector, @current_location_vector) > 0.1\n",
    "        AND VectorDistance(@current_location_vector, @average_location_vector) > 0.1\n",
    "        AND c.TenantId = @tenant_id\n",
    "    \"\"\"\n",
    "\n",
    "    # Parameters for the SQL query\n",
    "    parameters = [\n",
    "        {\"name\": \"@num_results\", \"value\": num_results},   \n",
    "        {\"name\": \"@average_location_vector\", \"value\": average_location_vector},  \n",
    "        {\"name\": \"@current_location_vector\", \"value\": current_location_vector},  \n",
    "        {\"name\": \"@amount\", \"value\": amount},  # Transaction amount range filtering\n",
    "        {\"name\": \"@tenant_id\", \"value\": tenant_id},  # Transaction amount range filtering\n",
    "    ]\n",
    "\n",
    "    results = container.query_items(\n",
    "        query=sql_query,\n",
    "        parameters=parameters,\n",
    "        enable_cross_partition_query=True\n",
    "    )\n",
    "\n",
    "    return list(results), len(list(results))\n"
   ]
  },
  {
   "cell_type": "code",
   "execution_count": 190,
   "metadata": {},
   "outputs": [
    {
     "name": "stdout",
     "output_type": "stream",
     "text": [
      "11\n",
      "[0.02148537151515484, 0.003992547746747732, -0.002821290632709861, -0.012764645740389824, 0.014441392384469509, -0.011507085524499416, -0.02848825603723526, 0.05569429323077202, 0.013857818208634853, -0.02819235809147358, -0.030477337539196014, -0.004167208913713694, -0.014605779200792313, -0.018986690789461136, -0.008087837137281895, 0.056318964809179306, -0.022504571825265884, -0.008967307396233082, -0.017819544300436974, 0.006559038534760475, -0.013356437906622887, -0.027140282094478607, -0.03300889581441879, 0.003174722660332918, -0.017753789201378822, 0.012312580831348896, 0.002685671439394355, 0.017309943214058876, -0.032795194536447525, 0.00029255737899802625, -0.00716727040708065, -0.0007844339124858379, 0.011161873117089272, 0.007052199449390173, 0.036658287048339844, 0.012320800684392452, 0.021797707304358482, 0.0004122515965718776, 0.009254984557628632, 0.009748145006597042, 0.01732638292014599, 0.002790468279272318, -0.01918395422399044, 0.05286683887243271, -0.03761173039674759, -0.030148563906550407, 0.01585512049496174, -0.014704410918056965, 0.011909833177924156, -0.03323903679847717, 0.011285162530839443, -0.003448016010224819, -0.009123474359512329, -0.021567566320300102, 0.007089186459779739, -0.006723425351083279, -0.020762069150805473, 0.15820598602294922, 0.0013274244265630841, 0.045042019337415695, -0.004208305384963751, 0.0050507886335253716, -0.03485003113746643, 0.012238606810569763, 0.001904833596199751, 0.01762227900326252, -0.010800221003592014, 0.00690425094217062, 0.00854812003672123, 0.014400294981896877, -0.005572717171162367, -0.001764077227562666, 0.02686082385480404, -0.03200613707304001, 0.05339287593960762, -0.0007428234675899148, -0.012172852642834187, 0.004068576730787754, 0.011942710727453232, 0.006493283901363611, 0.019726430997252464, 0.005087775643914938, -0.03494866192340851, -0.0286690816283226, -0.00018121091125067323, -0.04109673202037811, -0.04829687997698784, -0.08515243232250214, -0.019381219521164894, -0.008827578276395798, -0.03606649115681648, -0.015986628830432892, -0.04638999328017235, -0.00039581290911883116, 0.004122002515941858, -0.011186530813574791, 0.006320677697658539, 0.011400233954191208, -0.05059829726815224, 0.04277348145842552, -0.010307060554623604, -0.05056542158126831, -0.021518249064683914, 0.0020764125511050224, 0.04280635714530945, 0.028389623388648033, -0.013356437906622887, -0.006094645708799362, 0.005675458814948797, -0.08567846566438675, 0.028175920248031616, -0.004524750169366598, 0.026548489928245544, -0.047869473695755005, -0.03335410729050636, 0.037019938230514526, 0.03511304780840874, -0.02612108364701271, -0.031874626874923706, -0.005227504298090935, -0.03159516677260399, -0.014145495370030403, -0.015164694748818874, -0.03465276584029198, 0.026844386011362076, -0.015148255974054337, 0.005313807632774115, 0.03606649115681648, 0.0025582716334611177, 0.011720788665115833, -0.008663191460072994, -0.00131406809668988, -0.022455254569649696, -0.004598724655807018, 0.010208428837358952, 0.015214010141789913, -0.004960375837981701, 0.03425823524594307, 0.031529415398836136, 0.013709870167076588, -0.05585867911577225, -0.04754070192575455, 0.005112433806061745, 0.0007608032901771367, -0.057765569537878036, -0.049546223133802414, 0.018920935690402985, 0.018115440383553505, 0.01699760928750038, 0.03069104067981243, -0.009394712746143341, -0.029375944286584854, -0.04898730665445328, 0.0310362521559, 0.02460872381925583, 0.002671287627890706, -0.033830828964710236, -0.03338698670268059, -0.03771036118268967, -0.004389130976051092, 0.0025212846230715513, -0.02577587030827999, 0.02750193327665329, 0.0013993437169119716, -0.006665890105068684, -0.018016807734966278, 0.017359260469675064, -0.015953751280903816, 0.02414843998849392, 0.02582518756389618, 0.0009359780815429986, -0.014803043566644192, -0.03345274180173874, -0.03823640197515488, -0.05227504298090935, -0.023375822231173515, 0.03738158941268921, -0.018246948719024658, 0.01934834197163582, -0.028323868289589882, -0.03305821120738983, -0.006189167965203524, 0.018214073032140732, 0.020729191601276398, -0.047179050743579865, -0.02975403517484665, 0.016233209520578384, -0.019775748252868652, 0.04339814931154251, -0.030247194692492485, 0.036724042147397995, -0.008967307396233082, 0.014235908165574074, 0.025233393535017967, -0.011564620770514011, -0.017983930185437202, 0.007183708716183901, 0.0059343683533370495, 0.012320800684392452, 0.019085323438048363, -0.002313746139407158, -0.026910141110420227, -0.018986690789461136, 0.012287923134863377, 0.012526283971965313, 0.03409384936094284, -0.003310341853648424, 0.016537325456738472, 0.007952217943966389, -0.0163154024630785, 0.04514065012335777, -0.020120959728956223, 0.02161688171327114, 0.04556805640459061, 0.028356745839118958, 0.018740110099315643, -0.004282279405742884, 0.022899100556969643, -0.010011164471507072, 0.008383733220398426, 0.05089419335126877, 0.007409741170704365, 0.0060576582327485085, -0.006254922598600388, -0.03846654295921326, 0.020959334447979927, 0.017523646354675293, 0.027189599350094795, 0.021353863179683685, -0.04126112163066864, -0.010413912124931812, -0.013159173540771008, -0.03593498468399048, 0.0279622171074152, -0.025101885199546814, 0.008589217439293861, -0.012115316465497017, -0.006645341869443655, 0.007413850631564856, -0.017770227044820786, -0.024460775777697563, -0.01941409707069397, 0.0019870270043611526, -0.019907256588339806, 0.030789673328399658, -0.012871496379375458, -0.02934306673705578, 0.014992088079452515, 0.041688527911901474, -0.03491578623652458, 0.020301785320043564, 0.02063056081533432, 0.010035822167992592, 0.017753789201378822, 0.018690794706344604, -0.012345458380877972, 0.016709931194782257, 0.01877298764884472, -0.009156351909041405, 0.011112556792795658, -0.024641601368784904, 0.011038582772016525, -0.011128995567560196, 0.0035528126172721386, 6.633269367739558e-05, 0.028685519471764565, -0.005095995031297207, -0.0025253943167626858, -0.011613937094807625, -0.022455254569649696, -0.009797461330890656, -0.022619642317295074, -0.0025562169030308723, 0.0031603388488292694, -0.004611053504049778, 0.0049110595136880875, -0.0018390788463875651, 0.01493455283343792, 0.01895381323993206, 0.0014424953842535615, 0.019841503351926804, 0.012797522358596325, 0.030197879299521446, 0.027649881318211555, -0.056023065000772476, 0.016183894127607346, -0.02807728759944439, 0.007274121977388859, 0.007163160480558872, 0.017309943214058876, 0.006349445320665836, -0.01311807706952095, -0.005782310385257006, 0.01338109653443098, -0.012205730192363262, 0.009961848147213459, 0.03138146549463272, -0.038335032761096954, -0.020942894741892815, 0.000343414576491341, 0.013874256983399391, 0.006423419341444969, -0.04004465788602829, -0.006337116472423077, 0.06562326103448868, 0.0014948936877772212, 0.013019445352256298, 0.009222107008099556, -0.043891310691833496, -0.02426351048052311, 0.03350205719470978, -0.024542968720197678, -0.009526222944259644, -0.01877298764884472, -0.01571539044380188, -0.01814831793308258, -0.025216955691576004, 0.00764399254694581, -0.06148071214556694, -0.005605594255030155, 0.0166359581053257, 0.006834386847913265, -0.016504447907209396, 0.01089063473045826, 0.00574943283572793, 0.004557627718895674, 0.010101577267050743, -0.025611484423279762, 0.02646629698574543, -0.043759800493717194, -0.03889394924044609, 0.004380911588668823, -0.0018709287978708744, 0.004224744159728289, -0.0006565203075297177, -0.03662540763616562, 0.028554009273648262, -0.006016561761498451, 0.011819420382380486, -0.0064110904932022095, 0.0487571656703949, -0.03866380825638771, 0.031923942267894745, 0.019792186096310616, -0.028521133586764336, 0.005642581265419722, 0.057403918355703354, -0.02044973522424698, -0.024805987253785133, 0.04662013426423073, 0.0006703904364258051, -0.009978286921977997, 0.015386616811156273, 0.019890818744897842, 0.026795070618391037, -0.028964977711439133, -0.050236646085977554, -0.01418659184128046, 0.03803913667798042, 0.005165859125554562, -0.021797707304358482, -0.01040569320321083, -0.015937313437461853, -0.016964731737971306, -0.0202853474766016, 0.032976020127534866, -0.02097577229142189, 0.0017681869212538004, -0.0009519030572846532, 0.00707685761153698, -0.01435919851064682, -0.023260751739144325, -0.04737631231546402, 0.029770473018288612, -0.036658287048339844, -0.019660677760839462, -0.016849661245942116, 1.2963129847776145e-05, -0.02403336949646473, -0.014597559347748756, -0.0077508436515927315, -0.01911820098757744, -0.027123844251036644, -0.018016807734966278, 0.010734466835856438, 0.018049685284495354, 0.02651561237871647, -0.037118569016456604, -0.001888394937850535, 0.015501687303185463, -0.0357048399746418, 0.005420659203082323, -0.004960375837981701, -0.009575539268553257, -0.010372815653681755, -0.037414465099573135, -0.03281163051724434, 0.024082684889435768, -0.0034397966228425503, -0.005831626243889332, 0.0068878126330673695, 0.028455378487706184, -0.01688253879547119, 0.0016305128810927272, -0.011687911115586758, -0.00690425094217062, -0.04494338855147362, -0.009164571762084961, -0.03392946347594261, -0.00030411581974476576, -0.030411582440137863, -0.007035760674625635, 0.02768275886774063, 0.0067316447384655476, 0.010989266447722912, -0.01924970932304859, -0.007565908599644899, -0.0014856469351798296, -0.03333767130970955, -0.030477337539196014, 0.03189106658101082, -0.02773207612335682, 0.008449488319456577, 0.05142023414373398, -0.04257621616125107, 0.02067987620830536, 0.023260751739144325, 0.04195154458284378, -0.004152825102210045, -0.022553887218236923, -0.032729439437389374, 0.007726185955107212, 0.003345274133607745, 0.016948292031884193, 0.007915230467915535, 0.046422868967056274, -0.012189291417598724, 0.02709096670150757, 0.03577059507369995, 0.013553702272474766, -0.025874502956867218, 0.056483350694179535, 0.001042829593643546, 0.03004993125796318, 0.012386555783450603, 0.005815187934786081, -0.021584004163742065, -0.020959334447979927, -0.02686082385480404, -0.03346917778253555, -0.008383733220398426, 0.018509969115257263, 0.008227566257119179, -0.043661169707775116, -0.0012585874646902084, -0.015304423868656158, -0.012822180986404419, 0.02115659788250923, 0.016718151047825813, -0.011252285912632942, 0.012526283971965313, -0.003332945052534342, 0.015419494360685349, -0.038104891777038574, -0.023145679384469986, 0.003528154455125332, 0.011342698708176613, 0.02196209505200386, 0.02097577229142189, 0.01233723945915699, -0.02114016003906727, -0.023244312033057213, 0.013331780210137367, 0.020203154534101486, 0.0031500644981861115, 0.053064100444316864, 0.0002889613970182836, -0.007890572771430016, -0.041984423995018005, -0.06161222234368324, 0.010537202470004559, 0.01624142937362194, 0.01262491662055254, 0.006785070523619652, -0.012863277457654476, 0.022866223007440567, 0.0018349691526964307, -0.03882819414138794, -0.028340307995676994, 0.04494338855147362, 0.006086426321417093, -0.011967368423938751, -0.014630436897277832, -0.007561798673123121, -0.016948292031884193, 0.0012781084515154362, 0.009526222944259644, -0.03108556941151619, 0.003053487278521061, 0.025118323042988777, -0.025216955691576004, -0.026219716295599937, 0.01819763332605362, 0.005211065988987684, -0.005453536286950111, 8.360616629943252e-05, 0.059146419167518616, -0.007664540782570839, -0.04675164446234703, -0.0011147488839924335, 0.05743679404258728, 0.049316078424453735, 0.01732638292014599, -0.009805680252611637, -0.012698890641331673, 0.007512482814490795, 0.02283334545791149, -0.026104643940925598, -0.02184702269732952, -0.011918053030967712, 0.005979574751108885, 0.032614368945360184, 0.0007320355507545173, 0.000268926756689325, 0.00021331773314159364, 0.03399521857500076, -0.020351102575659752, -0.005769981537014246, 0.006723425351083279, -0.026482734829187393, 0.02414843998849392, -0.008728946559131145, 0.01796749234199524, 0.01923327147960663, -0.010594737716019154, -0.0037891187239438295, -0.036658287048339844, -0.006439858116209507, 0.001955177169293165, -0.036954183131456375, -0.008280991576611996, -0.03912409022450447, -0.016800343990325928, 0.013537263497710228, 0.020877139642834663, 0.0016428419621661305, -0.011901614256203175, -0.01407152134925127, 0.005626142956316471, -0.016948292031884193, -0.008630313910543919, -0.01767159439623356, -0.005572717171162367, 0.02871839702129364, 0.004335705190896988, 0.023671718314290047, -0.011350917629897594, -0.005827516783028841, -0.03266368433833122, 0.025644361972808838, 0.01911820098757744, -0.011802981607615948, -0.0060699875466525555, -0.007397411856800318, 0.013964669778943062, 0.005696007050573826, -0.029507454484701157, 0.004017205443233252, -0.014794823713600636, 0.002424707170575857, 0.029671842232346535, -0.0032281484454870224, -0.02276759035885334, 0.009485125541687012, 0.004033644217997789, 0.014589340426027775, 0.016504447907209396, -0.04445022717118263, -0.004590505268424749, -0.013512605801224709, 0.0027288231067359447, -0.0035507576540112495, -0.030017053708434105, 0.01831270381808281, -0.010660492815077305, 0.011063240468502045, 0.002712384331971407, -0.08035233616828918, -0.028685519471764565, 0.027140282094478607, -0.001519551733508706, 0.02559504471719265, -0.021518249064683914, 0.03292670100927353, -0.02474023401737213, 0.024395020678639412, 0.011794762685894966, 0.009296081028878689, 0.012238606810569763, 0.00831797905266285, -0.005950807128101587, 0.0021062076557427645, 0.01519757229834795, -0.007409741170704365, -0.020959334447979927, -0.02830743044614792, 0.01975930854678154, -0.0005943615105934441, -0.011128995567560196, -0.004389130976051092, -0.009402932599186897, 0.009320738725364208, 0.0031665032729506493, -0.008050849661231041, 0.02386898174881935, -0.00909881666302681, -0.01629074476659298, 0.02674575336277485, 0.010915292426943779, -0.025348465889692307, 0.003743912326171994, -0.0149098951369524, -0.016438692808151245, -0.01098104752600193, 0.01169613003730774, 0.001690103206783533, 0.004730233922600746, 0.023721033707261086, 0.018970251083374023, -0.01204956229776144, 0.006854935083538294, -0.005408329889178276, 0.018131878226995468, 0.011293382383883, -0.004058302380144596, 0.0034295222721993923, 0.005034349858760834, 0.006982334889471531, 0.028389623388648033, 0.005153530277311802, 0.020416857674717903, -0.021764829754829407, -0.00439324090257287, -0.04333239421248436, -0.010348157025873661, -0.015033184550702572, 0.013948231004178524, 0.0019109981367364526, 0.03872955963015556, 0.03517880290746689, -0.0010798167204484344, -0.007524811662733555, 0.010644054040312767, 0.02081138640642166, 0.012312580831348896, -0.006785070523619652, 0.006386432331055403, -0.044811878353357315, -0.007849476300179958, -0.0031993805896490812, -0.008663191460072994, 0.0019788076169788837, -0.01612635888159275, -0.00976458378136158, -0.009057720191776752, -0.010471447370946407, -0.0005103700677864254, -0.02132098563015461, 0.0011722843628376722, -0.007578237447887659, 0.01216463278979063, -0.0022870332468301058, 0.004029534757137299, -0.01453180518001318, -0.013676992617547512, -0.029540332034230232, -0.007775501813739538, 0.0015452371444553137, -0.003785009030252695, -0.03843366354703903, 0.014523585326969624, -0.008515243418514729, 0.005227504298090935, 0.023145679384469986, 0.02148537151515484, -0.0004913628217764199, 0.0191346388310194, 0.018296265974640846, -0.010989266447722912, 0.009082377888262272, -0.025348465889692307, -0.003528154455125332, -0.029145803302526474, 0.032860949635505676, 0.02189633995294571, 0.01826338842511177, -0.013792064040899277, -0.0025130652356892824, -0.029885543510317802, -0.02594025805592537, -0.02270183525979519, -0.013249586336314678, -0.028126604855060577, 0.008917991071939468, 0.0017003773245960474, 0.005383672192692757, 0.008507023565471172, -0.001777433673851192, -0.01522222999483347, -0.015986628830432892, -0.01063583418726921, -0.010085138492286205, -0.022340184077620506, 0.006591916084289551, 0.007064528297632933, -0.02646629698574543, 0.037874750792980194, 0.001257559983059764, 0.015131817199289799, -0.0044466666877269745, 0.013044103048741817, -0.0031356806866824627, -0.021403178572654724, -0.01819763332605362, 0.0020815494935959578, 0.005383672192692757, 0.03646102175116539, -0.01994013413786888, 0.0020199043210595846, 0.01796749234199524, -0.051847636699676514, 0.019496290013194084, 0.01952916756272316, 0.015353739261627197, -0.026532050222158432, -0.005959026515483856, 0.024230632930994034, -0.021419616416096687, 0.0007674815133213997, 0.027880024164915085, 0.022981293499469757, -0.02952389232814312, 0.02056480571627617, 2.631154166010674e-05, -0.0023856654297560453, 0.009542661719024181, -0.008975526317954063, -0.0298197902739048, 0.008231675252318382, 0.03790762647986412, -0.013331780210137367, 0.01757296361029148, 0.012222168035805225, -0.03461988642811775, -0.010274183005094528, 0.024016931653022766, 0.024132002145051956, 0.03310752660036087, -0.012263265438377857, 0.0107180280610919, -0.007713856641203165, -0.004993252921849489, 0.020581243559718132, 0.015386616811156273, -0.02127166837453842, -0.040472064167261124, -0.0038672026712447405, 0.008630313910543919, 0.047705087810754776, 0.006209716200828552, 0.0017486660508438945, 0.01711267977952957, 0.007335766684263945, -0.0016048274701461196, 0.045502301305532455, -0.01768803410232067, -0.014277004636824131, -0.012633135542273521, 0.022751150652766228, 0.010841318406164646, -0.006152180954813957, -0.0009750199969857931, 0.016003068536520004, 0.008753604255616665, -0.03299245610833168, -0.008885113522410393, 0.008580997586250305, -0.010397473350167274, -0.012641355395317078, 0.00486996304243803, 0.007964546792209148, -0.008038520812988281, -0.008712507784366608, -0.015657855197787285, 0.0002061257982859388, -0.0014650985831394792, 0.02056480571627617, -0.03738158941268921, -2.2073440050007775e-05, -0.014901675283908844, 0.01923327147960663, 0.0025315587408840656, -0.018707232549786568, -0.025874502956867218, -0.025151200592517853, -0.00012097851140424609, 0.012476968578994274, 0.025463536381721497, -0.014375637285411358, 0.025529291480779648, -0.008211127482354641, -0.016898976638913155, -0.007791940588504076, -0.002687726402655244, -0.005683678202331066, 0.010578298941254616, -0.0025747104082256556, -0.011219408363103867, -0.0021062076557427645, 0.008186468854546547, 0.0018955868436023593, 0.015082500874996185, -0.006957676727324724, -0.010734466835856438, 0.016833221539855003, 0.015115378424525261, 0.036493897438049316, 0.006497393362224102, 0.01964423805475235, -0.024197757244110107, -0.01987438090145588, 0.03902545943856239, -0.002073330106213689, -0.04103097692131996, -0.00040094999712891877, 0.022323746234178543, 0.021288108080625534, -0.011449550278484821, -0.019956573843955994, 0.018329143524169922, 0.0012945471098646522, -0.015345520339906216, -0.02102508954703808, -0.008046740666031837, 0.026827948167920113, 0.013298902660608292, -0.03889394924044609, -0.04948046803474426, -0.014400294981896877, 0.002617861842736602, 0.01854284666478634, 0.0134057542309165, -0.0003382774884812534, -0.023671718314290047, -0.00861387513577938, -0.007611114997416735, 0.02536490373313427, 0.018575724214315414, 0.006000122986733913, 0.003571306122466922, 0.013413974083960056, 0.00907415896654129, 0.004520640708506107, -0.008424830622971058, 0.02541421912610531, -0.01121118851006031, 0.034521255642175674, -0.03577059507369995, -0.00669054826721549, 0.026532050222158432, -0.006435748189687729, -0.00527271069586277, -0.03655965253710747, -0.01803324557840824, -0.010594737716019154, -0.016101699322462082, 0.01158927846699953, 0.009008403867483139, -0.010159112513065338, 0.03912409022450447, -0.0004803180636372417, 0.031578730791807175, -0.015904435887932777, -0.009427590295672417, 0.017260627821087837, 0.011770104058086872, 0.0012041343143209815, 0.011794762685894966, 0.022488132119178772, 0.02531558834016323, 0.008975526317954063, -0.013923573307693005, -0.013068760745227337, -0.03540894389152527, 0.012329019606113434, 0.026482734829187393, -0.028570448979735374, -0.0068754833191633224, -0.02409912459552288, -0.010964608751237392, 0.009904312901198864, -0.026795070618391037, -0.020005889236927032, -0.007446728181093931, 0.01959492266178131, -0.010972827672958374, 0.01757296361029148, 0.01734282076358795, -0.0045699565671384335, 0.01924970932304859, 0.026153961196541786, -0.009616635739803314, 0.007545360364019871, -0.010233086533844471, -0.018362021073698997, 0.002527449047192931, -0.020877139642834663, 0.01936477981507778, -0.009813900105655193, -0.011597498320043087, -0.018164755776524544, -0.003982273396104574, -0.001717843464575708, 0.01814831793308258, -0.019381219521164894, -0.009107036516070366, -0.0009411151986569166, -0.015353739261627197, 0.004128166940063238, 0.01906888373196125, 0.011227627284824848, 0.019693555310368538, 0.02288266085088253, -0.0014784550294280052, 0.014203030616044998, -0.0034932224079966545, -0.028110165148973465, 0.0178524199873209, -0.027584128081798553, -0.01658664084970951, -0.005404220428317785, -0.032630804926157, 0.0030822549015283585, -0.014696191996335983, -0.032104767858982086, 0.010413912124931812, -0.03269656002521515, 0.0033760967198759317, 0.010709808208048344, -0.033206161111593246, 0.002889100229367614, -0.03912409022450447, 0.0035671964287757874, 0.026071768254041672, 0.00441789859905839, 0.025381341576576233, -0.025003252550959587, 0.008227566257119179, -0.01767159439623356, -0.01617567427456379, 0.0014527695020660758, 0.018509969115257263, -0.03639526665210724, -0.0027596456930041313, -0.03299245610833168, 0.01253450382500887, -0.014868797734379768, 0.0004271491779945791, 0.007919340394437313, 0.029096487909555435, -0.006423419341444969, 0.014712630771100521, 0.0027349875308573246, 0.019627800211310387, 0.012263265438377857, 0.017425015568733215, 0.011663252487778664, 0.02242237702012062, 0.00794810801744461, 0.009411151520907879, -0.003129516262561083, -0.0190031286329031, 0.010323499329388142, 0.05470797047019005, 0.04438447207212448, -0.04533791542053223, 0.016274306923151016, 0.023901859298348427, 0.0017702417680993676, -0.008309759199619293, -0.0015791419427841902, -0.014079741202294827, 0.005580936558544636, -0.020433295518159866, 0.025808747857809067, 0.0291129257529974, -0.048559900373220444, -0.02686082385480404, -0.002004493260756135, -0.018329143524169922, -0.036263756453990936, -0.00670287711545825, -0.011441330425441265, -0.003924738150089979, 0.019907256588339806, 0.01849352940917015, -0.018394898623228073, -0.017819544300436974, -0.024526530876755714, 0.016594860702753067, -0.022175796329975128, 0.015674294903874397, 0.02051548846065998, -0.0546422153711319, -0.012320800684392452, -0.027485495433211327, -0.026778630912303925, 0.006456296890974045, 0.011457769200205803, 0.07476317882537842, -0.016849661245942116, -0.012633135542273521, -0.011350917629897594, -0.008387843146920204, 0.0028377294074743986, 0.036658287048339844, -0.0016079096822068095, 0.008745384402573109, 0.0002250046090921387, -0.002371281385421753, -0.015879778191447258, -0.009139913134276867, 0.013224928639829159, 0.0391569659113884, 0.0064151999540627, -0.007253573276102543, -0.004668588750064373, 0.0011044746497645974, -0.006994664203375578, -0.0005964163574390113, -0.0031110227573662996, -0.01033993810415268, -0.02797865681350231, 0.007027541287243366, -0.013594799675047398, -0.008256333880126476, 0.01426878571510315, 0.021074404940009117, -0.024986812844872475, 0.0006056631100364029, -0.031989697366952896, 0.02409912459552288, 0.014309882186353207, 0.017885297536849976, 0.005293259397149086, 0.03144722059369087, 0.019956573843955994, -0.010964608751237392, 0.007196038030087948, 0.0067521934397518635, 0.0017106515588238835, -0.014589340426027775, -0.009328958578407764, -0.03438974544405937, 0.022044287994503975, 0.004183647222816944, 0.021797707304358482, 0.03004993125796318, 0.009378274902701378, -0.014679753221571445, 0.01043035089969635, 0.008745384402573109, 0.015698952600359917, 0.01080844085663557, 0.007964546792209148, -0.007931669242680073, 0.012764645740389824, -0.009197449311614037, -0.023951176553964615, -0.02363884076476097, 0.01418659184128046, 0.018345581367611885, -0.008556339889764786, 0.028701959177851677, -0.0191346388310194, -0.019841503351926804, 0.003974054008722305, 0.007302889600396156, 0.0014784550294280052, 0.009830338880419731, -0.037184324115514755, 0.024658039212226868, 0.01901956833899021, 0.030230756849050522, -0.035803474485874176, -0.024805987253785133, -0.036263756453990936, -0.02635122463107109, -0.002414433052763343, -0.015230448916554451, 0.01005226094275713, -0.02161688171327114, 0.012937251478433609, -0.0014733178541064262, 0.009953628294169903, 0.008942648768424988, 0.009616635739803314, -0.005552168469876051, -0.01409617904573679, -0.01242765225470066, 0.014605779200792313, 0.01704692468047142, -0.012592039071023464, 0.012353678233921528, 0.012131755240261555, -0.00019045767839998007, 0.017359260469675064, 0.0019387383945286274, 0.0191346388310194, 0.01204956229776144, -0.008654971607029438, 0.00755357975140214, 0.009246764704585075, 0.013093419373035431, 0.0005342575022950768, -0.03402809426188469, 0.017540086060762405, -0.024510091170668602, 0.006394651718437672, 0.02952389232814312, -0.010849537327885628, 0.0025993683375418186, 0.0020096302032470703, 0.0022931976709514856, -0.002950745401903987, 0.03738158941268921, -0.012756425887346268, -0.0069905542768538, 0.018444214016199112, 0.005679568741470575, 0.000700185599271208, -0.012838619761168957, 0.002229497767984867, -0.02559504471719265, 0.011022143997251987, 0.009057720191776752, -0.018986690789461136, 0.004185702186077833, 0.015583881177008152, -0.010175551287829876, -0.03771036118268967, 0.01936477981507778, 0.00010447559907333925, 0.016438692808151245, 0.021189475432038307, -0.027649881318211555, 0.02340869978070259, -0.04182003438472748, -0.004483653698116541, 0.011375575326383114, -0.009822119027376175, 0.00508366571739316, 0.0005455591599456966, -0.04662013426423073, 0.0023260749876499176, -0.006735754664987326, 0.02235662192106247, -0.013389315456151962, 0.010389254428446293, 0.007676869630813599, -0.007212476804852486, 0.005420659203082323, -0.03062528558075428, -0.007043980062007904, -0.03156229108572006, 0.022619642317295074, -0.025973135605454445, -0.02104152739048004, 0.050072260200977325, -0.01149886567145586, 0.012887935154139996, -0.012287923134863377, -0.036493897438049316, -0.005026130471378565, 0.014466050080955029, -0.026614245027303696, -0.008531682193279266, -0.004195976536720991, 0.014170153997838497, 0.009920751675963402, -0.04149126261472702, -0.0013428357196971774, -0.022800467908382416, 0.016052383929491043, 0.007434398867189884, -0.017063364386558533, 0.0035918543580919504, 0.018789425492286682, 0.0021205914672464132, 0.04500914365053177, -0.018362021073698997, 0.03554045408964157, -0.018871620297431946, -0.00029384164372459054, -0.01773734949529171, 0.04195154458284378, -0.0017538031097501516, -0.02317855693399906, -0.004360363353043795, -0.0054576462134718895, -0.01438385620713234, -0.012723548337817192, 0.016668835654854774, -0.007060418836772442, 0.03830215707421303, 0.007664540782570839, -0.005605594255030155, -0.01022486761212349, 0.03246641904115677, -0.00976458378136158, 0.0022007301449775696, 0.0028192359022796154, -0.018214073032140732, -0.0063987611792981625, -0.033600687980651855, 0.002208949299529195, -0.009164571762084961, 0.009912531822919846, -0.010898853652179241, 0.02825811319053173, -0.008449488319456577, -0.008860455825924873, -0.014104398898780346, -0.009238545782864094, 0.00945224892348051, -0.005145310889929533, 0.013052321970462799, -0.004791879095137119, 0.003663773648440838, -0.013208489865064621, -0.004422008525580168, 0.00039170324453152716, -0.028438938781619072, -0.0028130714781582355, 0.0005316889728419483, 0.01360301859676838, 0.014803043566644192, -0.0006904251058585942, -0.01051254477351904, -0.023589525371789932, 0.0007417960441671312, -0.00468091806396842, -0.01952916756272316, 0.00039478548569604754, 0.003059651702642441, -0.03402809426188469, -0.002993897069245577, 0.023589525371789932, -0.005301478784531355, 0.028471816331148148, -0.007767282426357269, 0.011909833177924156, -0.002002438297495246, 0.028751274570822716, -0.041918668895959854, -0.02155112661421299, -0.0006082316394895315, -0.012485187500715256, -0.001726062735542655, 0.020268909633159637, 0.009485125541687012, 0.028981415554881096, -0.02715672180056572, -0.004113783128559589, 0.0009688554564490914, 0.011318040080368519, -0.009485125541687012, 0.011449550278484821, 0.009904312901198864, -0.00955910049378872, 0.003793228417634964, -0.0004690164641942829, 0.016142796725034714, -0.0004063439555466175, -0.012189291417598724, -0.027123844251036644, -0.027863584458827972, 0.010972827672958374, 0.02524983324110508, -0.017655156552791595, 0.003649389836937189, 0.002638410311192274, 0.018131878226995468, 0.032729439437389374, 0.001693185418844223, 0.006135742180049419, -0.0157400481402874, 0.02051548846065998, 0.01906888373196125, -0.022751150652766228, -0.001121940789744258, -0.012509845197200775, -0.03445550054311752, 0.01395645085722208, -0.0043028281070292, 0.021534688770771027, -0.009156351909041405, -0.004931607749313116, -0.020992211997509003, -0.007171379867941141, -0.004545298870652914, 0.01109611801803112, -0.02104152739048004, 0.02044973522424698, -0.013734527863562107, -0.006805619224905968, 0.02166619710624218, -0.03478427603840828, 0.02773207612335682, 0.0014466049615293741, -0.004808317869901657, -0.024016931653022766, -0.006719315890222788, 0.0047179050743579865, 0.027370424941182137, -0.0021555237472057343, 0.0032466419506818056, -0.0029610195197165012, -0.011613937094807625, 0.005539839621633291, 0.010126234963536263, 0.010068699717521667, -0.012600257992744446, 0.018690794706344604, 0.004853524267673492, -0.017030486837029457, -0.009887874126434326, -0.0006791235064156353, 0.013085199519991875, -0.013463289476931095, -0.022290868684649467, 0.005490523763000965, -0.0004636225348804146, 0.01158105954527855, 0.0007638855022378266, -0.010364595800638199, 0.008071398362517357, -0.03101981431245804, 0.010348157025873661, -0.011942710727453232, 0.009624854661524296, 0.0007366589270532131, -0.042674846947193146, 0.0056466911919415, -0.020186714828014374, 0.02283334545791149, -0.01883874274790287, 0.037184324115514755, 0.0011239956365898252, -0.003809667192399502, -0.0035856899339705706, -0.005683678202331066, 0.03912409022450447, -0.004245292395353317, 0.01808256283402443, -0.006748083513230085, 0.010915292426943779, -0.00651383213698864, -0.0068097286857664585, -0.006637122482061386, -0.011457769200205803, -0.016578422859311104, -0.015394836664199829, 0.014309882186353207, 0.0018750384915620089, 0.004734343849122524, 0.004274060018360615, -0.0030637613963335752, 0.03366644307971001, -0.01597019098699093, 0.007652211934328079, 0.031102007254958153, -0.009493345394730568, 0.01732638292014599, -0.0031089677941054106, 0.001173311728052795, 0.023721033707261086, 0.0014137276448309422, 0.015115378424525261, 0.0279622171074152, 0.024279950186610222, 0.004874072503298521, -0.014523585326969624, -0.0028295100200921297, -0.030773233622312546, 0.005404220428317785, 0.02281690575182438, -0.013446850702166557, 0.031923942267894745, 0.02081138640642166, 0.02432926557958126, -0.02056480571627617, 0.010792002081871033, 0.0034233578480780125, -0.003357602981850505, 0.0003839975979644805, 0.0028274552896618843, -0.01808256283402443, 0.015764707699418068, 0.0029877324122935534, 0.00022834372066427022, -0.0037500769831240177, 0.0015894161770120263, 0.014482488855719566, 0.005120652727782726, -0.0032343128696084023, 0.010035822167992592, 0.009641293436288834, 0.003700760891661048, -0.06930553168058395, 0.04586395248770714, 0.002663068240508437, -0.006291909608989954, -0.024296388030052185, -0.025167638435959816, -0.006998773664236069, -0.019381219521164894, 0.005778200458735228, -0.024871742352843285, 0.003766515525057912, -0.019200393930077553, -0.006427529267966747, -0.004701466299593449, 0.012994786724448204, -0.0031932161655277014, 0.0101426737383008, 0.006497393362224102, -0.013463289476931095, -0.0013972888700664043, -0.01500030793249607, -0.017293505370616913, -0.030592408031225204, 0.006575477309525013, -0.01803324557840824, -0.016578422859311104, -0.006961786653846502, 0.013282463885843754, -0.05224216729402542, -0.0007176516810432076, 0.005412439815700054, -0.004479543771594763, 0.003215819364413619, -0.008654971607029438, 0.017819544300436974, 0.010734466835856438, -0.0036802124232053757, 0.024986812844872475, -0.0033288353588432074, -0.007771392352879047, 0.012255045585334301, 0.017014047130942345, 0.01629074476659298, 0.009830338880419731, -4.9508722440805286e-05, 0.003497332101687789, -0.016307184472680092, -0.01424412801861763, -0.00010158598888665438, 0.005959026515483856, -0.006012451834976673, -0.020466173067688942, 0.010200208984315395, 0.028438938781619072, 0.008761823177337646, 0.0013459180481731892, 0.0047055757604539394, -0.019956573843955994, 0.009444029070436954, 0.010964608751237392, 0.0018329143058508635, 0.008753604255616665, -0.037578850984573364, -0.019808625802397728, 0.018855180591344833, -0.0003457262646406889, 0.01550990715622902, -0.0020168221089988947, 0.03544182330369949, -0.0011671471875160933, -0.0038322703912854195, 0.002515119966119528, -0.0008532709325663745, -0.018131878226995468, 0.024279950186610222, 0.001563730649650097, 0.024362143129110336, 0.038335032761096954, 0.020022328943014145, 0.03258148953318596, 0.005971355363726616, 0.006168619729578495, -0.03338698670268059, 0.037250079214572906, 0.006378212943673134, 0.010857757180929184, 0.004352143965661526, 0.0019140803487971425, -0.017770227044820786, -0.008059069514274597, -0.002876771381124854, 0.018855180591344833, 0.029803350567817688, 0.0010880359914153814, 0.011531743220984936, 0.009633074514567852, 0.02102508954703808, -0.0369870588183403, 0.0051165432669222355, -0.018279826268553734, -0.011729007586836815, -0.011950929649174213, 0.020433295518159866, 0.020597683265805244, -0.015123597346246243, -0.012674232944846153, 0.007528921589255333, 0.02294841594994068, 5.622707249131054e-06, -0.0045822858810424805, -0.009312519803643227, -0.008917991071939468, -0.010479667223989964, -0.0080303018912673, 0.01661130040884018, -0.0279622171074152, -0.02640054188668728, -0.0010058425832539797, 0.0008846072014421225, 0.01063583418726921, -0.003230203175917268, 0.006571367848664522, 0.009986505843698978, 0.007064528297632933, 0.0036781576927751303, 0.009222107008099556, 0.03067460097372532, -0.0004690164641942829, 0.0029897873755544424, 0.0011537907412275672, 0.0002625053748488426, 0.0012216003378853202, 0.008507023565471172, 0.000581005064304918, -0.014992088079452515, -0.010504324920475483, -0.0013305067550390959, 0.01580580323934555, 0.03609937056899071, -0.005141201429069042, -0.020268909633159637, 0.02547997422516346, 0.015074281953275204, -0.012345458380877972, 0.01418659184128046, 0.0013880421174690127, 0.007767282426357269, -0.007574127987027168, 0.0027760842349380255, -0.0053877816535532475, -0.03179243206977844, 0.01343041192740202, -0.005338465794920921, 0.0010022466303780675, -0.00878648180514574, 0.0010433433344587684, -0.012312580831348896, -0.021715514361858368, -0.0006976170698180795, -0.03402809426188469, 0.005285040009766817, 0.01331534143537283, 0.007980985566973686, -0.027666321024298668, 0.013372876681387424, 0.01557566225528717, 0.007035760674625635, 0.032203398644924164, -0.018164755776524544, 0.008026191964745522, -0.013685212470591068, 0.005276820622384548, 0.004886401351541281, 0.005732994060963392, -0.004989143460988998, 0.009024842642247677, -0.027534810826182365, -0.010989266447722912, 0.006041219923645258, 0.008272772654891014, 0.0002126756007783115, 0.004767220932990313, 0.003994602244347334, -0.015320861712098122, 0.010857757180929184, -0.011507085524499416, -0.014416733756661415, -0.0009611498680897057, 0.0011332423891872168, 0.009665952064096928, 0.011112556792795658, 0.009419371373951435, -0.018575724214315414, 0.011063240468502045, -0.003353493520990014, -0.012370117008686066, 0.000799331464804709, -0.00546175567433238, 0.0035589770413935184, 2.741922617133241e-05, 0.0030247196555137634, -0.020416857674717903, -0.024921059608459473, 0.020236032083630562, 0.02784714661538601, 0.011219408363103867, -0.009156351909041405, 0.019792186096310616, 0.010060479864478111, 0.004372692201286554, 0.0007191928452812135, -0.0031028033699840307, 0.004130221903324127, 0.00783303752541542, 0.009797461330890656, -0.0032055452466011047, 0.015567442402243614, 0.014778384938836098, -0.0128303999081254, 0.011992027051746845, 0.012575600296258926, 0.015246887691318989, 0.010109796188771725, -0.023556647822260857, -0.008959087543189526, -4.4114774937042966e-05, -0.006550819147378206, 0.020778508856892586, -0.002391829853877425, -0.004253511782735586, -0.022488132119178772, -0.011457769200205803, -0.014087960124015808, 0.02917868085205555, -0.024477213621139526, 0.0059220390394330025, 0.00026378966867923737, 0.007611114997416735, -0.006164509803056717, -0.0016757192788645625, -0.008330307900905609, 0.01918395422399044, 0.0037747349124401808, 0.008272772654891014, 0.0013808502117171884, 0.011367356404662132, -0.0009477934218011796, -0.021978532895445824, 0.003468564245849848, -0.022257991135120392, -0.00043485479545779526, -0.007027541287243366, -0.004754892084747553, 0.007746734190732241, -0.017983930185437202, -0.010282402858138084, 0.011153653264045715, 0.0067398641258478165, -0.0012287923600524664, -0.004249402321875095, 0.004274060018360615, -0.0018092836253345013, 0.02391829900443554, -0.007865915074944496, 0.010471447370946407, 0.0017034595366567373, -0.006012451834976673, 0.012296142987906933, 0.028932100161910057, 0.017244189977645874, 0.0009950546082109213, -0.009756364859640598, -0.002915813121944666, -0.017014047130942345, -0.037118569016456604, -0.010816659778356552, 0.02230730652809143, 0.02306348644196987, -0.013068760745227337, -0.0021986751817166805, -0.013627676293253899, -0.022027848288416862, -0.011161873117089272, -0.009912531822919846, -0.006431638728827238, 0.004993252921849489, -0.015978408977389336, -0.01578114554286003, 0.011556400917470455, -0.00043074513087049127, -0.0029384163208305836, -0.0023096364457160234, -0.03361712768673897, -0.01688253879547119, -0.003413083730265498, 0.013159173540771008, -0.0031233516056090593, -0.024937497451901436, 0.0023774460423737764, 0.004212415311485529, -0.006842606235295534, 0.015493468381464481, 0.014753727242350578, 0.008679630234837532, -0.04918457195162773, 0.031874626874923706, 0.010356376878917217, 0.0011496811639517546, -0.010011164471507072, 0.0026014233008027077, 0.009863215498626232, 0.01895381323993206, -0.0022767591290175915, -0.029195118695497513, 0.0038425445090979338, -0.01964423805475235, 0.0513215996325016, -0.01415371522307396, 0.026334786787629128, 0.003291848348453641, 0.018674355000257492, -0.01964423805475235, 0.00936183612793684, -0.011071460321545601, 0.01045500859618187, 0.021452493965625763, -0.0010489941341802478, 0.013759186491370201, -0.004245292395353317, -0.02102508954703808, -0.00477955024689436, -0.010159112513065338, -0.015057843178510666, -0.006283690687268972, -0.026071768254041672, 0.007035760674625635, -0.01888805814087391, -0.001289410050958395, -0.010093357414007187, -0.022044287994503975, 0.008322088047862053, 0.003793228417634964, 0.00320759997703135, 0.003230203175917268, 0.013652334921061993, -0.011679691262543201, 0.047705087810754776, 0.026219716295599937, 0.0021842913702130318, 0.013216709718108177, -0.0041055637411773205, 0.012238606810569763, -0.005432988051325083, 0.0016788014909252524, 0.032449979335069656, 0.0028932099230587482, -0.003556922310963273, 0.008967307396233082, -0.01716199517250061, 0.0005342575022950768, 0.014424953609704971, 0.007759063038975, -0.0029630744829773903, -0.009608415886759758, -0.008778261952102184, -0.0056466911919415, -0.002889100229367614, -0.002630190923810005, -0.01112077571451664, -0.007298779673874378, -0.015074281953275204, -0.005741213448345661, 0.005367233417928219, -0.006090535782277584, -0.0034932224079966545, -0.00987965427339077, 0.008416610769927502, 0.011194749735295773, 0.01819763332605362, -0.010101577267050743, 0.010348157025873661, -0.0009647458209656179, -0.003521990031003952, 0.008753604255616665, -0.0034767836332321167, -0.011087898164987564, -0.009822119027376175, -0.030296511948108673, 0.0028808810748159885, 0.012608477845788002, -0.02109084278345108, -0.02478954941034317, -0.008539901115000248, 0.011350917629897594, -0.027189599350094795, -0.01083309855312109, 0.0009811845375224948, 0.014342759735882282, -0.0036267866380512714, -0.0035774705465883017, -0.003877476789057255, -0.011942710727453232, -0.01052076369524002, 0.006822057534009218, 0.019200393930077553, -0.011983807198703289, -0.00955910049378872, 0.007393302395939827, 0.001189750386402011, 0.013339999131858349, -0.0012668068520724773, 0.015978408977389336, -3.0838604288874194e-05, 0.006287800148129463, 0.007664540782570839, 0.0010150893358513713, -0.02247169427573681, -0.010307060554623604, 0.03194038197398186, 0.001615101587958634, -0.017425015568733215, 0.0025664910208433867, 0.00544531736522913, 0.007915230467915535, 0.004483653698116541, -0.009419371373951435, 0.004058302380144596, 0.0032343128696084023, -0.004193921573460102, 0.01675102859735489, 0.009263203479349613, 0.01918395422399044, 0.006374103482812643, 0.0005815187469124794, -0.012287923134863377, 0.007504263427108526, 0.0008147427579388022, -0.0014620162546634674, 0.0208607017993927, -0.012961909174919128, -0.01254272274672985, 0.018099000677466393, -0.007298779673874378, 0.00498503353446722, -0.00883579719811678, 0.011104336939752102, -0.02536490373313427, 0.00040094999712891877, -0.019052445888519287, 0.006641231942921877, -0.02063056081533432, 0.0023363493382930756, 0.0014784550294280052, 0.002755535999312997, -0.005087775643914938, -0.0033391094766557217, 0.013068760745227337, 0.006727535277605057, 0.008704287931323051, -0.0062056067399680614, 0.0101426737383008, 0.016298964619636536, 0.005502852611243725, -0.026778630912303925, -0.004006931558251381, -0.004080905579030514, -0.00131406809668988, -0.003351438557729125, 0.016964731737971306, 0.029195118695497513, 0.017951052635908127, -0.006711096502840519, -0.015887996181845665, 0.0001375456340610981, -0.0061973873525857925, 0.0017414740286767483, 0.01485235895961523, -0.015559223480522633, -0.012657794170081615, -0.003811721922829747, -0.005420659203082323, -0.01204956229776144, 0.0007181654218584299, -0.006805619224905968, -0.015559223480522633, -0.007430289406329393, 0.023622402921319008, -0.020038766786456108, -0.02940882183611393, -0.0005260381731204689, -0.0041651539504528046, -0.0006683356477878988, 0.0059220390394330025, 0.0011373520828783512, 0.000987862702459097, 0.02756768837571144, -0.020646998658776283, 0.011531743220984936, -0.012756425887346268, 0.003310341853648424, 0.005519291386008263, -0.017638718709349632, -0.005671349354088306, 0.025167638435959816, -0.02247169427573681, 0.0007885435479693115, -0.0022911429405212402, 0.0026918360963463783, -0.023425137624144554, -0.01975930854678154, -0.025578606873750687, -0.01686609908938408, 0.0008984773303382099, 0.01031528040766716, -0.02109084278345108, 0.020383980125188828, 0.021173037588596344, 0.014794823713600636, -0.005498742684721947, 0.019611360505223274, -0.028274552896618843, -0.00898374617099762, -0.009641293436288834, -0.001492838840931654, 0.00717959925532341, 0.0036267866380512714, 0.009994725696742535, -0.002167852595448494, -0.030658163130283356, -0.01699760928750038, -0.015123597346246243, -0.016372937709093094, -0.0072165862657129765, 0.01589621603488922, 0.021567566320300102, 0.019036006182432175, -0.007775501813739538, -0.00036499035195447505, -0.0043110474944114685, 0.013964669778943062, 0.0006683356477878988, 0.015123597346246243, 0.008967307396233082, 0.002979513257741928, 0.006254922598600388, -0.006785070523619652, 0.016414035111665726, -0.0073645347729325294, 0.004352143965661526, 0.019200393930077553, -0.009107036516070366, -0.004177482798695564, 0.019973011687397957, -0.030411582440137863, 0.006374103482812643, -0.004602834116667509, -0.01533730048686266, -0.010668711736798286, 0.0009652595035731792, -0.02350733056664467, -0.011457769200205803, -0.033189721405506134, 0.011293382383883, -0.0014918113593012094, -0.01699760928750038, -0.007039870601147413, 0.005889161955565214, 0.010915292426943779, -0.028915662318468094, 0.03317328169941902, 0.01464687567204237, 0.050006505101919174, -0.006633012555539608, 0.005942587740719318, -0.008876894600689411, 0.003595964051783085, 0.0070234318263828754, 0.00301855499856174, 0.010068699717521667, 0.01780310459434986, 0.015797583386301994, 0.008852235972881317, 0.010676931589841843, -0.004171318374574184, 0.004495982546359301, -0.006361774168908596, -0.010956388898193836, 0.02426351048052311, -0.013857818208634853, -0.007376863621175289, -0.0014671534299850464, 0.011613937094807625, -0.00898374617099762, 0.027929339557886124, 0.02485530450940132, 0.011087898164987564, -0.02403336949646473, 0.010816659778356552, -0.003380206413567066, 0.020203154534101486, 0.011170092038810253, -0.007463166955858469, 0.005400110501796007, -0.022553887218236923, 3.567068051779643e-05, -9.81826669885777e-05, -0.0041630989871919155, -0.0036000737454742193, -0.0056466911919415, 0.007504263427108526, -0.017786666750907898, 0.005901490803807974, -0.0009924861369654536, -0.0034069190733134747, 0.010644054040312767, 0.012115316465497017, -0.0017661320744082332, -0.011770104058086872, 0.002208949299529195, -0.00022205078857950866, -0.013249586336314678, -0.012772864662110806, -0.013529044575989246, -0.007972766645252705, 0.003291848348453641, 0.011778323911130428, 0.009337177500128746, -0.02334294468164444, 0.026301909238100052, -0.006135742180049419, 0.00206202850677073, -0.004323376342654228, -0.0019171625608578324, 0.009805680252611637, 0.02079494670033455, 0.0032178740948438644, -0.0037644607946276665, 0.01883874274790287, 0.0033555482514202595, 0.003394590225070715, 0.008350856602191925, -0.0013017390156164765, -0.022159358486533165, 0.0157400481402874, -0.01386603806167841, 0.0391569659113884, 0.0034500707406550646, -0.004041863605380058, 0.01051254477351904, 0.02184702269732952, -0.01033993810415268, -0.003760351100936532, -0.014712630771100521, 0.023605963215231895, -0.008289211429655552, -0.01918395422399044, 0.03951861709356308, 0.0005067741149105132, -0.01667705364525318, -0.007520702201873064, 0.0013757131528109312, -0.004101453814655542, 0.008009753189980984, 0.0017291450640186667, -0.006554929073899984, -0.014868797734379768, 0.0076275537721812725, -0.016167454421520233, -0.006328897085040808, 0.011835859157145023, 0.005576826632022858, -0.006164509803056717, 0.017901737242937088, -0.01564963534474373, -0.0058645037934184074, 0.020482610911130905, -0.003351438557729125, 0.005806968547403812, -0.00025993684539571404, 0.01531264279037714, -0.00021293244208209217, 0.012518065050244331, 0.0059919035993516445, -0.013775625266134739, -0.011482426896691322, -0.00301855499856174, -0.02483886480331421, -0.02506900765001774, 0.01195914950221777, -0.009863215498626232, 0.003766515525057912, -0.002630190923810005, 0.0017661320744082332, 0.0021596334408968687, 0.0024123783223330975, 0.010874195955693722, 0.0029980067629367113, 0.004454886075109243, 0.020877139642834663, 0.00930429995059967, 0.018641477450728416, 0.013233148492872715, -0.01699760928750038, -0.006448077503591776, -0.008531682193279266, -0.01092351134866476, -0.009444029070436954, -0.0019520948408171535, -0.030115686357021332, -0.0024514200631529093, 0.0019901092164218426, -0.027584128081798553, 0.01022486761212349, -0.004422008525580168, 0.003357602981850505, 0.002373336348682642, 0.011046801693737507, -0.005432988051325083, 0.0172113124281168, 0.014309882186353207, -0.02779782935976982, 0.02115659788250923, 0.026449857279658318, -0.018986690789461136, -0.005100104492157698, -0.03629663586616516, 0.0025048458483070135, 0.0013880421174690127, 0.0195784829556942, 0.006234374362975359, 0.01803324557840824, 0.002720603719353676, -0.005556278396397829, 0.0019736706744879484, 0.006772741675376892, -0.02161688171327114, 0.0038302154280245304, -0.01054542139172554, -0.009624854661524296, 0.03366644307971001, -0.003741857595741749, 0.006406980566680431, 0.023129241541028023, -0.006727535277605057, 0.007705637253820896, 0.01033993810415268, -0.012345458380877972, 0.008556339889764786, -0.004865853115916252, -0.004360363353043795, 0.0010736521799117327, -0.005437097977846861, 0.009312519803643227, -0.0011445439886301756, 0.0068878126330673695, -0.0007376863504759967, 0.0059343683533370495, 0.003828160697594285, -0.023951176553964615, 0.011572839692234993, -0.00947690661996603, 0.00193976575974375, 0.010948169976472855, -0.018970251083374023, -0.006896032020449638, 0.029392383992671967, -0.0035425384994596243, -0.005716555751860142, -0.009164571762084961, -0.0009955683490261436, -0.0011424891417846084, -0.02692657895386219, 0.0006185058155097067, -0.00044744068873114884, -0.01033993810415268, 0.03376507759094238, 0.002381555736064911, 0.007816598750650883, 0.0011661198223009706, 0.011819420382380486, 0.007578237447887659, 0.0028315649833530188, -0.03128283470869064, -0.009542661719024181, 0.008379624225199223, 0.01826338842511177, -0.0076850890181958675, -0.0010073836892843246, 0.003172667697072029, -0.015567442402243614, 0.0035014415625482798, -0.00927142333239317, -0.004648040514439344, 0.0049233888275921345, -0.011457769200205803, -0.0045740664936602116, -0.010002944618463516, 0.011400233954191208, 0.009246764704585075, -0.013742747716605663, -0.0009395740344189107, 0.017934614792466164, -0.023951176553964615, 0.008202907629311085, -0.01291259378194809, 0.005815187934786081, 0.015937313437461853, -0.009920751675963402, -0.006460406351834536, 0.01074268575757742, 0.0011969424085691571, -0.012016684748232365, 0.005383672192692757, -0.008482365868985653, 0.0008013863116502762, -0.006743974052369595, 0.024066247045993805, -0.00459461472928524, -0.007911121472716331, 0.0023692266549915075, -0.008285101503133774, -0.0030986936762928963, 0.00038502502138726413, 0.0033082871232181787, -0.013529044575989246, 0.011170092038810253, -0.01522222999483347, -0.020959334447979927, 0.00947690661996603, -0.007602895610034466, -0.0007556661730632186, -0.012567381374537945, -0.009254984557628632, 0.0042987181805074215, 0.010792002081871033, -0.01253450382500887, -0.0067521934397518635, -0.011572839692234993, -0.012041342444717884, -0.009945409372448921, -0.001574004883877933, 0.018526406958699226, -0.0005881969700567424, -0.03652677685022354, -0.007146721705794334, 0.03846654295921326, 0.022389499470591545, -7.167848252720432e-06, 0.0038589832838624716, -0.020137399435043335, 0.007816598750650883, 0.017309943214058876, -0.010364595800638199, 0.005404220428317785, -0.012929032556712627, -0.0030308840796351433, -0.01216463278979063, -0.032203398644924164, 0.003743912326171994, -0.004919278901070356, -0.010298841632902622, 0.012279704213142395, -0.0008866619900800288, -0.0086056562140584, -0.003752131713554263, 0.006550819147378206, 0.012181071564555168, -0.006612464319914579, 0.0014589340426027775, 0.004631601739674807, 0.0037151447031646967, -0.006308348383754492, 0.004808317869901657, 0.009748145006597042, -0.033830828964710236, 0.02242237702012062, -0.01409617904573679, 0.0028377294074743986, 0.010372815653681755, -0.008334417827427387, -0.002901429310441017, 0.015074281953275204, 0.005983684211969376, 0.0032712998799979687, 0.004372692201286554, 0.01389891467988491, 0.009320738725364208, 0.0018072288949042559, -0.017425015568733215, 0.01699760928750038, 0.016668835654854774, -0.008153592236340046, 0.010857757180929184, 0.005235723685473204, 0.02281690575182438, 0.009542661719024181, 0.01918395422399044, -0.01089063473045826, -0.015090720728039742, 0.013989328406751156, -0.006209716200828552, -0.01389891467988491, 0.000806009687948972, -0.00515764020383358, 0.0004132790199946612, 0.01291259378194809, 0.007089186459779739, -0.00013741719885729253, -0.012238606810569763, -0.016159234568476677, 0.0028438938315957785, -0.006098755169659853, -0.013192051090300083, 0.0024041589349508286, 0.00210826238617301, -0.007323437836021185, 0.026482734829187393, -0.007011102512478828, -0.015871558338403702, -0.003945286385715008, -0.006665890105068684, 0.00010787892097141594, 0.005313807632774115, -0.007459057029336691, 0.0009678280912339687, 0.01338109653443098, 0.010109796188771725, 0.00854812003672123, 0.011926271952688694, 0.0029322518967092037, 0.02120591513812542, -0.0006811783532612026, 0.0040932344272732735, 0.021353863179683685, 0.0023836104664951563, -0.0208607017993927, -0.01608526147902012, -0.017638718709349632, 0.007409741170704365, 0.010537202470004559, 0.00938649382442236, -0.02640054188668728, 0.022488132119178772, 0.0025356684345752, -0.019742870703339577, -0.020351102575659752, -0.013561922125518322, 0.0019109981367364526, 0.030789673328399658, 0.01998945139348507, 0.009156351909041405, 0.004017205443233252, 0.020548366010189056, -0.01854284666478634, 0.009246764704585075, 0.0019253819482401013, 0.01773734949529171, -0.007052199449390173, 0.005700116977095604, 0.016833221539855003, 0.014211250469088554, 0.00728234089910984, -0.009526222944259644, -0.007389192469418049, 0.016027726233005524, 0.01453180518001318, 0.002993897069245577, 0.012041342444717884, -0.0065343803726136684, 0.022784028202295303, 0.011441330425441265, -0.004206250421702862, -0.006633012555539608, 0.0006452187080867589, 0.008959087543189526, -0.03009924665093422, -0.005531620234251022, -0.010734466835856438, -0.025693677365779877, -0.0008039548411034048, 0.0003197839541826397, 0.0012010519858449697, 0.009928970597684383, -0.006612464319914579, -0.0018462707521393895, -0.010216647759079933, 0.010948169976472855, 0.024395020678639412, -0.005215175449848175, -0.005897381342947483, 0.0021986751817166805, -0.003743912326171994, -0.02357308566570282, -0.010216647759079933, -0.012682451866567135, 0.00019623689877334982, -0.015879778191447258, 0.013175612315535545, 0.010586518794298172, 0.017293505370616913, 0.007471385877579451, 0.0012421488063409925, -0.02878415212035179, -0.0033041774295270443, -0.012312580831348896, 0.005219284910708666, -0.011663252487778664, 0.008297430351376534, -0.009000184945762157, 0.01264957431703806, 0.009896093048155308, -0.00278019392862916, 0.007524811662733555, -0.02329362742602825, 0.00849880464375019, 0.0011579004349187016, 0.021057965233922005, -0.005305588245391846, 0.007989204488694668, -0.001603799988515675, -0.00229730736464262, -0.004767220932990313, -0.02224155142903328, -0.0202853474766016, 0.0070809670723974705, 0.0040377541445195675, 0.02398405410349369, 0.01550990715622902, 0.00015680972137488425, -0.023671718314290047, 0.0004620813997462392, -0.005342575255781412, -0.002527449047192931, 0.005026130471378565, -0.0013294792734086514, -0.008654971607029438, -0.0015174968866631389, 0.022636080160737038, -0.016192112118005753, 0.02306348644196987, 0.006748083513230085, -0.02235662192106247, -0.014285224489867687, -0.0006231291918084025, -0.009797461330890656, 0.006517942063510418, -0.001241121324710548, -0.018362021073698997, 0.010298841632902622, -0.00726590259000659, -0.016118139028549194, -0.002484297612681985, 0.014170153997838497, 0.002167852595448494, 0.00515764020383358, 0.015255107544362545, 0.01924970932304859, 0.003503496525809169, -0.001587361330166459, -0.015551003627479076, 0.039847392588853836, 0.012550942599773407, 0.008646752685308456, 0.0014209195505827665, 0.015123597346246243, -0.00689192209392786, -0.0016685273731127381, -0.007274121977388859, -0.007524811662733555, -0.00854812003672123, 0.00784536637365818, 0.011235847137868404, 0.020762069150805473, -0.01271532941609621, -0.024279950186610222, 0.00927142333239317, 0.014523585326969624, -0.00898374617099762, 0.00950156431645155, 0.009583758190274239, -0.016849661245942116, -0.020038766786456108, -0.0036000737454742193, 0.007639882620424032, -0.009928970597684383, -0.008465927094221115, -0.014687972143292427, 0.005416549276560545, 0.007631663233041763, 0.002221278380602598, -0.00364117044955492, 0.0038795315194875, -0.013915353454649448, -0.026449857279658318, 0.0006755275535397232, -0.02219223603606224, -0.016372937709093094, 0.012000245973467827, -0.012238606810569763, 0.008728946559131145, -0.016438692808151245, 0.0006662808009423316, -0.005605594255030155, 0.015534564852714539, -0.014687972143292427, 0.014005766250193119, 0.0019952463917434216, -0.012822180986404419, -0.0037213091272860765, -0.010553641244769096, 0.002993897069245577, 0.02952389232814312, -0.010750905610620975, 0.007611114997416735, -0.024132002145051956, 0.024049807339906693, -0.008301540277898312, -0.014482488855719566, -0.00766865024343133, 0.006000122986733913, -0.02299773134291172, -0.0032384225632995367, -0.0016181839164346457, -0.011548181995749474, 0.006780961062759161, 0.006842606235295534, -0.01578114554286003, 0.017638718709349632, 0.008350856602191925, 0.0044466666877269745, -0.028915662318468094, 0.007759063038975, 0.01031528040766716, 0.00031952711287885904, 0.03438974544405937, 0.02044973522424698, 0.0292444359511137, -0.005465865600854158, -0.008313869126141071, 0.004103508777916431, -0.007393302395939827, 0.0256607998162508, -0.0003716685750987381, -0.01796749234199524, -0.008827578276395798, -0.011367356404662132, -0.022225113585591316, -0.012731768190860748, 0.023310067132115364, 0.018427774310112, -0.009197449311614037, 0.02444433607161045, -0.026071768254041672, 0.006579586770385504, -0.01407152134925127, 0.005880942568182945, -0.01649622805416584, -0.00038502502138726413, -0.021123720332980156, 0.030723918229341507, 0.018329143524169922, -0.03373219817876816, 0.00955910049378872, -0.003904189681634307, 0.005556278396397829, -0.0022151139564812183, -0.019923696294426918, 0.00440556975081563, -0.023885421454906464, 0.0068672639317810535, -0.01564141735434532, -0.006624793168157339, -5.9911330026807263e-05, -0.01865791715681553, 0.017523646354675293, 0.011992027051746845, -0.011145434342324734, 0.0020466172136366367, 0.008490584790706635, 0.027140282094478607, 0.005893271416425705, -0.012238606810569763, 0.003904189681634307, -0.010767344385385513, 0.011465988121926785, -0.0101426737383008, -0.010126234963536263, -0.015846900641918182, -0.012304361909627914, -0.00854812003672123, -0.03705281391739845, 0.004054192919284105, 0.0018431884236633778, -0.006965896114706993, 0.02114016003906727, -0.002381555736064911, -0.0008969362243078649, -0.0030062259174883366, 0.009871435351669788, 0.0018195578595623374, -0.0066823288798332214, -0.012863277457654476, -0.0072165862657129765, -0.0149098951369524, 0.01722775027155876, 0.006908360868692398, 0.021797707304358482, 0.022570325061678886, -0.0049110595136880875, -0.02414843998849392, -0.002909648697823286, -0.01409617904573679, -0.012213949114084244, -0.02067987620830536, 0.00249251676723361, -0.008054959587752819, -0.027649881318211555, -0.0011579004349187016, 0.009518003091216087, 0.004142550751566887, 0.014022205024957657, -0.016734588891267776, -0.005363123491406441, 0.022734712809324265, 0.0009991643019020557, 0.013833160512149334, -0.009896093048155308, 0.02403336949646473, -0.007586456835269928, 0.010183770209550858, 0.013915353454649448, -0.03853229805827141, -0.015937313437461853, 0.005063117481768131, -0.007257683202624321, -0.005248052999377251, 0.024049807339906693, 0.017359260469675064, 0.013463289476931095, -0.0014404405374079943, 0.012263265438377857, -0.004479543771594763, 0.01080844085663557, 0.008482365868985653, 0.005153530277311802, -0.015255107544362545, -0.010972827672958374, 0.023079926148056984, 0.01667705364525318, -0.01808256283402443, -0.02339226007461548, 0.0035404835361987352, 0.014342759735882282, 0.020252469927072525, -0.010841318406164646, -0.011646813713014126, 0.0016490063862875104, -0.003182942047715187, 0.0020137398969382048, 0.015904435887932777, -0.01688253879547119, -0.003971999045461416, -0.003754186676815152, 0.016323622316122055, 0.048691410571336746, -0.0012750261230394244, 0.03731583431363106, 0.0055275107733905315, 0.00883579719811678, -0.03399521857500076, -0.0020096302032470703, 0.011663252487778664, -0.003955560736358166, -0.01369343139231205, 0.005802858620882034, 0.01112077571451664, 0.02929375134408474, -0.007294670213013887, 0.004450776148587465, 0.02697589620947838, 0.014901675283908844, -0.007631663233041763, -0.00593847781419754, -0.008975526317954063, -0.016167454421520233, -0.019496290013194084, -0.020367540419101715, -0.01149886567145586, 0.03600073978304863, -0.008638533763587475, 0.001574004883877933, 0.02506900765001774, 0.0024966264609247446, -0.019430534914135933, 0.009082377888262272, -0.0011383795645087957, 0.008950868621468544, -0.01757296361029148, 0.0003387912001926452, -0.020646998658776283, 0.0011209134245291352, 0.005802858620882034, -0.001471263007260859, -0.016652395948767662, -0.004278169944882393, -0.0013284519081935287, 0.017490768805146217, 0.011186530813574791, -0.009263203479349613, 0.00477955024689436, 0.041392628103494644, -0.0036021287087351084, -0.018345581367611885, 0.012994786724448204, -0.015542784705758095, 0.01149886567145586, 0.015477029606699944, 0.020827824249863625, -0.022175796329975128, 0.005239833611994982, 0.0191346388310194, -0.003164448542520404, 0.009813900105655193, 0.012633135542273521, 0.003129516262561083, -0.029852667823433876, 0.014342759735882282, -0.019742870703339577, 0.005276820622384548, -0.017523646354675293, -0.0004299745778553188, 0.005901490803807974, 0.021353863179683685, 0.018000369891524315, -0.003719254396855831, 0.0346856415271759, 0.01773734949529171, -0.010915292426943779, 0.0002779166679829359, -0.014975649304687977, 0.008770043030381203, -0.005178188439458609, -0.005913820117712021, -0.0062631419859826565, -0.008165921084582806, -0.022455254569649696, 0.008770043030381203, -0.0055357301607728004, -0.015296204015612602, 0.005453536286950111, -0.027551250532269478, 0.007183708716183901, -0.01262491662055254, 0.014441392384469509, -0.0006097728037275374, -0.003505551256239414, 0.009090597741305828, 0.005120652727782726, -0.014055082574486732, -0.0051864078268408775, -0.008034410886466503, -0.007500153966248035, -0.012583819217979908, 0.026795070618391037, -0.015279765240848064, 0.021403178572654724, 0.02922799624502659, -0.0008429967565461993, 0.009115255437791348, 0.01473728846758604, 0.009953628294169903, 0.01757296361029148, -0.01045500859618187, -0.015156474895775318, -0.024230632930994034, -0.0040952893905341625, -0.0021164817735552788, 0.004898730665445328, 0.0070234318263828754, -0.027863584458827972, 0.014704410918056965, -0.008046740666031837, -0.002944580977782607, -0.0042329635471105576, -0.005087775643914938, 0.0250854454934597, 0.0012472858652472496, 0.032154083251953125, 0.01089063473045826, -0.0005404220428317785, 0.0025870392564684153, -0.0017414740286767483, -0.02120591513812542, -0.00976458378136158, 0.005601484794169664, 0.01311807706952095, -0.014137276448309422, -0.01675102859735489, 0.016134576871991158, -0.006924799643456936, -0.003513770643621683, 0.028521133586764336, -0.016529105603694916, -0.022619642317295074, 0.016019506379961967, -0.0009894038084894419, 0.012345458380877972, 0.0040254248306155205, -0.0034439063165336847, 0.012887935154139996, 0.011934490874409676, -0.01338109653443098, -0.01386603806167841, 0.01571539044380188, -0.008679630234837532, -0.00345212547108531, 0.015115378424525261, 0.012929032556712627, 0.027830706909298897, 0.00441789859905839, -0.020531928166747093, -0.005580936558544636, 0.014778384938836098, -0.00364117044955492, -0.0068672639317810535, 0.012526283971965313, -0.015361959114670753, -0.009444029070436954, 0.004056247416883707, 0.021173037588596344, -0.003515825606882572, 0.011729007586836815, -0.026778630912303925, -0.003974054008722305, -0.0029671841766685247, 0.02299773134291172, 0.01762227900326252, -0.018131878226995468, 0.014613998122513294, 0.006961786653846502, -0.01672637090086937, 0.029556769877672195, -0.007052199449390173, -0.01865791715681553, 0.004767220932990313, -0.014655094593763351, 0.0007731323130428791, 0.012271484360098839, -0.014975649304687977, 0.061053305864334106, -0.01709624007344246, -0.01054542139172554, 0.015246887691318989, -0.001132215023972094, -0.012731768190860748, 0.008285101503133774, 0.0006030945805832744, 0.0004415330186020583, -0.013044103048741817, 0.012033123522996902, -0.019890818744897842, 0.032844509929418564, -0.004029534757137299, -0.0030904742889106274, 0.003854873590171337, -0.009731706231832504, 0.002256210660561919, -0.029375944286584854, -0.02212648093700409, -0.019841503351926804, 0.02288266085088253, 0.004062411841005087, -0.0214360561221838, -0.017079802230000496, 0.00930429995059967, -0.014400294981896877, -0.009493345394730568, 0.016455132514238358, -0.03767748549580574, -0.0024884070735424757, -0.0006816920358687639, -0.02242237702012062, 0.015551003627479076, 0.012090658769011497, -0.011293382383883, -0.012172852642834187, 0.008359075523912907, -0.006049439311027527, -0.008753604255616665, 0.01727706752717495, 0.013167393393814564, 0.025052567943930626, 0.009378274902701378, -0.02005520649254322, -0.012723548337817192, 0.011046801693737507, -0.01780310459434986, -0.005363123491406441, -0.011030362918972969, 0.004169263411313295, 0.00344596104696393, -0.002128810854628682, -0.02733754739165306, -0.017244189977645874, -0.012698890641331673, -0.004619272891432047, 0.00102947314735502, 0.004181592725217342, 0.007212476804852486, 0.015131817199289799, -0.01418659184128046, -0.02612108364701271, -0.009920751675963402, -0.03606649115681648, 0.007574127987027168, -0.011318040080368519, 0.0002727795799728483, -0.0024370362516492605, 0.02975403517484665, 0.010956388898193836, 0.006760412827134132, -0.01025774423032999, 0.02044973522424698, -0.03600073978304863, 0.010611176490783691, -0.008975526317954063, -0.01216463278979063, 0.004479543771594763, 0.004524750169366598, 0.010068699717521667, 0.008531682193279266, -0.03179243206977844, -0.011770104058086872, -0.022389499470591545, 0.0021370300091803074, 0.009994725696742535, -0.04165564849972725, -0.009624854661524296, -0.023671718314290047, 0.004261731170117855, -0.0018986690556630492, -0.018296265974640846, 0.014301663264632225, -0.001322287367656827, -0.02079494670033455, -0.015583881177008152, -0.02350733056664467, -0.014942771755158901, 0.001059268251992762, 0.011038582772016525, 0.005765871610492468, 0.010964608751237392, -0.01407152134925127, 0.0009226216352544725, -0.007689198944717646, -0.014129056595265865, 0.009197449311614037, -0.013142735697329044, 0.017951052635908127, -0.00930429995059967, -0.011844078078866005, -0.005889161955565214, 0.005280930083245039, 0.0059220390394330025, -0.00478365970775485, 0.015115378424525261, 0.037578850984573364, -0.01698116958141327, 0.004031589720398188, -0.0003470105293672532, 0.004150770138949156, 0.025332026183605194, -0.020712753757834435, 0.010824879631400108, -0.007072747685015202, -0.02148537151515484, -0.008207017555832863, -0.021518249064683914, 0.0017948998138308525, -0.013734527863562107, -0.005363123491406441, 0.013068760745227337, 0.017425015568733215, 0.00678918045014143, -0.01033993810415268, 0.019907256588339806, 0.011030362918972969, 0.0072206961922347546, 0.02860332652926445, -0.005161749664694071, 0.004611053504049778, -0.02317855693399906, 0.0012883825693279505, -0.007187818642705679, 0.012230387888848782, 0.002040452789515257, 0.0057288846001029015, 0.007602895610034466, 0.0033719870261847973, -0.0013541373191401362, 0.006871373858302832, 0.002128810854628682, 0.00515764020383358, -0.01254272274672985, -0.001213381066918373, 0.03396233916282654, -0.010487886145710945, 0.012271484360098839, 0.010249525308609009, -0.006156290415674448, 0.0018483255989849567, -0.008387843146920204, -0.004062411841005087, -0.0035610320046544075, -0.007623443845659494, -0.008112494833767414, 0.007389192469418049, -0.0038815864827483892, 0.021994970738887787, 0.004356253892183304, 0.0005286067025735974, -0.010972827672958374, -0.007578237447887659, -0.005009691696614027, 0.012287923134863377, -0.01080844085663557, -0.005782310385257006, -0.0292444359511137, -0.020416857674717903, 0.0101426737383008, 0.015444152057170868, 0.006883702706545591, -0.013520825654268265, 0.010200208984315395, -0.007911121472716331, 0.023556647822260857, 0.010076918639242649, 0.024871742352843285, 0.007894682697951794, 0.0005465865251608193, -0.03866380825638771, -0.017359260469675064, 0.010792002081871033, 0.017079802230000496, 0.00030462953145615757, 0.018756549805402756, 0.006168619729578495, 0.003310341853648424, 0.024641601368784904, -0.0031788323540240526, -0.014342759735882282, -0.0332719162106514, -0.008026191964745522]\n",
      "0\n",
      "{'TransactionID': 'T3235', 'Amount': 282.75, 'Timestamp': '2024-09-15 14:28:38', 'Location': 'Boston', 'Merchant': 'Amazon', 'TenantId': '10', 'ProximityOfCurrentToLast': 0.4283100529791597, 'ProximityOfAverageToLast': 0.5234176100805479}\n",
      "{'TransactionID': 'T7275', 'Amount': 939.29, 'Timestamp': '2024-09-15 14:24:38', 'Location': 'Boston', 'Merchant': 'Walmart', 'TenantId': '10', 'ProximityOfCurrentToLast': 0.4283100529791597, 'ProximityOfAverageToLast': 0.5234176100805479}\n",
      "{'TransactionID': 'T8014', 'Amount': 888.75, 'Timestamp': '2024-09-15 14:23:38', 'Location': 'New York', 'Merchant': 'ATM', 'TenantId': '10', 'ProximityOfCurrentToLast': 0.5005990049368819, 'ProximityOfAverageToLast': 0.5234176100805479}\n",
      "{'TransactionID': 'T6914', 'Amount': 26.98, 'Timestamp': '2024-09-15 13:42:38', 'Location': 'New York', 'Merchant': 'Target', 'TenantId': '10', 'ProximityOfCurrentToLast': 0.5005990049368819, 'ProximityOfAverageToLast': 0.5234176100805479}\n",
      "{'TransactionID': 'T2355', 'Amount': 495.98, 'Timestamp': '2024-09-15 13:47:38', 'Location': 'New York', 'Merchant': 'Netflix', 'TenantId': '10', 'ProximityOfCurrentToLast': 0.5005990049368819, 'ProximityOfAverageToLast': 0.5234176100805479}\n",
      "{'TransactionID': 'T2039', 'Amount': 663.71, 'Timestamp': '2024-09-15 13:40:38', 'Location': 'New York', 'Merchant': 'Netflix', 'TenantId': '10', 'ProximityOfCurrentToLast': 0.5005990049368819, 'ProximityOfAverageToLast': 0.5234176100805479}\n",
      "{'TransactionID': 'T4982', 'Amount': 507.15, 'Timestamp': '2024-09-15 14:22:38', 'Location': 'Boston', 'Merchant': 'Target', 'TenantId': '10', 'ProximityOfCurrentToLast': 0.4283100529791597, 'ProximityOfAverageToLast': 0.5234176100805479}\n",
      "{'TransactionID': 'T9356', 'Amount': 988.69, 'Timestamp': '2024-09-15 14:07:38', 'Location': 'Boston', 'Merchant': 'Amazon', 'TenantId': '10', 'ProximityOfCurrentToLast': 0.4283100529791597, 'ProximityOfAverageToLast': 0.5234176100805479}\n",
      "{'TransactionID': 'T5194', 'Amount': 49.62, 'Timestamp': '2024-09-15 14:34:38', 'Location': 'Boston', 'Merchant': 'Netflix', 'TenantId': '10', 'ProximityOfCurrentToLast': 0.4283100529791597, 'ProximityOfAverageToLast': 0.5234176100805479}\n",
      "{'TransactionID': 'T2988', 'Amount': 427.09, 'Timestamp': '2024-09-15 14:19:38', 'Location': 'Boston', 'Merchant': 'Starbucks', 'TenantId': '10', 'ProximityOfCurrentToLast': 0.4283100529791597, 'ProximityOfAverageToLast': 0.5234176100805479}\n",
      "{'TransactionID': 'T3852', 'Amount': 365.73, 'Timestamp': '2024-09-15 14:17:38', 'Location': 'New York', 'Merchant': 'ATM', 'TenantId': '10', 'ProximityOfCurrentToLast': 0.5005990049368819, 'ProximityOfAverageToLast': 0.5234176100805479}\n"
     ]
    }
   ],
   "source": [
    "tenant_id = \"10\"\n",
    "# Assuming you already computed the average location vector and current location vector\n",
    "average_location_vector, lent = get_average_location_vector(container, tenant_id)\n",
    "\n",
    "current_location_vector = generate_embeddings(get_city_coordinates(\"Sweden\"))\n",
    "print(current_location_vector)\n",
    "\n",
    "# Query parameters\n",
    "query = \"Recent purchase at a grocery store\"\n",
    "amount = 1000.0  # The current transaction amount\n",
    "\n",
    "# Perform vector search\n",
    "results, lent = vector_search(current_location_vector,tenant_id, average_location_vector, amount, num_results=5)\n",
    "\n",
    "for result in results:\n",
    "    print(result)\n"
   ]
  },
  {
   "cell_type": "code",
   "execution_count": 193,
   "metadata": {},
   "outputs": [],
   "source": [
    "def perform_search(tenant_id, city, query, amount):\n",
    "\n",
    "    average_location_vector, lent = get_average_location_vector(container, tenant_id)\n",
    "    \n",
    "    # Generate embeddings for the current location\n",
    "    current_location_vector = generate_embeddings(get_city_coordinates(city))\n",
    "    \n",
    "    # Perform vector search\n",
    "    results, lent = vector_search(current_location_vector, tenant_id, average_location_vector, amount, num_results=5)\n",
    "    \n",
    "    # Format results\n",
    "    result_text = \"\"\n",
    "    for result in results:\n",
    "        result_text += f\"TransactionID: {result['TransactionID']}, SimilarityScore: {result['SimilarityScore']}\\n\"\n",
    "    \n",
    "    return results"
   ]
  },
  {
   "cell_type": "code",
   "execution_count": 196,
   "metadata": {},
   "outputs": [
    {
     "name": "stdout",
     "output_type": "stream",
     "text": [
      "Requirement already satisfied: gradio in c:\\users\\khelan modi\\appdata\\local\\packages\\pythonsoftwarefoundation.python.3.11_qbz5n2kfra8p0\\localcache\\local-packages\\python311\\site-packages (4.14.0)"
     ]
    },
    {
     "name": "stderr",
     "output_type": "stream",
     "text": [
      "  WARNING: Failed to remove contents in a temporary directory 'C:\\Users\\Khelan Modi\\AppData\\Local\\Packages\\PythonSoftwareFoundation.Python.3.11_qbz5n2kfra8p0\\LocalCache\\local-packages\\Python311\\site-packages\\~ydantic'.\n",
      "  You can safely remove it manually.\n",
      "\n",
      "[notice] A new release of pip is available: 23.3.1 -> 24.2\n",
      "[notice] To update, run: C:\\Users\\Khelan Modi\\AppData\\Local\\Microsoft\\WindowsApps\\PythonSoftwareFoundation.Python.3.11_qbz5n2kfra8p0\\python.exe -m pip install --upgrade pip\n"
     ]
    },
    {
     "name": "stdout",
     "output_type": "stream",
     "text": [
      "\n",
      "Requirement already satisfied: aiofiles<24.0,>=22.0 in c:\\users\\khelan modi\\appdata\\local\\packages\\pythonsoftwarefoundation.python.3.11_qbz5n2kfra8p0\\localcache\\local-packages\\python311\\site-packages (from gradio) (23.2.1)\n",
      "Requirement already satisfied: altair<6.0,>=4.2.0 in c:\\users\\khelan modi\\appdata\\local\\packages\\pythonsoftwarefoundation.python.3.11_qbz5n2kfra8p0\\localcache\\local-packages\\python311\\site-packages (from gradio) (5.2.0)\n",
      "Requirement already satisfied: fastapi in c:\\users\\khelan modi\\appdata\\local\\packages\\pythonsoftwarefoundation.python.3.11_qbz5n2kfra8p0\\localcache\\local-packages\\python311\\site-packages (from gradio) (0.108.0)\n",
      "Requirement already satisfied: ffmpy in c:\\users\\khelan modi\\appdata\\local\\packages\\pythonsoftwarefoundation.python.3.11_qbz5n2kfra8p0\\localcache\\local-packages\\python311\\site-packages (from gradio) (0.3.1)\n",
      "Requirement already satisfied: gradio-client==0.8.0 in c:\\users\\khelan modi\\appdata\\local\\packages\\pythonsoftwarefoundation.python.3.11_qbz5n2kfra8p0\\localcache\\local-packages\\python311\\site-packages (from gradio) (0.8.0)\n",
      "Requirement already satisfied: httpx in c:\\users\\khelan modi\\appdata\\local\\packages\\pythonsoftwarefoundation.python.3.11_qbz5n2kfra8p0\\localcache\\local-packages\\python311\\site-packages (from gradio) (0.26.0)\n",
      "Requirement already satisfied: huggingface-hub>=0.19.3 in c:\\users\\khelan modi\\appdata\\local\\packages\\pythonsoftwarefoundation.python.3.11_qbz5n2kfra8p0\\localcache\\local-packages\\python311\\site-packages (from gradio) (0.24.7)\n",
      "Requirement already satisfied: importlib-resources<7.0,>=1.3 in c:\\users\\khelan modi\\appdata\\local\\packages\\pythonsoftwarefoundation.python.3.11_qbz5n2kfra8p0\\localcache\\local-packages\\python311\\site-packages (from gradio) (6.1.1)\n",
      "Requirement already satisfied: jinja2<4.0 in c:\\users\\khelan modi\\appdata\\local\\packages\\pythonsoftwarefoundation.python.3.11_qbz5n2kfra8p0\\localcache\\local-packages\\python311\\site-packages (from gradio) (3.1.2)\n",
      "Requirement already satisfied: markupsafe~=2.0 in c:\\users\\khelan modi\\appdata\\local\\packages\\pythonsoftwarefoundation.python.3.11_qbz5n2kfra8p0\\localcache\\local-packages\\python311\\site-packages (from gradio) (2.1.3)\n",
      "Requirement already satisfied: matplotlib~=3.0 in c:\\users\\khelan modi\\appdata\\local\\packages\\pythonsoftwarefoundation.python.3.11_qbz5n2kfra8p0\\localcache\\local-packages\\python311\\site-packages (from gradio) (3.8.2)\n",
      "Requirement already satisfied: numpy~=1.0 in c:\\users\\khelan modi\\appdata\\local\\packages\\pythonsoftwarefoundation.python.3.11_qbz5n2kfra8p0\\localcache\\local-packages\\python311\\site-packages (from gradio) (1.26.1)\n",
      "Requirement already satisfied: orjson~=3.0 in c:\\users\\khelan modi\\appdata\\local\\packages\\pythonsoftwarefoundation.python.3.11_qbz5n2kfra8p0\\localcache\\local-packages\\python311\\site-packages (from gradio) (3.10.3)\n",
      "Requirement already satisfied: packaging in c:\\users\\khelan modi\\appdata\\local\\packages\\pythonsoftwarefoundation.python.3.11_qbz5n2kfra8p0\\localcache\\local-packages\\python311\\site-packages (from gradio) (23.2)\n",
      "Requirement already satisfied: pandas<3.0,>=1.0 in c:\\users\\khelan modi\\appdata\\local\\packages\\pythonsoftwarefoundation.python.3.11_qbz5n2kfra8p0\\localcache\\local-packages\\python311\\site-packages (from gradio) (2.1.4)\n",
      "Requirement already satisfied: pillow<11.0,>=8.0 in c:\\users\\khelan modi\\appdata\\local\\packages\\pythonsoftwarefoundation.python.3.11_qbz5n2kfra8p0\\localcache\\local-packages\\python311\\site-packages (from gradio) (10.2.0)\n",
      "Collecting pydantic>=2.0 (from gradio)\n",
      "  Downloading pydantic-2.9.2-py3-none-any.whl.metadata (149 kB)\n",
      "     ---------------------------------------- 0.0/149.4 kB ? eta -:--:--\n",
      "     -- ------------------------------------- 10.2/149.4 kB ? eta -:--:--\n",
      "     ---------- -------------------------- 41.0/149.4 kB 487.6 kB/s eta 0:00:01\n",
      "     ---------------------- -------------- 92.2/149.4 kB 655.4 kB/s eta 0:00:01\n",
      "     ------------------------------------ 149.4/149.4 kB 892.3 kB/s eta 0:00:00\n",
      "Requirement already satisfied: pydub in c:\\users\\khelan modi\\appdata\\local\\packages\\pythonsoftwarefoundation.python.3.11_qbz5n2kfra8p0\\localcache\\local-packages\\python311\\site-packages (from gradio) (0.25.1)\n",
      "Requirement already satisfied: python-multipart in c:\\users\\khelan modi\\appdata\\local\\packages\\pythonsoftwarefoundation.python.3.11_qbz5n2kfra8p0\\localcache\\local-packages\\python311\\site-packages (from gradio) (0.0.6)\n",
      "Requirement already satisfied: pyyaml<7.0,>=5.0 in c:\\users\\khelan modi\\appdata\\local\\packages\\pythonsoftwarefoundation.python.3.11_qbz5n2kfra8p0\\localcache\\local-packages\\python311\\site-packages (from gradio) (6.0.1)\n",
      "Requirement already satisfied: semantic-version~=2.0 in c:\\users\\khelan modi\\appdata\\local\\packages\\pythonsoftwarefoundation.python.3.11_qbz5n2kfra8p0\\localcache\\local-packages\\python311\\site-packages (from gradio) (2.10.0)\n",
      "Requirement already satisfied: tomlkit==0.12.0 in c:\\users\\khelan modi\\appdata\\local\\packages\\pythonsoftwarefoundation.python.3.11_qbz5n2kfra8p0\\localcache\\local-packages\\python311\\site-packages (from gradio) (0.12.0)\n",
      "Requirement already satisfied: typer<1.0,>=0.9 in c:\\users\\khelan modi\\appdata\\local\\packages\\pythonsoftwarefoundation.python.3.11_qbz5n2kfra8p0\\localcache\\local-packages\\python311\\site-packages (from typer[all]<1.0,>=0.9->gradio) (0.9.0)\n",
      "Requirement already satisfied: typing-extensions~=4.0 in c:\\users\\khelan modi\\appdata\\local\\packages\\pythonsoftwarefoundation.python.3.11_qbz5n2kfra8p0\\localcache\\local-packages\\python311\\site-packages (from gradio) (4.12.2)\n",
      "Requirement already satisfied: uvicorn>=0.14.0 in c:\\users\\khelan modi\\appdata\\local\\packages\\pythonsoftwarefoundation.python.3.11_qbz5n2kfra8p0\\localcache\\local-packages\\python311\\site-packages (from gradio) (0.25.0)\n",
      "Requirement already satisfied: fsspec in c:\\users\\khelan modi\\appdata\\local\\packages\\pythonsoftwarefoundation.python.3.11_qbz5n2kfra8p0\\localcache\\local-packages\\python311\\site-packages (from gradio-client==0.8.0->gradio) (2023.12.2)\n",
      "Requirement already satisfied: websockets<12.0,>=10.0 in c:\\users\\khelan modi\\appdata\\local\\packages\\pythonsoftwarefoundation.python.3.11_qbz5n2kfra8p0\\localcache\\local-packages\\python311\\site-packages (from gradio-client==0.8.0->gradio) (11.0.3)\n",
      "Requirement already satisfied: jsonschema>=3.0 in c:\\users\\khelan modi\\appdata\\local\\packages\\pythonsoftwarefoundation.python.3.11_qbz5n2kfra8p0\\localcache\\local-packages\\python311\\site-packages (from altair<6.0,>=4.2.0->gradio) (4.19.2)\n",
      "Requirement already satisfied: toolz in c:\\users\\khelan modi\\appdata\\local\\packages\\pythonsoftwarefoundation.python.3.11_qbz5n2kfra8p0\\localcache\\local-packages\\python311\\site-packages (from altair<6.0,>=4.2.0->gradio) (0.12.0)\n",
      "Requirement already satisfied: filelock in c:\\users\\khelan modi\\appdata\\local\\packages\\pythonsoftwarefoundation.python.3.11_qbz5n2kfra8p0\\localcache\\local-packages\\python311\\site-packages (from huggingface-hub>=0.19.3->gradio) (3.13.1)\n",
      "Requirement already satisfied: requests in c:\\users\\khelan modi\\appdata\\local\\packages\\pythonsoftwarefoundation.python.3.11_qbz5n2kfra8p0\\localcache\\local-packages\\python311\\site-packages (from huggingface-hub>=0.19.3->gradio) (2.31.0)\n",
      "Requirement already satisfied: tqdm>=4.42.1 in c:\\users\\khelan modi\\appdata\\local\\packages\\pythonsoftwarefoundation.python.3.11_qbz5n2kfra8p0\\localcache\\local-packages\\python311\\site-packages (from huggingface-hub>=0.19.3->gradio) (4.66.1)\n",
      "Requirement already satisfied: contourpy>=1.0.1 in c:\\users\\khelan modi\\appdata\\local\\packages\\pythonsoftwarefoundation.python.3.11_qbz5n2kfra8p0\\localcache\\local-packages\\python311\\site-packages (from matplotlib~=3.0->gradio) (1.2.0)\n",
      "Requirement already satisfied: cycler>=0.10 in c:\\users\\khelan modi\\appdata\\local\\packages\\pythonsoftwarefoundation.python.3.11_qbz5n2kfra8p0\\localcache\\local-packages\\python311\\site-packages (from matplotlib~=3.0->gradio) (0.12.1)\n",
      "Requirement already satisfied: fonttools>=4.22.0 in c:\\users\\khelan modi\\appdata\\local\\packages\\pythonsoftwarefoundation.python.3.11_qbz5n2kfra8p0\\localcache\\local-packages\\python311\\site-packages (from matplotlib~=3.0->gradio) (4.47.0)\n",
      "Requirement already satisfied: kiwisolver>=1.3.1 in c:\\users\\khelan modi\\appdata\\local\\packages\\pythonsoftwarefoundation.python.3.11_qbz5n2kfra8p0\\localcache\\local-packages\\python311\\site-packages (from matplotlib~=3.0->gradio) (1.4.5)\n",
      "Requirement already satisfied: pyparsing>=2.3.1 in c:\\users\\khelan modi\\appdata\\local\\packages\\pythonsoftwarefoundation.python.3.11_qbz5n2kfra8p0\\localcache\\local-packages\\python311\\site-packages (from matplotlib~=3.0->gradio) (3.1.1)\n",
      "Requirement already satisfied: python-dateutil>=2.7 in c:\\users\\khelan modi\\appdata\\local\\packages\\pythonsoftwarefoundation.python.3.11_qbz5n2kfra8p0\\localcache\\local-packages\\python311\\site-packages (from matplotlib~=3.0->gradio) (2.8.2)\n",
      "Requirement already satisfied: pytz>=2020.1 in c:\\users\\khelan modi\\appdata\\local\\packages\\pythonsoftwarefoundation.python.3.11_qbz5n2kfra8p0\\localcache\\local-packages\\python311\\site-packages (from pandas<3.0,>=1.0->gradio) (2023.3.post1)\n",
      "Requirement already satisfied: tzdata>=2022.1 in c:\\users\\khelan modi\\appdata\\local\\packages\\pythonsoftwarefoundation.python.3.11_qbz5n2kfra8p0\\localcache\\local-packages\\python311\\site-packages (from pandas<3.0,>=1.0->gradio) (2023.4)\n",
      "Requirement already satisfied: annotated-types>=0.6.0 in c:\\users\\khelan modi\\appdata\\local\\packages\\pythonsoftwarefoundation.python.3.11_qbz5n2kfra8p0\\localcache\\local-packages\\python311\\site-packages (from pydantic>=2.0->gradio) (0.6.0)\n",
      "Collecting pydantic-core==2.23.4 (from pydantic>=2.0->gradio)\n",
      "  Downloading pydantic_core-2.23.4-cp311-none-win_amd64.whl.metadata (6.7 kB)\n",
      "Requirement already satisfied: click<9.0.0,>=7.1.1 in c:\\users\\khelan modi\\appdata\\local\\packages\\pythonsoftwarefoundation.python.3.11_qbz5n2kfra8p0\\localcache\\local-packages\\python311\\site-packages (from typer<1.0,>=0.9->typer[all]<1.0,>=0.9->gradio) (8.1.7)\n",
      "Requirement already satisfied: colorama<0.5.0,>=0.4.3 in c:\\users\\khelan modi\\appdata\\local\\packages\\pythonsoftwarefoundation.python.3.11_qbz5n2kfra8p0\\localcache\\local-packages\\python311\\site-packages (from typer[all]<1.0,>=0.9->gradio) (0.4.6)\n",
      "Requirement already satisfied: shellingham<2.0.0,>=1.3.0 in c:\\users\\khelan modi\\appdata\\local\\packages\\pythonsoftwarefoundation.python.3.11_qbz5n2kfra8p0\\localcache\\local-packages\\python311\\site-packages (from typer[all]<1.0,>=0.9->gradio) (1.5.4)\n",
      "Requirement already satisfied: rich<14.0.0,>=10.11.0 in c:\\users\\khelan modi\\appdata\\local\\packages\\pythonsoftwarefoundation.python.3.11_qbz5n2kfra8p0\\localcache\\local-packages\\python311\\site-packages (from typer[all]<1.0,>=0.9->gradio) (13.7.0)\n",
      "Requirement already satisfied: h11>=0.8 in c:\\users\\khelan modi\\appdata\\local\\packages\\pythonsoftwarefoundation.python.3.11_qbz5n2kfra8p0\\localcache\\local-packages\\python311\\site-packages (from uvicorn>=0.14.0->gradio) (0.14.0)\n",
      "Requirement already satisfied: starlette<0.33.0,>=0.29.0 in c:\\users\\khelan modi\\appdata\\local\\packages\\pythonsoftwarefoundation.python.3.11_qbz5n2kfra8p0\\localcache\\local-packages\\python311\\site-packages (from fastapi->gradio) (0.32.0.post1)\n",
      "Requirement already satisfied: anyio in c:\\users\\khelan modi\\appdata\\local\\packages\\pythonsoftwarefoundation.python.3.11_qbz5n2kfra8p0\\localcache\\local-packages\\python311\\site-packages (from httpx->gradio) (3.7.1)\n",
      "Requirement already satisfied: certifi in c:\\users\\khelan modi\\appdata\\local\\packages\\pythonsoftwarefoundation.python.3.11_qbz5n2kfra8p0\\localcache\\local-packages\\python311\\site-packages (from httpx->gradio) (2023.7.22)\n",
      "Requirement already satisfied: httpcore==1.* in c:\\users\\khelan modi\\appdata\\local\\packages\\pythonsoftwarefoundation.python.3.11_qbz5n2kfra8p0\\localcache\\local-packages\\python311\\site-packages (from httpx->gradio) (1.0.2)\n",
      "Requirement already satisfied: idna in c:\\users\\khelan modi\\appdata\\local\\packages\\pythonsoftwarefoundation.python.3.11_qbz5n2kfra8p0\\localcache\\local-packages\\python311\\site-packages (from httpx->gradio) (3.4)\n",
      "Requirement already satisfied: sniffio in c:\\users\\khelan modi\\appdata\\local\\packages\\pythonsoftwarefoundation.python.3.11_qbz5n2kfra8p0\\localcache\\local-packages\\python311\\site-packages (from httpx->gradio) (1.3.0)\n",
      "Requirement already satisfied: attrs>=22.2.0 in c:\\users\\khelan modi\\appdata\\local\\packages\\pythonsoftwarefoundation.python.3.11_qbz5n2kfra8p0\\localcache\\local-packages\\python311\\site-packages (from jsonschema>=3.0->altair<6.0,>=4.2.0->gradio) (23.1.0)\n",
      "Requirement already satisfied: jsonschema-specifications>=2023.03.6 in c:\\users\\khelan modi\\appdata\\local\\packages\\pythonsoftwarefoundation.python.3.11_qbz5n2kfra8p0\\localcache\\local-packages\\python311\\site-packages (from jsonschema>=3.0->altair<6.0,>=4.2.0->gradio) (2023.7.1)\n",
      "Requirement already satisfied: referencing>=0.28.4 in c:\\users\\khelan modi\\appdata\\local\\packages\\pythonsoftwarefoundation.python.3.11_qbz5n2kfra8p0\\localcache\\local-packages\\python311\\site-packages (from jsonschema>=3.0->altair<6.0,>=4.2.0->gradio) (0.30.2)\n",
      "Requirement already satisfied: rpds-py>=0.7.1 in c:\\users\\khelan modi\\appdata\\local\\packages\\pythonsoftwarefoundation.python.3.11_qbz5n2kfra8p0\\localcache\\local-packages\\python311\\site-packages (from jsonschema>=3.0->altair<6.0,>=4.2.0->gradio) (0.10.6)\n",
      "Requirement already satisfied: six>=1.5 in c:\\users\\khelan modi\\appdata\\local\\packages\\pythonsoftwarefoundation.python.3.11_qbz5n2kfra8p0\\localcache\\local-packages\\python311\\site-packages (from python-dateutil>=2.7->matplotlib~=3.0->gradio) (1.16.0)\n",
      "Requirement already satisfied: markdown-it-py>=2.2.0 in c:\\users\\khelan modi\\appdata\\local\\packages\\pythonsoftwarefoundation.python.3.11_qbz5n2kfra8p0\\localcache\\local-packages\\python311\\site-packages (from rich<14.0.0,>=10.11.0->typer[all]<1.0,>=0.9->gradio) (3.0.0)\n",
      "Requirement already satisfied: pygments<3.0.0,>=2.13.0 in c:\\users\\khelan modi\\appdata\\local\\packages\\pythonsoftwarefoundation.python.3.11_qbz5n2kfra8p0\\localcache\\local-packages\\python311\\site-packages (from rich<14.0.0,>=10.11.0->typer[all]<1.0,>=0.9->gradio) (2.16.1)\n",
      "Requirement already satisfied: charset-normalizer<4,>=2 in c:\\users\\khelan modi\\appdata\\local\\packages\\pythonsoftwarefoundation.python.3.11_qbz5n2kfra8p0\\localcache\\local-packages\\python311\\site-packages (from requests->huggingface-hub>=0.19.3->gradio) (3.3.1)\n",
      "Requirement already satisfied: urllib3<3,>=1.21.1 in c:\\users\\khelan modi\\appdata\\local\\packages\\pythonsoftwarefoundation.python.3.11_qbz5n2kfra8p0\\localcache\\local-packages\\python311\\site-packages (from requests->huggingface-hub>=0.19.3->gradio) (2.0.7)\n",
      "Requirement already satisfied: mdurl~=0.1 in c:\\users\\khelan modi\\appdata\\local\\packages\\pythonsoftwarefoundation.python.3.11_qbz5n2kfra8p0\\localcache\\local-packages\\python311\\site-packages (from markdown-it-py>=2.2.0->rich<14.0.0,>=10.11.0->typer[all]<1.0,>=0.9->gradio) (0.1.2)\n",
      "Downloading pydantic-2.9.2-py3-none-any.whl (434 kB)\n",
      "   ---------------------------------------- 0.0/434.9 kB ? eta -:--:--\n",
      "   ------ --------------------------------- 71.7/434.9 kB 4.1 MB/s eta 0:00:01\n",
      "   ---------------------------------------- 434.9/434.9 kB 5.4 MB/s eta 0:00:00\n",
      "Downloading pydantic_core-2.23.4-cp311-none-win_amd64.whl (1.9 MB)\n",
      "   ---------------------------------------- 0.0/1.9 MB ? eta -:--:--\n",
      "   ---------------------- ----------------- 1.1/1.9 MB 35.0 MB/s eta 0:00:01\n",
      "   ---------------------------------------- 1.9/1.9 MB 24.4 MB/s eta 0:00:00\n",
      "Installing collected packages: pydantic-core, pydantic\n",
      "  Attempting uninstall: pydantic-core\n",
      "    Found existing installation: pydantic_core 2.23.3\n",
      "    Uninstalling pydantic_core-2.23.3:\n",
      "      Successfully uninstalled pydantic_core-2.23.3\n",
      "  Attempting uninstall: pydantic\n",
      "    Found existing installation: pydantic 1.10.9\n",
      "    Uninstalling pydantic-1.10.9:\n",
      "      Successfully uninstalled pydantic-1.10.9\n",
      "Successfully installed pydantic-2.9.2 pydantic-core-2.23.4\n"
     ]
    }
   ],
   "source": [
    "! pip install gradio"
   ]
  },
  {
   "cell_type": "code",
   "execution_count": 198,
   "metadata": {},
   "outputs": [
    {
     "name": "stdout",
     "output_type": "stream",
     "text": [
      "Collecting pydantic==1.10.7\n",
      "  Downloading pydantic-1.10.7-cp311-cp311-win_amd64.whl.metadata (146 kB)\n",
      "     ---------------------------------------- 0.0/146.6 kB ? eta -:--:--\n",
      "     ----- ------------------------------- 20.5/146.6 kB 640.0 kB/s eta 0:00:01\n",
      "     ------------------ ------------------ 71.7/146.6 kB 653.6 kB/s eta 0:00:01\n",
      "     -------------------------------------- 146.6/146.6 kB 1.1 MB/s eta 0:00:00\n",
      "Requirement already satisfied: typing-extensions>=4.2.0 in c:\\users\\khelan modi\\appdata\\local\\packages\\pythonsoftwarefoundation.python.3.11_qbz5n2kfra8p0\\localcache\\local-packages\\python311\\site-packages (from pydantic==1.10.7) (4.12.2)\n",
      "Downloading pydantic-1.10.7-cp311-cp311-win_amd64.whl (2.1 MB)\n",
      "   ---------------------------------------- 0.0/2.1 MB ? eta -:--:--\n",
      "   --------------- ------------------------ 0.8/2.1 MB 16.8 MB/s eta 0:00:01\n",
      "   ------------------- -------------------- 1.0/2.1 MB 11.0 MB/s eta 0:00:01\n",
      "   ---------------------------------------- 2.1/2.1 MB 16.7 MB/s eta 0:00:00\n",
      "Installing collected packages: pydantic\n",
      "  Attempting uninstall: pydantic\n",
      "    Found existing installation: pydantic 2.9.2\n",
      "    Uninstalling pydantic-2.9.2:\n",
      "      Successfully uninstalled pydantic-2.9.2\n",
      "Successfully installed pydantic-1.10.7\n"
     ]
    },
    {
     "name": "stderr",
     "output_type": "stream",
     "text": [
      "ERROR: pip's dependency resolver does not currently take into account all the packages that are installed. This behaviour is the source of the following dependency conflicts.\n",
      "gradio 4.14.0 requires pydantic>=2.0, but you have pydantic 1.10.7 which is incompatible.\n",
      "\n",
      "[notice] A new release of pip is available: 23.3.1 -> 24.2\n",
      "[notice] To update, run: C:\\Users\\Khelan Modi\\AppData\\Local\\Microsoft\\WindowsApps\\PythonSoftwareFoundation.Python.3.11_qbz5n2kfra8p0\\python.exe -m pip install --upgrade pip\n"
     ]
    }
   ],
   "source": [
    "! pip install pydantic==1.10.7\n"
   ]
  },
  {
   "cell_type": "code",
   "execution_count": 199,
   "metadata": {},
   "outputs": [
    {
     "ename": "ImportError",
     "evalue": "cannot import name 'RootModel' from 'pydantic' (C:\\Users\\Khelan Modi\\AppData\\Local\\Packages\\PythonSoftwareFoundation.Python.3.11_qbz5n2kfra8p0\\LocalCache\\local-packages\\Python311\\site-packages\\pydantic\\__init__.cp311-win_amd64.pyd)",
     "output_type": "error",
     "traceback": [
      "\u001b[1;31m---------------------------------------------------------------------------\u001b[0m",
      "\u001b[1;31mImportError\u001b[0m                               Traceback (most recent call last)",
      "Cell \u001b[1;32mIn[199], line 1\u001b[0m\n\u001b[1;32m----> 1\u001b[0m \u001b[38;5;28;01mimport\u001b[39;00m \u001b[38;5;21;01mgradio\u001b[39;00m \u001b[38;5;28;01mas\u001b[39;00m \u001b[38;5;21;01mgr\u001b[39;00m\n\u001b[0;32m      4\u001b[0m \u001b[38;5;28;01mwith\u001b[39;00m gr\u001b[38;5;241m.\u001b[39mBlocks() \u001b[38;5;28;01mas\u001b[39;00m demo:\n\u001b[0;32m      5\u001b[0m     gr\u001b[38;5;241m.\u001b[39mMarkdown(\u001b[38;5;124m\"\u001b[39m\u001b[38;5;124m## Fraud Detection Vector Search\u001b[39m\u001b[38;5;124m\"\u001b[39m)\n",
      "File \u001b[1;32m~\\AppData\\Local\\Packages\\PythonSoftwareFoundation.Python.3.11_qbz5n2kfra8p0\\LocalCache\\local-packages\\Python311\\site-packages\\gradio\\__init__.py:3\u001b[0m\n\u001b[0;32m      1\u001b[0m \u001b[38;5;28;01mimport\u001b[39;00m \u001b[38;5;21;01mjson\u001b[39;00m\n\u001b[1;32m----> 3\u001b[0m \u001b[38;5;28;01mimport\u001b[39;00m \u001b[38;5;21;01mgradio\u001b[39;00m\u001b[38;5;21;01m.\u001b[39;00m\u001b[38;5;21;01m_simple_templates\u001b[39;00m\n\u001b[0;32m      4\u001b[0m \u001b[38;5;28;01mimport\u001b[39;00m \u001b[38;5;21;01mgradio\u001b[39;00m\u001b[38;5;21;01m.\u001b[39;00m\u001b[38;5;21;01mcomponents\u001b[39;00m \u001b[38;5;28;01mas\u001b[39;00m \u001b[38;5;21;01mcomponents\u001b[39;00m\n\u001b[0;32m      5\u001b[0m \u001b[38;5;28;01mimport\u001b[39;00m \u001b[38;5;21;01mgradio\u001b[39;00m\u001b[38;5;21;01m.\u001b[39;00m\u001b[38;5;21;01mimage_utils\u001b[39;00m\n",
      "File \u001b[1;32m~\\AppData\\Local\\Packages\\PythonSoftwareFoundation.Python.3.11_qbz5n2kfra8p0\\LocalCache\\local-packages\\Python311\\site-packages\\gradio\\_simple_templates\\__init__.py:1\u001b[0m\n\u001b[1;32m----> 1\u001b[0m \u001b[38;5;28;01mfrom\u001b[39;00m \u001b[38;5;21;01m.\u001b[39;00m\u001b[38;5;21;01msimpledropdown\u001b[39;00m \u001b[38;5;28;01mimport\u001b[39;00m SimpleDropdown\n\u001b[0;32m      2\u001b[0m \u001b[38;5;28;01mfrom\u001b[39;00m \u001b[38;5;21;01m.\u001b[39;00m\u001b[38;5;21;01msimpletextbox\u001b[39;00m \u001b[38;5;28;01mimport\u001b[39;00m SimpleTextbox\n\u001b[0;32m      4\u001b[0m __all__ \u001b[38;5;241m=\u001b[39m [\u001b[38;5;124m\"\u001b[39m\u001b[38;5;124mSimpleDropdown\u001b[39m\u001b[38;5;124m\"\u001b[39m, \u001b[38;5;124m\"\u001b[39m\u001b[38;5;124mSimpleTextbox\u001b[39m\u001b[38;5;124m\"\u001b[39m]\n",
      "File \u001b[1;32m~\\AppData\\Local\\Packages\\PythonSoftwareFoundation.Python.3.11_qbz5n2kfra8p0\\LocalCache\\local-packages\\Python311\\site-packages\\gradio\\_simple_templates\\simpledropdown.py:6\u001b[0m\n\u001b[0;32m      3\u001b[0m \u001b[38;5;28;01mimport\u001b[39;00m \u001b[38;5;21;01mwarnings\u001b[39;00m\n\u001b[0;32m      4\u001b[0m \u001b[38;5;28;01mfrom\u001b[39;00m \u001b[38;5;21;01mtyping\u001b[39;00m \u001b[38;5;28;01mimport\u001b[39;00m Any, Callable\n\u001b[1;32m----> 6\u001b[0m \u001b[38;5;28;01mfrom\u001b[39;00m \u001b[38;5;21;01mgradio\u001b[39;00m\u001b[38;5;21;01m.\u001b[39;00m\u001b[38;5;21;01mcomponents\u001b[39;00m\u001b[38;5;21;01m.\u001b[39;00m\u001b[38;5;21;01mbase\u001b[39;00m \u001b[38;5;28;01mimport\u001b[39;00m FormComponent\n\u001b[0;32m      7\u001b[0m \u001b[38;5;28;01mfrom\u001b[39;00m \u001b[38;5;21;01mgradio\u001b[39;00m\u001b[38;5;21;01m.\u001b[39;00m\u001b[38;5;21;01mevents\u001b[39;00m \u001b[38;5;28;01mimport\u001b[39;00m Events\n\u001b[0;32m     10\u001b[0m \u001b[38;5;28;01mclass\u001b[39;00m \u001b[38;5;21;01mSimpleDropdown\u001b[39;00m(FormComponent):\n",
      "File \u001b[1;32m~\\AppData\\Local\\Packages\\PythonSoftwareFoundation.Python.3.11_qbz5n2kfra8p0\\LocalCache\\local-packages\\Python311\\site-packages\\gradio\\components\\__init__.py:1\u001b[0m\n\u001b[1;32m----> 1\u001b[0m \u001b[38;5;28;01mfrom\u001b[39;00m \u001b[38;5;21;01mgradio\u001b[39;00m\u001b[38;5;21;01m.\u001b[39;00m\u001b[38;5;21;01mcomponents\u001b[39;00m\u001b[38;5;21;01m.\u001b[39;00m\u001b[38;5;21;01mannotated_image\u001b[39;00m \u001b[38;5;28;01mimport\u001b[39;00m AnnotatedImage\n\u001b[0;32m      2\u001b[0m \u001b[38;5;28;01mfrom\u001b[39;00m \u001b[38;5;21;01mgradio\u001b[39;00m\u001b[38;5;21;01m.\u001b[39;00m\u001b[38;5;21;01mcomponents\u001b[39;00m\u001b[38;5;21;01m.\u001b[39;00m\u001b[38;5;21;01maudio\u001b[39;00m \u001b[38;5;28;01mimport\u001b[39;00m Audio\n\u001b[0;32m      3\u001b[0m \u001b[38;5;28;01mfrom\u001b[39;00m \u001b[38;5;21;01mgradio\u001b[39;00m\u001b[38;5;21;01m.\u001b[39;00m\u001b[38;5;21;01mcomponents\u001b[39;00m\u001b[38;5;21;01m.\u001b[39;00m\u001b[38;5;21;01mbar_plot\u001b[39;00m \u001b[38;5;28;01mimport\u001b[39;00m BarPlot\n",
      "File \u001b[1;32m~\\AppData\\Local\\Packages\\PythonSoftwareFoundation.Python.3.11_qbz5n2kfra8p0\\LocalCache\\local-packages\\Python311\\site-packages\\gradio\\components\\annotated_image.py:11\u001b[0m\n\u001b[0;32m      8\u001b[0m \u001b[38;5;28;01mfrom\u001b[39;00m \u001b[38;5;21;01mgradio_client\u001b[39;00m\u001b[38;5;21;01m.\u001b[39;00m\u001b[38;5;21;01mdocumentation\u001b[39;00m \u001b[38;5;28;01mimport\u001b[39;00m document, set_documentation_group\n\u001b[0;32m      9\u001b[0m \u001b[38;5;28;01mfrom\u001b[39;00m \u001b[38;5;21;01mPIL\u001b[39;00m \u001b[38;5;28;01mimport\u001b[39;00m Image \u001b[38;5;28;01mas\u001b[39;00m _Image  \u001b[38;5;66;03m# using _ to minimize namespace pollution\u001b[39;00m\n\u001b[1;32m---> 11\u001b[0m \u001b[38;5;28;01mfrom\u001b[39;00m \u001b[38;5;21;01mgradio\u001b[39;00m \u001b[38;5;28;01mimport\u001b[39;00m processing_utils, utils\n\u001b[0;32m     12\u001b[0m \u001b[38;5;28;01mfrom\u001b[39;00m \u001b[38;5;21;01mgradio\u001b[39;00m\u001b[38;5;21;01m.\u001b[39;00m\u001b[38;5;21;01mcomponents\u001b[39;00m\u001b[38;5;21;01m.\u001b[39;00m\u001b[38;5;21;01mbase\u001b[39;00m \u001b[38;5;28;01mimport\u001b[39;00m Component\n\u001b[0;32m     13\u001b[0m \u001b[38;5;28;01mfrom\u001b[39;00m \u001b[38;5;21;01mgradio\u001b[39;00m\u001b[38;5;21;01m.\u001b[39;00m\u001b[38;5;21;01mdata_classes\u001b[39;00m \u001b[38;5;28;01mimport\u001b[39;00m FileData, GradioModel\n",
      "File \u001b[1;32m~\\AppData\\Local\\Packages\\PythonSoftwareFoundation.Python.3.11_qbz5n2kfra8p0\\LocalCache\\local-packages\\Python311\\site-packages\\gradio\\processing_utils.py:22\u001b[0m\n\u001b[0;32m     19\u001b[0m \u001b[38;5;28;01mfrom\u001b[39;00m \u001b[38;5;21;01mPIL\u001b[39;00m \u001b[38;5;28;01mimport\u001b[39;00m Image, ImageOps, PngImagePlugin\n\u001b[0;32m     21\u001b[0m \u001b[38;5;28;01mfrom\u001b[39;00m \u001b[38;5;21;01mgradio\u001b[39;00m \u001b[38;5;28;01mimport\u001b[39;00m wasm_utils\n\u001b[1;32m---> 22\u001b[0m \u001b[38;5;28;01mfrom\u001b[39;00m \u001b[38;5;21;01mgradio\u001b[39;00m\u001b[38;5;21;01m.\u001b[39;00m\u001b[38;5;21;01mdata_classes\u001b[39;00m \u001b[38;5;28;01mimport\u001b[39;00m FileData, GradioModel, GradioRootModel\n\u001b[0;32m     23\u001b[0m \u001b[38;5;28;01mfrom\u001b[39;00m \u001b[38;5;21;01mgradio\u001b[39;00m\u001b[38;5;21;01m.\u001b[39;00m\u001b[38;5;21;01mutils\u001b[39;00m \u001b[38;5;28;01mimport\u001b[39;00m abspath\n\u001b[0;32m     25\u001b[0m \u001b[38;5;28;01mwith\u001b[39;00m warnings\u001b[38;5;241m.\u001b[39mcatch_warnings():\n",
      "File \u001b[1;32m~\\AppData\\Local\\Packages\\PythonSoftwareFoundation.Python.3.11_qbz5n2kfra8p0\\LocalCache\\local-packages\\Python311\\site-packages\\gradio\\data_classes.py:19\u001b[0m\n\u001b[0;32m     16\u001b[0m \u001b[38;5;28;01mfrom\u001b[39;00m \u001b[38;5;21;01m.\u001b[39;00m \u001b[38;5;28;01mimport\u001b[39;00m wasm_utils\n\u001b[0;32m     18\u001b[0m \u001b[38;5;28;01mif\u001b[39;00m \u001b[38;5;129;01mnot\u001b[39;00m wasm_utils\u001b[38;5;241m.\u001b[39mIS_WASM:\n\u001b[1;32m---> 19\u001b[0m     \u001b[38;5;28;01mfrom\u001b[39;00m \u001b[38;5;21;01mpydantic\u001b[39;00m \u001b[38;5;28;01mimport\u001b[39;00m BaseModel, RootModel, ValidationError  \u001b[38;5;66;03m# type: ignore\u001b[39;00m\n\u001b[0;32m     20\u001b[0m \u001b[38;5;28;01melse\u001b[39;00m:\n\u001b[0;32m     21\u001b[0m     \u001b[38;5;66;03m# XXX: Currently Pyodide V2 is not available on Pyodide,\u001b[39;00m\n\u001b[0;32m     22\u001b[0m     \u001b[38;5;66;03m# so we install V1 for the Wasm version.\u001b[39;00m\n\u001b[0;32m     23\u001b[0m     \u001b[38;5;28;01mfrom\u001b[39;00m \u001b[38;5;21;01mtyping\u001b[39;00m \u001b[38;5;28;01mimport\u001b[39;00m Generic, TypeVar\n",
      "\u001b[1;31mImportError\u001b[0m: cannot import name 'RootModel' from 'pydantic' (C:\\Users\\Khelan Modi\\AppData\\Local\\Packages\\PythonSoftwareFoundation.Python.3.11_qbz5n2kfra8p0\\LocalCache\\local-packages\\Python311\\site-packages\\pydantic\\__init__.cp311-win_amd64.pyd)"
     ]
    }
   ],
   "source": [
    "import gradio as gr\n",
    "\n",
    "\n",
    "with gr.Blocks() as demo:\n",
    "    gr.Markdown(\"## Fraud Detection Vector Search\")\n",
    "\n",
    "    tenant_id = gr.Number(label=\"Tenant ID\", value=10)\n",
    "    city = gr.Textbox(label=\"City\", placeholder=\"Enter the city, e.g., Sweden\")\n",
    "    query = gr.Textbox(label=\"Query\", placeholder=\"e.g., Recent purchase at a grocery store\")\n",
    "    amount = gr.Number(label=\"Transaction Amount\", value=100.0)\n",
    "\n",
    "    search_button = gr.Button(\"Perform Vector Search\")\n",
    "    output = gr.Textbox(label=\"Results\")\n",
    "\n",
    "    search_button.click(perform_search, inputs=[tenant_id, city, query, amount], outputs=output)\n",
    "\n",
    "# Launch the Gradio app\n",
    "demo.launch()"
   ]
  }
 ],
 "metadata": {
  "kernelspec": {
   "display_name": ".venv",
   "language": "python",
   "name": "python3"
  },
  "language_info": {
   "codemirror_mode": {
    "name": "ipython",
    "version": 3
   },
   "file_extension": ".py",
   "mimetype": "text/x-python",
   "name": "python",
   "nbconvert_exporter": "python",
   "pygments_lexer": "ipython3",
   "version": "3.11.9"
  }
 },
 "nbformat": 4,
 "nbformat_minor": 2
}
