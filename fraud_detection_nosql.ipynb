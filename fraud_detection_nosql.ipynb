{
 "cells": [
  {
   "cell_type": "code",
   "execution_count": 1,
   "metadata": {},
   "outputs": [
    {
     "name": "stdout",
     "output_type": "stream",
     "text": [
      "Requirement already satisfied: python-dotenv in c:\\users\\khelan modi\\appdata\\local\\packages\\pythonsoftwarefoundation.python.3.11_qbz5n2kfra8p0\\localcache\\local-packages\\python311\\site-packages (1.0.0)\n"
     ]
    },
    {
     "name": "stderr",
     "output_type": "stream",
     "text": [
      "\n",
      "[notice] A new release of pip is available: 23.3.1 -> 24.2\n",
      "[notice] To update, run: C:\\Users\\Khelan Modi\\AppData\\Local\\Microsoft\\WindowsApps\\PythonSoftwareFoundation.Python.3.11_qbz5n2kfra8p0\\python.exe -m pip install --upgrade pip\n"
     ]
    },
    {
     "name": "stdout",
     "output_type": "stream",
     "text": [
      "Requirement already satisfied: openai in c:\\users\\khelan modi\\appdata\\local\\packages\\pythonsoftwarefoundation.python.3.11_qbz5n2kfra8p0\\localcache\\local-packages\\python311\\site-packages (1.44.1)\n",
      "Requirement already satisfied: anyio<5,>=3.5.0 in c:\\users\\khelan modi\\appdata\\local\\packages\\pythonsoftwarefoundation.python.3.11_qbz5n2kfra8p0\\localcache\\local-packages\\python311\\site-packages (from openai) (3.7.1)\n",
      "Requirement already satisfied: distro<2,>=1.7.0 in c:\\users\\khelan modi\\appdata\\local\\packages\\pythonsoftwarefoundation.python.3.11_qbz5n2kfra8p0\\localcache\\local-packages\\python311\\site-packages (from openai) (1.9.0)\n",
      "Requirement already satisfied: httpx<1,>=0.23.0 in c:\\users\\khelan modi\\appdata\\local\\packages\\pythonsoftwarefoundation.python.3.11_qbz5n2kfra8p0\\localcache\\local-packages\\python311\\site-packages (from openai) (0.26.0)\n",
      "Requirement already satisfied: jiter<1,>=0.4.0 in c:\\users\\khelan modi\\appdata\\local\\packages\\pythonsoftwarefoundation.python.3.11_qbz5n2kfra8p0\\localcache\\local-packages\\python311\\site-packages (from openai) (0.5.0)\n",
      "Requirement already satisfied: pydantic<3,>=1.9.0 in c:\\users\\khelan modi\\appdata\\local\\packages\\pythonsoftwarefoundation.python.3.11_qbz5n2kfra8p0\\localcache\\local-packages\\python311\\site-packages (from openai) (1.10.9)\n",
      "Requirement already satisfied: sniffio in c:\\users\\khelan modi\\appdata\\local\\packages\\pythonsoftwarefoundation.python.3.11_qbz5n2kfra8p0\\localcache\\local-packages\\python311\\site-packages (from openai) (1.3.0)\n",
      "Requirement already satisfied: tqdm>4 in c:\\users\\khelan modi\\appdata\\local\\packages\\pythonsoftwarefoundation.python.3.11_qbz5n2kfra8p0\\localcache\\local-packages\\python311\\site-packages (from openai) (4.66.1)\n",
      "Requirement already satisfied: typing-extensions<5,>=4.11 in c:\\users\\khelan modi\\appdata\\local\\packages\\pythonsoftwarefoundation.python.3.11_qbz5n2kfra8p0\\localcache\\local-packages\\python311\\site-packages (from openai) (4.12.2)\n",
      "Requirement already satisfied: idna>=2.8 in c:\\users\\khelan modi\\appdata\\local\\packages\\pythonsoftwarefoundation.python.3.11_qbz5n2kfra8p0\\localcache\\local-packages\\python311\\site-packages (from anyio<5,>=3.5.0->openai) (3.4)\n",
      "Requirement already satisfied: certifi in c:\\users\\khelan modi\\appdata\\local\\packages\\pythonsoftwarefoundation.python.3.11_qbz5n2kfra8p0\\localcache\\local-packages\\python311\\site-packages (from httpx<1,>=0.23.0->openai) (2023.7.22)\n",
      "Requirement already satisfied: httpcore==1.* in c:\\users\\khelan modi\\appdata\\local\\packages\\pythonsoftwarefoundation.python.3.11_qbz5n2kfra8p0\\localcache\\local-packages\\python311\\site-packages (from httpx<1,>=0.23.0->openai) (1.0.2)\n",
      "Requirement already satisfied: h11<0.15,>=0.13 in c:\\users\\khelan modi\\appdata\\local\\packages\\pythonsoftwarefoundation.python.3.11_qbz5n2kfra8p0\\localcache\\local-packages\\python311\\site-packages (from httpcore==1.*->httpx<1,>=0.23.0->openai) (0.14.0)\n",
      "Requirement already satisfied: colorama in c:\\users\\khelan modi\\appdata\\local\\packages\\pythonsoftwarefoundation.python.3.11_qbz5n2kfra8p0\\localcache\\local-packages\\python311\\site-packages (from tqdm>4->openai) (0.4.6)\n"
     ]
    },
    {
     "name": "stderr",
     "output_type": "stream",
     "text": [
      "\n",
      "[notice] A new release of pip is available: 23.3.1 -> 24.2\n",
      "[notice] To update, run: C:\\Users\\Khelan Modi\\AppData\\Local\\Microsoft\\WindowsApps\\PythonSoftwareFoundation.Python.3.11_qbz5n2kfra8p0\\python.exe -m pip install --upgrade pip\n"
     ]
    },
    {
     "name": "stdout",
     "output_type": "stream",
     "text": [
      "Requirement already satisfied: geopy in c:\\users\\khelan modi\\appdata\\local\\packages\\pythonsoftwarefoundation.python.3.11_qbz5n2kfra8p0\\localcache\\local-packages\\python311\\site-packages (2.4.1)\n",
      "Requirement already satisfied: geographiclib<3,>=1.52 in c:\\users\\khelan modi\\appdata\\local\\packages\\pythonsoftwarefoundation.python.3.11_qbz5n2kfra8p0\\localcache\\local-packages\\python311\\site-packages (from geopy) (2.0)\n"
     ]
    },
    {
     "name": "stderr",
     "output_type": "stream",
     "text": [
      "\n",
      "[notice] A new release of pip is available: 23.3.1 -> 24.2\n",
      "[notice] To update, run: C:\\Users\\Khelan Modi\\AppData\\Local\\Microsoft\\WindowsApps\\PythonSoftwareFoundation.Python.3.11_qbz5n2kfra8p0\\python.exe -m pip install --upgrade pip\n"
     ]
    },
    {
     "name": "stdout",
     "output_type": "stream",
     "text": [
      "Requirement already satisfied: azure-cosmos in c:\\users\\khelan modi\\appdata\\local\\packages\\pythonsoftwarefoundation.python.3.11_qbz5n2kfra8p0\\localcache\\local-packages\\python311\\site-packages (4.7.0)\n",
      "Requirement already satisfied: azure-core>=1.25.1 in c:\\users\\khelan modi\\appdata\\local\\packages\\pythonsoftwarefoundation.python.3.11_qbz5n2kfra8p0\\localcache\\local-packages\\python311\\site-packages (from azure-cosmos) (1.29.5)\n",
      "Requirement already satisfied: typing-extensions>=4.6.0 in c:\\users\\khelan modi\\appdata\\local\\packages\\pythonsoftwarefoundation.python.3.11_qbz5n2kfra8p0\\localcache\\local-packages\\python311\\site-packages (from azure-cosmos) (4.12.2)\n",
      "Requirement already satisfied: requests>=2.18.4 in c:\\users\\khelan modi\\appdata\\local\\packages\\pythonsoftwarefoundation.python.3.11_qbz5n2kfra8p0\\localcache\\local-packages\\python311\\site-packages (from azure-core>=1.25.1->azure-cosmos) (2.31.0)\n",
      "Requirement already satisfied: six>=1.11.0 in c:\\users\\khelan modi\\appdata\\local\\packages\\pythonsoftwarefoundation.python.3.11_qbz5n2kfra8p0\\localcache\\local-packages\\python311\\site-packages (from azure-core>=1.25.1->azure-cosmos) (1.16.0)\n",
      "Requirement already satisfied: charset-normalizer<4,>=2 in c:\\users\\khelan modi\\appdata\\local\\packages\\pythonsoftwarefoundation.python.3.11_qbz5n2kfra8p0\\localcache\\local-packages\\python311\\site-packages (from requests>=2.18.4->azure-core>=1.25.1->azure-cosmos) (3.3.1)\n",
      "Requirement already satisfied: idna<4,>=2.5 in c:\\users\\khelan modi\\appdata\\local\\packages\\pythonsoftwarefoundation.python.3.11_qbz5n2kfra8p0\\localcache\\local-packages\\python311\\site-packages (from requests>=2.18.4->azure-core>=1.25.1->azure-cosmos) (3.4)\n",
      "Requirement already satisfied: urllib3<3,>=1.21.1 in c:\\users\\khelan modi\\appdata\\local\\packages\\pythonsoftwarefoundation.python.3.11_qbz5n2kfra8p0\\localcache\\local-packages\\python311\\site-packages (from requests>=2.18.4->azure-core>=1.25.1->azure-cosmos) (2.0.7)\n",
      "Requirement already satisfied: certifi>=2017.4.17 in c:\\users\\khelan modi\\appdata\\local\\packages\\pythonsoftwarefoundation.python.3.11_qbz5n2kfra8p0\\localcache\\local-packages\\python311\\site-packages (from requests>=2.18.4->azure-core>=1.25.1->azure-cosmos) (2023.7.22)\n"
     ]
    },
    {
     "name": "stderr",
     "output_type": "stream",
     "text": [
      "\n",
      "[notice] A new release of pip is available: 23.3.1 -> 24.2\n",
      "[notice] To update, run: C:\\Users\\Khelan Modi\\AppData\\Local\\Microsoft\\WindowsApps\\PythonSoftwareFoundation.Python.3.11_qbz5n2kfra8p0\\python.exe -m pip install --upgrade pip\n"
     ]
    }
   ],
   "source": [
    "! pip install python-dotenv\n",
    "\n",
    "! pip install openai\n",
    "\n",
    "! pip install geopy\n",
    "\n",
    "! pip install azure-cosmos"
   ]
  },
  {
   "cell_type": "code",
   "execution_count": 2,
   "metadata": {},
   "outputs": [],
   "source": [
    "# Import the required libraries\n",
    "import time\n",
    "import os\n",
    "import json\n",
    "import uuid\n",
    "from dotenv import dotenv_values\n",
    "from openai import OpenAI, AzureOpenAI\n",
    "\n",
    "\n",
    "#Cosmos DB imports\n",
    "from azure.cosmos import CosmosClient"
   ]
  },
  {
   "cell_type": "code",
   "execution_count": 98,
   "metadata": {},
   "outputs": [],
   "source": [
    "env_name = \"variable.env\" # following example.env template change to your own .env file name\n",
    "config = dotenv_values(env_name)\n",
    "\n",
    "nosql_uri=config[\"NOSQL_URI\"]\n",
    "cosmos_key = config['NOSQL_PRIMARY_KEY']\n",
    "cosmos_database = \"Account\"\n",
    "cosmos_container = \"Transactions\"\n",
    "\n",
    "openai_endpoint = config['AOAI_ENDPOINT']\n",
    "openai_key = config['AOAI_KEY']\n",
    "openai_api_version = config['API_VERSION']\n",
    "openai_embeddings_deployment = config['AOAI_EMBEDDING_DEPLOYMENT']\n",
    "openai_embeddings_model = config['AOAI_EMBEDDING_DEPLOYMENT_MODEL']\n",
    "#openai_embeddings_dimensions = int(config['openai_embeddings_dimensions'])\n",
    "\n",
    "# Create the Azure Cosmos DB for NoSQL client\n",
    "cosmos_client = CosmosClient(url=nosql_uri, credential=cosmos_key)\n",
    "\n",
    "azure_openai_embeddings = AzureOpenAI(\n",
    "    api_version=openai_api_version,\n",
    "    api_key= openai_key,\n",
    "    azure_endpoint= openai_endpoint,\n",
    ")"
   ]
  },
  {
   "cell_type": "code",
   "execution_count": 89,
   "metadata": {},
   "outputs": [
    {
     "name": "stdout",
     "output_type": "stream",
     "text": [
      "{\"id\": \"fraud-nosql-db2\", \"_rid\": \"+39sAA==\", \"_self\": \"dbs/+39sAA==/\", \"_etag\": \"\\\"0000f401-0000-4700-0000-66ed8ffd0000\\\"\", \"_colls\": \"colls/\", \"_users\": \"users/\", \"_ts\": 1726844925}\n"
     ]
    }
   ],
   "source": [
    "#create database\n",
    "DATABASE_NAME = \"fraud-nosql-db2\"\n",
    "db= cosmos_client.create_database_if_not_exists(\n",
    "    id=DATABASE_NAME\n",
    ")\n",
    "properties = db.read()\n",
    "print(json.dumps(properties))"
   ]
  },
  {
   "cell_type": "code",
   "execution_count": 90,
   "metadata": {},
   "outputs": [],
   "source": [
    "vector_embedding_policy = {\n",
    "    \"vectorEmbeddings\": [\n",
    "        {\n",
    "            \"path\":\"/locationVector\",\n",
    "            \"dataType\":\"float32\",\n",
    "            \"distanceFunction\":\"cosine\",\n",
    "            \"dimensions\":1536\n",
    "        },\n",
    "    ]\n",
    "}\n",
    "\n",
    "indexing_policy = {\n",
    "    \"includedPaths\": [\n",
    "        {\n",
    "            \"path\": \"/*\"\n",
    "        }\n",
    "    ],\n",
    "    \"excludedPaths\": [\n",
    "        {\n",
    "            \"path\": \"/\\\"_etag\\\"/?\"\n",
    "        },\n",
    "        {\n",
    "            \"path\": \"/locationVector/*\"\n",
    "        }\n",
    "    ],\n",
    "    \"vectorIndexes\": [\n",
    "        {\"path\": \"/locationVector\",\n",
    "         \"type\": \"diskANN\"\n",
    "        }\n",
    "    ]\n",
    "}"
   ]
  },
  {
   "cell_type": "code",
   "execution_count": 91,
   "metadata": {},
   "outputs": [
    {
     "name": "stdout",
     "output_type": "stream",
     "text": [
      "Container with properties '{'id': 'fraud-nosql-cont', 'indexingPolicy': {'indexingMode': 'consistent', 'automatic': True, 'includedPaths': [{'path': '/*'}], 'excludedPaths': [{'path': '/\"_etag\"/?'}, {'path': '/locationVector/*'}], 'vectorIndexes': [{'path': '/locationVector', 'type': 'diskANN'}]}, 'partitionKey': {'paths': ['/TenantId'], 'kind': 'Hash', 'version': 2}, 'conflictResolutionPolicy': {'mode': 'LastWriterWins', 'conflictResolutionPath': '/_ts', 'conflictResolutionProcedure': ''}, 'geospatialConfig': {'type': 'Geography'}, 'vectorEmbeddingPolicy': {'vectorEmbeddings': [{'path': '/locationVector', 'dataType': 'float32', 'dimensions': 1536, 'distanceFunction': 'cosine'}]}, '_rid': '+39sAPLryro=', '_ts': 1726844930, '_self': 'dbs/+39sAA==/colls/+39sAPLryro=/', '_etag': '\"0000f601-0000-4700-0000-66ed90020000\"', '_docs': 'docs/', '_sprocs': 'sprocs/', '_triggers': 'triggers/', '_udfs': 'udfs/', '_conflicts': 'conflicts/'}' created\n"
     ]
    }
   ],
   "source": [
    "from azure.cosmos import PartitionKey, exceptions\n",
    "\n",
    "CONTAINER_NAME = \"fraud-nosql-cont\"\n",
    "try:    \n",
    "    container = db.create_container_if_not_exists(\n",
    "                    id=CONTAINER_NAME,\n",
    "                    partition_key=PartitionKey(path=\"/TenantId\"),\n",
    "                    indexing_policy=indexing_policy,\n",
    "                    vector_embedding_policy=vector_embedding_policy)\n",
    "\n",
    "    properties = container.read()\n",
    "    print('Container with properties \\'{0}\\' created'.format(properties))\n",
    "\n",
    "except exceptions.CosmosResourceExistsError:\n",
    "    print('A container with id \\'{0}\\' already exists'.format(id))"
   ]
  },
  {
   "cell_type": "code",
   "execution_count": 92,
   "metadata": {},
   "outputs": [],
   "source": [
    "def generate_embeddings(lat_lon):\n",
    "    lat_lon_str = f\"{lat_lon[0]},{lat_lon[1]}\"\n",
    "    \n",
    "    # Call OpenAI to generate embeddings (assuming text input is required)\n",
    "    response = azure_openai_embeddings.embeddings.create(input=lat_lon_str, model=openai_embeddings_model)\n",
    "    embeddings = response.model_dump()\n",
    "    \n",
    "    time.sleep(0.5)  # To avoid API rate limits\n",
    "    \n",
    "    return embeddings['data'][0]['embedding']"
   ]
  },
  {
   "cell_type": "code",
   "execution_count": 93,
   "metadata": {},
   "outputs": [],
   "source": [
    "from geopy.geocoders import Nominatim\n",
    "\n",
    "def get_city_coordinates(city_name):\n",
    "    try:\n",
    "        # Create a geolocator object using Nominatim service\n",
    "        geolocator = Nominatim(user_agent=\"MyAPP\")\n",
    "        \n",
    "        # Geocode the city name to get location details\n",
    "        location = geolocator.geocode(city_name)\n",
    "        \n",
    "        if location:\n",
    "            # Extract the latitude and longitude from the location object\n",
    "            lat = location.latitude\n",
    "            lon = location.longitude\n",
    "            return lat, lon\n",
    "        else:\n",
    "            print(f\"City '{city_name}' not found.\")\n",
    "            return None, None\n",
    "    except Exception as e:\n",
    "        print(f\"Error occurred: {e}\")\n",
    "        return None, None\n",
    "\n"
   ]
  },
  {
   "cell_type": "code",
   "execution_count": 94,
   "metadata": {},
   "outputs": [],
   "source": [
    "# Load text-sample_w_embeddings.json which has embeddings pre-computed\n",
    "data_file = open(file=\"data/data_with_tenants.json\", mode=\"r\") \n",
    "\n",
    "data = json.load(data_file)\n",
    "data_file.close()"
   ]
  },
  {
   "cell_type": "code",
   "execution_count": 96,
   "metadata": {},
   "outputs": [
    {
     "name": "stdout",
     "output_type": "stream",
     "text": [
      "{\n",
      "  \"TransactionID\": \"T5109\",\n",
      "  \"Amount\": 108.79,\n",
      "  \"Timestamp\": \"2024-09-15 14:02:38\",\n",
      "  \"Location\": \"Boston\",\n",
      "  \"Merchant\": \"Lyft\",\n",
      "  \"Fraud\": false,\n",
      "  \"TenantId\": \"5\"\n",
      "}\n"
     ]
    }
   ],
   "source": [
    "# Take a peek at one data item\n",
    "print(json.dumps(data[4], indent=2))"
   ]
  },
  {
   "cell_type": "code",
   "execution_count": 99,
   "metadata": {},
   "outputs": [
    {
     "name": "stdout",
     "output_type": "stream",
     "text": [
      "Creating embeddings for transaction: T8612\r"
     ]
    }
   ],
   "source": [
    "# Generate embeddings for each location and store data in cosmos db container\n",
    "for item in data:\n",
    "    transaction_id = item[\"TransactionID\"]\n",
    "    item['id'] = transaction_id\n",
    "    location = item[\"Location\"]\n",
    "    location_coord = get_city_coordinates(location)\n",
    "    location_embeddings = generate_embeddings(location_coord)\n",
    "    item['locationVector'] = location_embeddings\n",
    "    item['@search.action'] = 'upload'\n",
    "   \n",
    "    print(\"Creating embeddings for transaction:\", transaction_id, end='\\r')\n",
    "    \n",
    "    # Insert the item into the container\n",
    "    container.upsert_item(item)    "
   ]
  },
  {
   "cell_type": "code",
   "execution_count": 132,
   "metadata": {},
   "outputs": [],
   "source": [
    "import numpy as np\n",
    "\n",
    "def get_average_location_vector(container, tenant_id, num_purchases=10):\n",
    "    # SQL query to get the last 'num_purchases' transactions ordered by timestamp\n",
    "    sql_query = \"\"\"\n",
    "    SELECT TOP @num_purchases c.locationVector\n",
    "    FROM c\n",
    "    WHERE c.TenantId = @tenant_id\n",
    "    ORDER BY c.Timestamp DESC\n",
    "    \"\"\"\n",
    "    \n",
    "    # Parameters for the query\n",
    "    parameters = [\n",
    "        {\"name\": \"@num_purchases\", \"value\": num_purchases}, \n",
    "        {\"name\": \"@tenant_id\", \"value\": tenant_id}\n",
    "    ]\n",
    "    \n",
    "    # Execute the query to get the location vectors\n",
    "    results = container.query_items(\n",
    "        query=sql_query,\n",
    "        parameters=parameters,\n",
    "        enable_cross_partition_query=True\n",
    "    )\n",
    "    \n",
    "    # Collect the location vectors\n",
    "    vectors = []\n",
    "    for result in results:\n",
    "        vectors.append(result['locationVector'])\n",
    "    \n",
    "    # If no vectors are found, return None\n",
    "    if not vectors:\n",
    "        return None\n",
    "    \n",
    "    # Convert the list of vectors into a numpy array\n",
    "    vectors_np = np.array(vectors)\n",
    "    \n",
    "    # Calculate the element-wise average of the vectors\n",
    "    avg_vector = np.mean(vectors_np, axis=0)\n",
    "    \n",
    "    return avg_vector\n"
   ]
  },
  {
   "cell_type": "code",
   "execution_count": 138,
   "metadata": {},
   "outputs": [],
   "source": [
    "def vector_search( current_location_vector, tenant_id, average_location_vector, amount, num_results=5):\n",
    "\n",
    "    if isinstance(current_location_vector, np.ndarray):\n",
    "        current_location_vector = current_location_vector.tolist()\n",
    "    if isinstance(average_location_vector, np.ndarray):\n",
    "        average_location_vector = average_location_vector.tolist()\n",
    "\n",
    "    sql_query = \"\"\"\n",
    "    SELECT TOP @num_results \n",
    "        c.TransactionID,\n",
    "        c.Amount, \n",
    "        c.Timestamp, \n",
    "        c.Location, \n",
    "        c.Merchant,\n",
    "        c.TenantId, \n",
    "        VectorDistance(@average_location_vector, @current_location_vector) AS ProximityofCurrentToAverage\n",
    "    FROM c\n",
    "    WHERE \n",
    "        VectorDistance(@average_location_vector, @current_location_vector) > 0.1  \n",
    "        AND c.Amount > @amount * 0.5 \n",
    "        AND c.Amount < @amount * 2.0\n",
    "        AND c.TenantId = @tenant_id\n",
    "    \"\"\"\n",
    "\n",
    "    # Parameters for the SQL query\n",
    "    parameters = [\n",
    "        {\"name\": \"@num_results\", \"value\": num_results},   \n",
    "        {\"name\": \"@average_location_vector\", \"value\": average_location_vector},  \n",
    "        {\"name\": \"@current_location_vector\", \"value\": current_location_vector},  \n",
    "        {\"name\": \"@amount\", \"value\": amount},  # Transaction amount range filtering\n",
    "        {\"name\": \"@tenant_id\", \"value\": tenant_id},  # Transaction amount range filtering\n",
    "    ]\n",
    "\n",
    "    results = container.query_items(\n",
    "        query=sql_query,\n",
    "        parameters=parameters,\n",
    "        enable_cross_partition_query=True\n",
    "    )\n",
    "\n",
    "    return list(results)\n"
   ]
  },
  {
   "cell_type": "code",
   "execution_count": 142,
   "metadata": {},
   "outputs": [
    {
     "name": "stdout",
     "output_type": "stream",
     "text": [
      "[-0.01492832 -0.0163448   0.00374046 ... -0.00231813 -0.00834704\n",
      " -0.01332994]\n",
      "[-2.139372554665897e-05, -0.005236445460468531, 0.0025807912461459637, 0.021292513236403465, -0.010614736005663872, -0.022411512210965157, -0.02444462478160858, 0.06833777576684952, -0.04249046370387077, 0.0005501419655047357, -0.034547142684459686, 0.06279005855321884, 0.008621024899184704, -0.025469060987234116, 0.013782607391476631, 0.0007372985710389912, -0.0802527591586113, -0.03005538322031498, -0.003311687149107456, 0.005126121453940868, 0.004322332795709372, 0.0007013448048382998, -0.0439719557762146, 0.02917279303073883, -0.0154453469440341, 0.02799075096845627, 0.008668307214975357, -0.01719476841390133, -0.011174235492944717, -0.008841672912240028, 0.009543017484247684, 0.022395752370357513, 0.031253185123205185, -0.007966961711645126, 0.0065879132598638535, 0.015264100395143032, 0.021796850487589836, 0.007801475934684277, 0.0069031245075166225, 0.023089217022061348, 0.02020503580570221, 0.009448454715311527, -0.0011721914634108543, 0.018912669271230698, -0.014814924448728561, -0.022521836683154106, 0.00634362455457449, -0.001804583822377026, 0.03212001547217369, -0.0010333015816286206, 0.0031442311592400074, -0.0172578115016222, -0.00017176545225083828, -0.031316228210926056, -0.010606855154037476, -0.027313046157360077, 0.004893653094768524, 0.07924408465623856, 0.0039696902967989445, 0.02464951202273369, 0.0008338320185430348, 0.005382230505347252, 0.0086289057508111, 0.01394021324813366, 0.0305597223341465, 0.05204136297106743, -0.0008845612755976617, 0.020740894600749016, -0.018613219261169434, 0.023971809074282646, 0.0172578115016222, 0.004897593520581722, 0.014799163676798344, -0.004192308522760868, 0.0532076433300972, 0.0039322590455412865, 0.024129413068294525, 0.012624206952750683, 0.016343697905540466, 0.007076490204781294, 0.03262435272336006, -0.015665994957089424, -0.011828298680484295, 0.009030799381434917, 0.021907174959778786, 0.020409923046827316, -0.06326287984848022, -0.09443726390600204, -0.03218305855989456, 0.01255328394472599, 0.011851939372718334, -0.0011101342970505357, -0.04249046370387077, -0.02587883546948433, -0.01765182428061962, -0.011520967818796635, -0.033822156488895416, 0.013018220663070679, -0.015957564115524292, 0.017273571342229843, -0.013853530399501324, -0.01646978221833706, -0.0015474897809326649, -0.03218305855989456, 0.0004036180325783789, 0.01875506341457367, 0.016060007736086845, -0.013569840230047703, -0.009795187041163445, -0.0365014523267746, 0.03322325646877289, -0.003949989564716816, -0.010488650761544704, 0.023294104263186455, -0.008329454809427261, 0.03751012682914734, -0.007340479642152786, -0.01697412133216858, 0.004936994519084692, -0.0021513160318136215, -0.011993784457445145, -0.04699798300862312, -0.005130061414092779, 0.00990551058202982, 0.04214373230934143, 0.031473834067583084, 0.007068610284477472, 0.024681033566594124, 0.008227011188864708, 0.0071749938651919365, 0.00977154541760683, 0.007230155635625124, 0.0036268983967602253, 0.001055957400240004, -0.0083530955016613, 0.02477559633553028, -0.0005949610495008528, -0.007044969126582146, 0.04570561647415161, 0.009747904725372791, -0.0523250512778759, -0.04655668884515762, -0.0036820604000240564, -0.008447659201920033, -0.029424961656332016, -0.03574494644999504, 0.0034535322338342667, -0.025484822690486908, -0.003991361241787672, 0.02405061200261116, -0.030591242015361786, -0.032813481986522675, -0.016848037019371986, 0.010756581090390682, 0.03596559166908264, -0.007395641878247261, 0.005894448608160019, 0.0003275240887887776, -0.024397343397140503, -0.034042805433273315, 0.032309144735336304, -0.03653297200798988, 0.043499138206243515, -0.006717937532812357, -0.013325551524758339, 0.0062254201620817184, 0.019401246681809425, -0.017289331182837486, 0.045737139880657196, 0.031584158539772034, -0.018187683075666428, -0.02249031513929367, -0.021008823066949844, -0.02064632996916771, -0.02721848338842392, -0.03432649374008179, -0.007383821066468954, -0.029015187174081802, 0.023136498406529427, -0.012490241788327694, 0.00324273481965065, -0.016186092048883438, 0.00943269394338131, -5.851722744409926e-05, -0.03867640718817711, -0.006450008135288954, 0.0025039585307240486, -0.02455494925379753, 0.031473834067583084, -0.06581608951091766, -0.0170371625572443, -0.022175105288624763, 0.015555670484900475, 0.028085313737392426, 0.006725817918777466, 0.01096934825181961, 0.04926750436425209, -0.0007919680210761726, 0.01686379685997963, -0.05305003747344017, -0.002375904005020857, 0.0011771166464313865, -0.019133316352963448, -0.012892136350274086, -0.051221814006567, -0.016454022377729416, 0.009062320925295353, -0.02788042649626732, 0.03328629955649376, 0.021056104451417923, 0.020015908405184746, 0.024302780628204346, -0.019558852538466454, 0.020551767200231552, -0.001398749533109367, 0.027644017711281776, -0.016233375295996666, -0.0017829131102189422, 0.015264100395143032, 0.0104965316131711, 0.03356998786330223, 0.00177798792719841, 0.004657244775444269, 0.007001627702265978, -0.027454892173409462, 0.023467469960451126, -0.018912669271230698, 0.055351078510284424, 0.003918468486517668, -0.033759113401174545, -0.022963132709264755, -0.02871573530137539, -0.05178919434547424, 0.018234964460134506, -0.010701418854296207, -0.031142862513661385, -0.017494218423962593, -0.013900811783969402, -0.014097819104790688, -0.010717179626226425, -0.03552429750561714, -0.02510656788945198, -0.02004742994904518, -0.019007232040166855, 0.0358395092189312, -0.03785685822367668, -0.03027603216469288, 0.03836119920015335, -0.001892252010293305, 0.002072513336315751, -0.008589504286646843, -0.0129709392786026, 0.005074899643659592, 0.009416933171451092, 0.018959950655698776, -0.03445257991552353, 0.006280582398176193, 0.021922936663031578, -0.004318392835557461, -0.014610037207603455, -0.012939417734742165, 0.04825882613658905, -0.0008574728271923959, 0.030039623379707336, 0.04119809716939926, 0.005929909646511078, -0.02260063961148262, -0.0019149077124893665, -0.0148385651409626, -0.04290023818612099, -0.0005481719272211194, -0.006544571369886398, 0.008368856273591518, 0.007241976447403431, 0.009212045930325985, 0.00416078744456172, -0.04009485989809036, 0.013688044622540474, 0.044949110597372055, -0.012111988849937916, 0.02955104596912861, 0.03836119920015335, 0.05021313577890396, -0.005535895936191082, -0.0028250799514353275, 0.05699017643928528, 0.0362808033823967, -0.009259327314794064, 0.015224698930978775, -0.010598975233733654, -0.008833792991936207, -0.017714867368340492, 0.041607871651649475, 0.027250004932284355, -0.032151538878679276, -0.0037116112653166056, 0.04457085579633713, 0.013877171091735363, -0.018282247707247734, 0.007505965419113636, -0.01163129135966301, 0.02182837203145027, -0.05443696677684784, -0.01954309083521366, 0.0256109070032835, -0.010110397823154926, 0.02348323166370392, -0.006556392181664705, -0.035272128880023956, -0.026950553059577942, 0.04999249055981636, 0.008258531801402569, -0.0036584194749593735, -0.02728152461349964, 0.052797868847846985, -0.033317819237709045, 0.02537449821829796, -0.027738582342863083, -0.01002371497452259, -0.051631588488817215, 0.00029181657009758055, 0.01611516997218132, -0.053743500262498856, 0.02064632996916771, 0.004810910206288099, -0.019401246681809425, 0.017399655655026436, -0.02471255511045456, 0.002287250943481922, -0.0455164909362793, -0.03612319752573967, 0.020110471174120903, 0.00617813877761364, 0.027250004932284355, 0.015768438577651978, -0.00047921945224516094, -0.017336614429950714, 0.021229472011327744, -0.00494093494489789, 0.015405945479869843, 0.06446067988872528, -0.029692890122532845, -0.016454022377729416, 0.016012726351618767, 0.007241976447403431, 0.0039322590455412865, 0.06543783843517303, -0.035366691648960114, 0.0126951290294528, 0.0523250512778759, 0.0006752414046786726, -0.011379122734069824, -0.00477544916793704, 0.015374423936009407, 0.0154453469440341, -0.02277400530874729, -0.023577794432640076, -0.040441591292619705, 0.013601361773908138, -0.0047202869318425655, -0.015468987636268139, 0.0015238489722833037, 0.028132595121860504, 0.021402837708592415, 0.001146580558270216, 0.013979614712297916, -0.020063189789652824, 0.016895318403840065, -0.02794346958398819, -0.027691299095749855, -0.0019168778089806437, 6.587420648429543e-05, -0.008077286183834076, 0.008077286183834076, -0.044444773346185684, -0.017777908593416214, 0.028873341158032417, 0.012403558939695358, -0.01859745755791664, 0.000615646771620959, -0.023861484602093697, -0.0006102290935814381, -0.01631217636168003, -0.01981102116405964, 0.005803825333714485, 0.009952791966497898, -0.008282173424959183, -0.02422397769987583, 0.03810902684926987, 0.025090808048844337, -0.04315240681171417, -0.0049566952511668205, 0.013711685314774513, -0.036091677844524384, -0.003319567535072565, -0.025232652202248573, -0.061119444668293, 0.021056104451417923, 0.011095432564616203, -0.0076123494654893875, -0.0014982380671426654, 0.016170332208275795, 0.005165522918105125, 0.006004772614687681, -0.040378548204898834, 0.009275088086724281, -0.01943276822566986, -0.032309144735336304, -0.04059919714927673, 0.02048872597515583, -0.01620185375213623, -0.018298007547855377, 0.04047311097383499, 0.030465157702565193, 0.026651103049516678, -0.026146765798330307, -0.0114894462749362, -0.014956769533455372, -0.03322325646877289, -0.002645803615450859, 0.045169759541749954, -0.004389315377920866, -0.0154453469440341, 0.006300283130258322, -0.025642426684498787, 0.026635343208909035, 0.02715544030070305, 0.0055910577066242695, 0.019338203594088554, -0.01886538788676262, -0.03728947788476944, 0.01598120480775833, -0.015736917033791542, -0.02515384927392006, 0.012364157475531101, 0.022348470985889435, 0.006568212527781725, 0.015736917033791542, 0.024066371843218803, 0.004885772708803415, -0.006481529213488102, 0.06852690130472183, -0.012490241788327694, -0.0038179950788617134, -0.020220795646309853, -0.008621024899184704, -0.0051576425321400166, 0.004515399690717459, -0.016769234091043472, -0.014089938253164291, -0.0015671905130147934, 0.0017050952883437276, 0.031032538041472435, 0.002299071289598942, 0.01714748702943325, 0.00680462084710598, -0.013199467211961746, 0.013877171091735363, -0.026698384433984756, -0.019180599600076675, 0.000806743570137769, 0.013286150060594082, 0.02110338769853115, -0.027139680460095406, -0.06143465265631676, 0.00695828627794981, -0.019606133922934532, -0.012923656962811947, 0.013104903511703014, -0.0012165179941803217, -0.016721950843930244, -0.017604542896151543, 0.016548585146665573, 0.01658010669052601, -0.02583155408501625, 0.030985256657004356, 0.00929872877895832, 0.019290922209620476, -0.038613367825746536, -0.040504634380340576, 0.010882665403187275, 0.029803214594721794, 0.0046927062794566154, -0.010315285064280033, -0.005437392275780439, 0.042395900934934616, -0.001311081345193088, -0.01255328394472599, -0.007797535974532366, 0.05194679647684097, 0.04598930850625038, 0.0329710878431797, -0.00012202119251014665, -0.020220795646309853, 0.0006417502299882472, -0.02304193563759327, -0.046336039900779724, -0.004684825893491507, -0.03016570769250393, -0.020567527040839195, 0.009212045930325985, 0.03940139338374138, -0.017131725326180458, -0.022253908216953278, -0.003524454776197672, -0.048731643706560135, 0.06827473640441895, -0.01132396049797535, -0.0045311604626476765, -0.03071732632815838, 0.046336039900779724, -0.0021040344145148993, 0.02004742994904518, -0.021418597549200058, -0.003219093894585967, 0.007210455369204283, 0.02176533080637455, -0.007939380593597889, -0.014405149966478348, -0.011662812903523445, 0.038266632705926895, 0.039495956152677536, -0.018171923235058784, -0.004227769561111927, 0.03984269127249718, 0.018124641850590706, -0.024681033566594124, 0.0046927062794566154, -0.023073457181453705, -0.025248413905501366, 0.015390184707939625, -0.019464287906885147, 0.04069375991821289, -0.004834550898522139, -0.007852697744965553, -0.0020469024311751127, -0.019574612379074097, 0.035146042704582214, 0.0005609773797914386, -0.019795261323451996, 0.016264894977211952, -0.014137220568954945, -0.028794538229703903, -0.01914907805621624, 0.00823489110916853, 0.0021690467838197947, 0.03134774789214134, -0.02143435925245285, 0.02271096408367157, -0.0031678720843046904, 0.024917442351579666, 0.010583214461803436, -0.018833866342902184, 0.002773858141154051, 0.015122255310416222, 0.01066201739013195, 0.03747860714793205, -0.008085166104137897, -0.011851939372718334, 0.03773077577352524, 0.024696793407201767, -0.04145026579499245, -0.02110338769853115, 0.00959817972034216, -0.0024665272794663906, -0.007297138217836618, -0.006780980154871941, 0.030023861676454544, -0.052072882652282715, -0.007675391621887684, 0.01360924169421196, -0.013223107904195786, 0.0022419393062591553, 0.00556741701439023, 0.014610037207603455, 0.021197950467467308, 0.005070959217846394, -0.033097170293331146, -0.023861484602093697, -0.020725132897496223, 0.00756900804117322, -0.02187565341591835, 0.01018920075148344, 0.020945781841874123, 0.0007525666151195765, 0.007643870543688536, -0.007293198257684708, -0.06279005855321884, -0.047344714403152466, 0.012364157475531101, 0.009527256712317467, 0.014893727377057076, 0.003226974280551076, 0.0022754305973649025, -0.04362522438168526, -0.0010303464950993657, 0.005445272661745548, -0.0027482472360134125, -0.02754945494234562, -0.028684215620160103, 0.0074980854988098145, 0.024334300309419632, 0.02550058253109455, -0.006079635117202997, 0.010559573769569397, -0.025122329592704773, 0.03728947788476944, 0.0340743251144886, -0.007372000720351934, -0.014775522984564304, 0.00012103615881642327, 0.03501996025443077, 0.00915688369423151, -0.01820344477891922, 0.018234964460134506, -0.03328629955649376, -0.011426404118537903, 0.037541650235652924, -0.008100926876068115, -0.024082131683826447, 0.002438946394249797, -0.02838476374745369, -0.024239737540483475, 0.00666671572253108, 0.04041007161140442, 0.030827650800347328, -0.0018902819138020277, 0.00817972980439663, 0.007545366883277893, -0.015295621007680893, -0.018014317378401756, 0.005528015550225973, -0.009732143953442574, -0.020630570128560066, 0.02181261219084263, -0.00464936438947916, -0.013971734791994095, -0.03511452302336693, -0.0005348739214241505, -0.02398756891489029, -0.016721950843930244, -0.0027108159847557545, -0.02009471133351326, 0.0024212156422436237, -0.01222231239080429, 0.007517786230891943, -0.005220684688538313, 0.032088495790958405, 0.017226289957761765, 0.015098614618182182, 0.0022655802313238382, -0.0160521287471056, 0.0013169916346669197, 0.005283726844936609, 0.019889824092388153, -0.008408257737755775, -0.003810114925727248, -0.02972441166639328, -0.018282247707247734, 0.0022833107504993677, 0.0035205145832151175, 0.006201779469847679, -0.028794538229703903, 0.010528052225708961, 0.014759762212634087, 0.0006870618090033531, -0.011757375672459602, 0.013703805394470692, 0.010575334541499615, 0.03027603216469288, 0.031142862513661385, 0.0032210638746619225, -0.005528015550225973, -0.0015356693184003234, -0.015413825400173664, -0.035209085792303085, -0.02800651080906391, -0.014050536789000034, 0.004905473440885544, -0.012592685408890247, 0.02176533080637455, 0.013262509368360043, -0.013711685314774513, 0.02348323166370392, 0.02315226010978222, -0.013404354453086853, -0.011497327126562595, -0.0012716799974441528, 0.018723541870713234, -0.04025246575474739, -0.017210528254508972, 0.004936994519084692, -0.025122329592704773, 0.00588656822219491, 0.005728962831199169, 0.0422067753970623, 0.015799958258867264, -0.011993784457445145, 0.021970218047499657, -0.02893638424575329, -0.01613881066441536, 0.011978023685514927, 0.003225004067644477, 0.014893727377057076, 0.013617121614515781, 0.037100352346897125, 0.015555670484900475, -0.0028703915886580944, -0.010512292385101318, -0.01066201739013195, 0.012624206952750683, 0.014279065653681755, -0.0180300772190094, 0.003073308849707246, -0.011875580064952374, -0.03889705613255501, 0.011568249203264713, 0.014397269114851952, 0.029708651825785637, -0.004089864902198315, 0.0027856784872710705, 0.009377531707286835, -0.03530364856123924, -0.024586470797657967, 0.030827650800347328, 0.00977154541760683, 0.0263831727206707, 0.0017001702217385173, 0.016564346849918365, 0.017777908593416214, -0.040945928543806076, -0.004460237920284271, 0.01179677713662386, 0.018061598762869835, -0.034105848520994186, 0.013412234373390675, 0.024003328755497932, -0.006773099768906832, 0.007360180374234915, 0.027186961844563484, 0.013680163770914078, 0.01389293186366558, -0.017620302736759186, -0.006568212527781725, -0.010291644372045994, 0.041544828563928604, 0.011520967818796635, 0.01675347238779068, 0.008093046024441719, 0.013632882386446, 0.005323128309100866, 0.017856711521744728, -0.0016676640370860696, -0.02983473613858223, 8.218884431698825e-06, 0.03152111545205116, 0.043278492987155914, -0.0020863038953393698, -0.00990551058202982, 0.030323313549160957, 0.001154460827820003, -0.02004742994904518, 0.0028487208765000105, 0.03049667924642563, -0.01585512049496174, -0.01096934825181961, 0.009700623340904713, 0.018298007547855377, 0.03546125441789627, -0.026477737352252007, -0.013900811783969402, 0.020914260298013687, 0.019070275127887726, 0.0031540815252810717, 0.01908603496849537, -0.0029413141310214996, -0.019133316352963448, -0.03073308803141117, 0.012592685408890247, -0.013073382899165154, 0.004156847018748522, -0.026729905977845192, 0.022900089621543884, 0.009779426269233227, -0.012726650573313236, 0.005788065027445555, -0.026367412880063057, 0.0006580032641068101, -0.00993703119456768, 0.02906246855854988, -0.009227806702256203, 0.01346739660948515, -0.006406666710972786, -0.003165902104228735, 0.008002422749996185, -0.040220942348241806, 0.01394021324813366, 0.016895318403840065, 0.0019907555542886257, -0.0033766995184123516, 0.019338203594088554, -0.017462698742747307, -0.004306572489440441, -0.02159196324646473, -0.004870012402534485, -0.004105625208467245, 0.012726650573313236, 0.0340743251144886, -0.014420910738408566, 0.0067770397290587425, 0.0004198710958007723, -0.005776244215667248, 0.0022576998453587294, -0.0045311604626476765, -0.01157613005489111, 0.004822730552405119, -0.0013928392436355352, -0.005795944947749376, -0.013451635837554932, 0.029141271486878395, 0.010323164984583855, 0.016454022377729416, -0.005141881760209799, -0.01675347238779068, 0.008581623435020447, 0.027344567701220512, 0.010118277743458748, -0.016517063602805138, -0.0037017608992755413, 0.004822730552405119, -0.02444462478160858, 0.006063874810934067, -0.004783329088240862, -0.011253038421273232, -0.023672357201576233, 0.02972441166639328, 0.025027764961123466, 0.005587117746472359, 0.009282968938350677, -0.001992725534364581, -0.00015144911594688892, 0.008865313604474068, -0.018628979101777077, -0.0029551046900451183, 0.011954382993280888, 0.028526609763503075, -0.0108275031670928, 0.00477544916793704, -0.021292513236403465, -0.002600491978228092, 0.0083530955016613, -0.011142713949084282, -0.016737712547183037, 0.011150594800710678, -0.021686527878046036, -0.034704748541116714, -0.061812907457351685, 0.011513086967170238, 0.009338130243122578, 0.024003328755497932, -0.0012007574550807476, 0.0042474702931940556, -0.0004516384797170758, -0.015768438577651978, 0.02059904858469963, 0.020252317190170288, 0.03049667924642563, 0.006233300548046827, -0.02104034461081028, -0.00915688369423151, -0.0006412576767615974, -0.014964649453759193, -0.0005329038831405342, -0.010693538002669811, -0.006197839509695768, -0.002746277255937457, -0.0011032390175387263, 0.032655876129865646, -0.01513801608234644, 0.00287236156873405, 0.009204166010022163, 0.012797572650015354, -0.018234964460134506, -0.006079635117202997, 0.0028014390263706446, 0.012710889801383018, 0.008731349371373653, 0.031536877155303955, 0.005531955976039171, 0.011008749715983868, 0.0015514298574998975, 0.03858184441924095, -0.021639246493577957, 0.008526462130248547, 0.01752573996782303, 0.020394161343574524, -0.03801446408033371, -0.007821177132427692, 0.013932333327829838, 0.019574612379074097, 0.004393255338072777, -0.014956769533455372, -0.02677718736231327, -0.03438953682780266, 0.03388519957661629, -0.0360601544380188, 0.015736917033791542, 0.024413103237748146, -0.002982685575261712, 0.04195460304617882, 0.026367412880063057, -0.03306565061211586, 0.004905473440885544, -0.027250004932284355, -0.032261863350868225, 0.01864473894238472, -0.004381434991955757, 0.02526417374610901, 0.015949685126543045, -0.010937826707959175, -0.035366691648960114, -0.00893623661249876, 0.025027764961123466, 0.0031245306599885225, 0.0012362187262624502, -0.012821213342249393, -0.011000868864357471, -0.005937790032476187, 0.013002459891140461, 0.03284500166773796, -0.02371963858604431, -0.001621367409825325, 0.004613903351128101, -0.006950405891984701, 0.030260270461440086, 0.02565818838775158, 0.017336614429950714, 0.003325477708131075, -0.011584009975194931, -0.014436670579016209, 0.0060678147710859776, 0.03568190336227417, -0.019401246681809425, 0.0030910393688827753, -0.010693538002669811, 0.010937826707959175, 0.017462698742747307, -0.016879556700587273, 0.02160772494971752, -0.014736121520400047, -0.011836178600788116, -0.00804576463997364, 0.01780943013727665, 0.02453918755054474, 0.0126399677246809, -0.002961014863103628, -0.02233271114528179, -0.0014056446962058544, -0.02717120200395584, -0.021844133734703064, -0.005047318525612354, 0.009984313510358334, -0.03284500166773796, 0.0014775523450225592, -0.013885051012039185, 0.052797868847846985, 0.019290922209620476, 0.0015297591453418136, 0.048227306455373764, -0.0012509942753240466, -0.010480770841240883, -0.022301189601421356, 0.0151695366948843, 0.0005959460977464914, 0.005165522918105125, -0.0024054551031440496, 0.02159196324646473, -0.014357867650687695, 0.006682476494461298, 0.009346011094748974, 0.0018331498140469193, -0.0074114021845161915, 0.039716605097055435, 0.03379063680768013, 0.02939344011247158, -0.01680075377225876, 0.01976373977959156, -0.030039623379707336, -0.019905583932995796, -0.010567453689873219, -0.01659586653113365, -0.03159991651773453, -0.0051182410679757595, -0.03183632716536522, 0.030591242015361786, 0.015571431256830692, -0.009448454715311527, 0.019290922209620476, 0.0011751465499401093, -0.010953587479889393, -0.009582418948411942, -0.010701418854296207, -0.02983473613858223, -0.0061426772736012936, 0.014097819104790688, 0.003979540895670652, -0.00033047920442186296, 0.030465157702565193, -0.019889824092388153, 0.004271110985428095, -0.01635945960879326, 0.025736991316080093, 0.011851939372718334, -0.03524060547351837, -0.003918468486517668, 0.03596559166908264, -0.023341385647654533, 0.013593480922281742, -0.0042474702931940556, 0.06184442713856697, -0.018234964460134506, 0.013546199537813663, 0.0069031245075166225, 0.008818032220005989, 0.0006269746809266508, -0.0024783476255834103, 0.022900089621543884, -0.012734530493617058, 0.003303806995972991, -0.004475998226553202, 0.027250004932284355, 0.011126954108476639, 0.02143435925245285, 0.03249827027320862, 0.00446811830624938, 0.0013366922503337264, 0.004204128868877888, -0.004357794299721718, -0.008833792991936207, -0.009085961617529392, 0.0013554079923778772, 0.004992156755179167, -0.014941008761525154, 0.008384617045521736, 0.009960672818124294, -0.018660500645637512, -0.006686416454613209, 0.028810299932956696, -0.02014199271798134, 0.013286150060594082, 0.0008737259195186198, 0.02822715975344181, 0.03278195858001709, 0.006808560807257891, 0.017793670296669006, 0.015618712641298771, 0.003004356287419796, -0.0266038216650486, 0.0360601544380188, 0.011142713949084282, 0.01497253030538559, -0.012482361868023872, 0.003508694237098098, -0.028763018548488617, 0.03728947788476944, -0.006186018697917461, -0.009330250322818756, -0.00462178373709321, 0.008526462130248547, -0.0067494590766727924, 0.0018597458256408572, 0.006434247829020023, 0.0033432082273066044, 0.01222231239080429, -0.003142261179164052, -0.006079635117202997, 0.008928355760872364, -0.012868495658040047, -0.005291607230901718, -0.03095373511314392, 0.02515384927392006, 0.009330250322818756, -0.015933923423290253, 0.04564257338643074, 0.023782681673765182, 0.010228602215647697, 0.008463419042527676, -0.008163969032466412, -0.0016095469472929835, 0.022852808237075806, -0.03751012682914734, 0.0055516562424600124, -0.007931500673294067, 0.0015612802235409617, -0.0022399693261832, -0.012632086873054504, -0.024838639423251152, 0.05695865675806999, 0.01936972513794899, -0.021670766174793243, 0.014294825494289398, -0.024838639423251152, -0.010110397823154926, 0.013845649547874928, -0.003323507495224476, 0.005378290545195341, 0.005799885373562574, 0.010268003679811954, 0.02777010202407837, -0.0046808854676783085, -0.0029945059213787317, 0.004771508742123842, 0.006733698304742575, 0.012506002560257912, 0.006453948561102152, -0.0016164422268047929, 0.02081969752907753, 0.0059535508044064045, -0.009645461104810238, 0.012773931957781315, -0.021513162180781364, 0.04671429470181465, 0.0028171997983008623, -0.018282247707247734, -0.019621893763542175, -0.029204312711954117, 0.004866071976721287, 0.006796740461140871, 0.02565818838775158, 0.019826781004667282, 0.0080260643735528, -0.004121385980397463, 0.0543108806014061, 0.0111584747210145, -0.003049667924642563, 0.005575297400355339, -0.02516961097717285, 0.0030772488098591566, 0.004625723697245121, -0.0008486075093969703, -0.007702972739934921, 0.010654137469828129, -0.02064632996916771, -0.015043452382087708, 0.010638376697897911, 0.0019946955144405365, -0.014160861261188984, -0.01054381299763918, -0.0018627009121701121, -0.019227880984544754, 0.00711195170879364, 0.005843226797878742, 0.011150594800710678, 0.024744074791669846, 0.014176622033119202, -0.031536877155303955, 0.02537449821829796, -0.041387226432561874, -0.0032013633754104376, 0.019290922209620476, -0.0076478105038404465, -0.016721950843930244, -0.02906246855854988, -0.032876525074243546, -0.014546995051205158, -0.03300260752439499, 0.02020503580570221, -0.02086697891354561, 0.0019227880984544754, 0.02682446874678135, -0.0007688197074458003, -0.013554079458117485, -0.007072550244629383, -0.010102517902851105, 0.02108762599527836, -0.004113505594432354, -0.03908618167042732, -0.034421056509017944, 0.01188346091657877, -0.0263831727206707, 0.014996170997619629, -0.014649438671767712, -0.01226959377527237, 0.011851939372718334, 0.007198634557425976, -0.003516574390232563, 0.007655690889805555, 0.011126954108476639, 0.002730516716837883, -0.010394087992608547, -0.03356998786330223, -0.0007476414320990443, 0.030796129256486893, 0.02699783630669117, 0.007620229851454496, 0.004578441847115755, 3.629237835411914e-05, 0.007789655588567257, -0.01976373977959156, 0.026619581505656242, -0.035492777824401855, 0.03864488750696182, 0.015342903323471546, 0.00907808169722557, 0.008983517996966839, 0.020677851513028145, 0.025027764961123466, -0.02455494925379753, -0.0170371625572443, -0.011071791872382164, -0.01580783911049366, -0.010906306095421314, 0.016879556700587273, -0.022364230826497078, -0.031253185123205185, 0.006658835802227259, 0.004743928089737892, -0.007056789938360453, 0.03722643852233887, 0.010323164984583855, 0.022521836683154106, -0.005728962831199169, -0.02772282063961029, -0.009007158689200878, -0.029361918568611145, -0.010149799287319183, -0.01375108677893877, -0.0038751270622015, 0.019858302548527718, 0.007541426923125982, -0.01859745755791664, -0.010433489456772804, -0.010929946787655354, 0.00308906938880682, -0.009085961617529392, -0.002614282537251711, -0.002791588893160224, 0.006950405891984701, -0.006580032873898745, 0.005894448608160019, -5.71012387808878e-05, 0.012852734886109829, -0.024964723736047745, 0.018455613404512405, -0.011387002654373646, 0.018786584958434105, 0.020173514261841774, -0.004562681540846825, -0.0017435116460546851, -0.005937790032476187, 0.004078044090420008, -0.0026792949065566063, -0.010598975233733654, -0.03216729685664177, 0.004751808010041714, -0.01255328394472599, -0.016075769439339638, 0.024082131683826447, 0.0029787453822791576, 0.03224610164761543, -0.013814128935337067, -0.007356240414083004, 0.005811705719679594, -0.01037832722067833, -0.03111134096980095, -0.007226215675473213, -0.015626592561602592, -0.006733698304742575, 0.011639172211289406, 0.018171923235058784, -0.01188346091657877, 0.027675539255142212, -0.005461033433675766, 0.045169759541749954, 0.003165902104228735, 0.013372832909226418, -0.01681651547551155, 0.018581697717308998, 0.008676187135279179, -0.025358736515045166, 0.012545404024422169, -0.007257736753672361, -0.011213636957108974, -0.01965341530740261, 0.0032131837215274572, 0.002722636330872774, -0.0007673421641811728, -0.016942599788308144, 0.005929909646511078, -0.026745665818452835, 0.02682446874678135, 0.011387002654373646, -0.0022911911364644766, 0.022001737728714943, -0.017840951681137085, 0.0180300772190094, 0.013790488243103027, 4.694306699093431e-05, 0.001693274942226708, 0.008762869983911514, 0.004109565634280443, -0.02728152461349964, -0.02598915994167328, -0.01780943013727665, 0.008865313604474068, 0.026304371654987335, -0.03344390168786049, 0.026792949065566063, -0.024586470797657967, 0.0029846555553376675, -0.020189274102449417, 0.017289331182837486, -0.044444773346185684, 0.012001664377748966, 0.013514677993953228, -0.003924378659576178, 0.05137941986322403, -0.022443033754825592, 0.0017691225511953235, -0.003258495358750224, -0.007541426923125982, -0.03293956443667412, 0.011024510487914085, -0.004070164170116186, 0.003120590467005968, 0.0037588931154459715, -0.008621024899184704, -0.008140328340232372, 0.010409848764538765, 0.013632882386446, 0.01007099635899067, 0.014381509274244308, -0.04910989850759506, -0.0032703157048672438, 0.001992725534364581, -0.013128544203937054, 0.009850348345935345, 0.016942599788308144, 0.01620185375213623, 0.002369993831962347, -0.0027088457718491554, -0.029346158728003502, -0.0003339268150739372, -0.018581697717308998, -0.0015868911286816, -0.0172578115016222, -0.005390110891312361, 0.0014568665064871311, 0.022364230826497078, 0.0018518655560910702, -0.007655690889805555, 0.0001267001061933115, -0.008723468519747257, -0.007281377445906401, -0.009968552738428116, 0.007395641878247261, -0.01193862222135067, 0.02187565341591835, -0.011544608511030674, 0.007750254124403, 0.014129339717328548, 0.009377531707286835, 0.008274292573332787, -0.003953929990530014, 0.0026162525173276663, -0.00907808169722557, -0.0004772493848577142, -0.027896186336874962, 0.018045838922262192, 0.007210455369204283, 0.005323128309100866, -0.01743117719888687, 0.004499639384448528, 0.020630570128560066, 0.004097744822502136, 0.007702972739934921, -0.0052049243822693825, -0.012316876091063023, 0.019338203594088554, 0.020063189789652824, -0.00271278596483171, -0.006450008135288954, 0.015248339623212814, 0.008006363175809383, 0.041828520596027374, 0.016343697905540466, 0.018282247707247734, 0.006237240508198738, 0.010291644372045994, 0.01196226291358471, -0.0004885772941634059, -0.022001737728714943, -0.013948093168437481, -0.026131004095077515, -0.025626666843891144, -0.01908603496849537, 0.017604542896151543, -0.01002371497452259, 0.006643075030297041, 0.04797513782978058, 0.009290848858654499, -0.03886553645133972, -0.027313046157360077, 0.015327142551541328, -0.008802271448075771, -0.0065406314097344875, 0.02427125908434391, -0.034767791628837585, 0.021182188764214516, 0.0015011931536719203, -0.00711195170879364, 0.02126099169254303, 0.004590262658894062, -0.0072892578318715096, 0.013230987824499607, -0.005457093007862568, 0.012513882480561733, 0.015216818079352379, 0.0066273147240281105, -0.06427155435085297, 0.03128470852971077, 0.015161656774580479, 0.0017454817425459623, -0.002515779109671712, 0.007557187229394913, 0.0004826670920010656, -0.031915128231048584, 0.002338472753763199, -0.021197950467467308, -0.021418597549200058, 0.00238772458396852, -0.004440537188202143, 0.02761249803006649, -0.016075769439339638, 0.009732143953442574, -0.02688751183450222, 0.02754945494234562, -0.01587088219821453, 0.02204902097582817, -0.019180599600076675, -0.010149799287319183, -0.024034850299358368, -0.0006781964912079275, -0.0022695204243063927, -0.04412956163287163, 0.021528922021389008, 0.008754990063607693, -0.04186004027724266, 0.0021966276690363884, 0.017273571342229843, -0.007801475934684277, -0.014184501953423023, -0.009684862568974495, 0.016517063602805138, 0.0061899591237306595, 0.015011930838227272, 0.030985256657004356, -0.0033826096914708614, 0.01798279583454132, 0.004637544043362141, 0.011056031100451946, -0.01675347238779068, 0.01981102116405964, -0.005047318525612354, -0.002255729865282774, -0.012427199631929398, -0.02464951202273369, 0.018676260486245155, 0.03691122680902481, -0.01908603496849537, -0.02537449821829796, 0.03773077577352524, 0.007884219288825989, 0.004696646239608526, -0.0053940508514642715, 0.006713997572660446, -0.023420188575983047, -0.0038258754648268223, -0.01741541549563408, 0.0006673611351288855, -0.011481566354632378, -0.015264100395143032, -0.04230133816599846, 0.016343697905540466, -0.009645461104810238, 0.007659630849957466, 0.005409811623394489, 0.030323313549160957, 0.0011820418294519186, 0.02059904858469963, -0.018628979101777077, 0.020394161343574524, -0.00924356747418642, -0.010055235587060452, -0.019338203594088554, 0.012986699119210243, 0.014665198512375355, 0.01970069669187069, 0.014184501953423023, -0.008573743514716625, 0.009448454715311527, -0.011662812903523445, 0.04740775749087334, 0.02088273875415325, 0.010874784551560879, -0.002653684001415968, -0.015768438577651978, -0.010157679207623005, -0.0331917330622673, -0.018723541870713234, 0.023688118904829025, 0.020504485815763474, -0.00524826580658555, 0.025201132521033287, 0.0009461260051466525, 0.04009485989809036, -0.029424961656332016, -0.00030142065952531993, -0.0057171424850821495, -0.00020673418475780636, -0.02171804942190647, 0.021954456344246864, 0.01970069669187069, 0.02282128669321537, 0.016832275316119194, -0.024082131683826447, 0.017935514450073242, -0.003272285684943199, 0.007340479642152786, 0.014019016176462173, 0.017683345824480057, 0.0010894485749304295, -0.024759836494922638, 0.017888233065605164, -0.01513801608234644, -0.006162378005683422, 0.014121459797024727, 0.0019149077124893665, 0.005370410159230232, 0.010015834122896194, -0.004227769561111927, -0.0038869476411491632, 0.0007594618946313858, 0.016170332208275795, -0.022852808237075806, 0.018298007547855377, 0.0013209317112341523, -0.002799469046294689, 0.004306572489440441, -0.0058274660259485245, 0.003930289298295975, 0.0013130514416843653, -0.0007683272124268115, -0.022632161155343056, 0.005464973393827677, 0.014704599976539612, 0.007604469079524279, 0.01765182428061962, -0.0034003404434770346, -0.0269347932189703, 0.01987406238913536, 0.010275883600115776, 0.0076478105038404465, 0.002645803615450859, -0.009952791966497898, 0.006375145632773638, 0.01037832722067833, -0.003926348872482777, 0.0007560142548754811, -0.04753384366631508, 0.0012037125416100025, -0.0033924600575119257, -0.007513845805078745, -0.0035264247562736273, -0.008416137658059597, -0.005626519210636616, -0.006394846364855766, 0.008762869983911514, -0.0077738952822983265, 0.0005383215611800551, 0.0025807912461459637, 0.0017957185627892613, 0.00899139791727066, -0.0040130321867764, 0.0012273534666746855, -0.021465878933668137, 0.006686416454613209, -0.002468497259542346, 0.007171053905040026, 0.0009884824976325035, 0.012789692729711533, -0.014925247989594936, -0.020189274102449417, -0.018581697717308998, 0.041387226432561874, -0.02282128669321537, -0.008644665591418743, 0.013688044622540474, -0.0017021402018144727, 0.003794354386627674, 0.0016233373899012804, 0.026414694264531136, -0.012939417734742165, 0.01730509288609028, -0.0027777983341366053, 0.002470467472448945, -0.009913390502333641, 0.0028960024937987328, 0.0016095469472929835, 0.010756581090390682, -0.0219859778881073, -0.005910209380090237, 0.02242727391421795, -0.002783708507195115, -0.02209630236029625, 0.0007949231076054275, 0.006816441193223, 0.0014125399757176638, -0.00837673619389534, 0.0036426589358597994, -0.011702214367687702, -0.008250651881098747, -0.00047872692812234163, -0.017289331182837486, -0.009732143953442574, -0.010275883600115776, -0.0034752029459923506, -0.006745518650859594, -0.007683272007852793, -0.003871187102049589, -0.014491832815110683, 0.0010441369377076626, 0.006997687742114067, 0.008983517996966839, 0.013569840230047703, 0.007182874251157045, 0.0007358210277743638, -0.022001737728714943, -0.018676260486245155, 0.01238779816776514, 0.010165560059249401, 0.005051258951425552, -0.02003166824579239, -0.00340231042355299, -0.020283836871385574, -0.0015297591453418136, -0.002050842624157667, -0.011804657988250256, -0.013727446086704731, -0.017462698742747307, -0.011410643346607685, -0.00604023365303874, 0.009251447394490242, -0.0043302131816744804, -0.0006397801334969699, 0.009369651786983013, -0.011221516877412796, -0.010157679207623005, 0.006713997572660446, -0.0031067999079823494, -0.0006117066368460655, 0.006237240508198738, 0.0025177490897476673, -0.003378669498488307, 0.007147412747144699, -0.00014135250239633024, -0.024082131683826447, -0.013790488243103027, -0.0031127100810408592, 0.008526462130248547, -0.014617917127907276, -0.009590299800038338, 0.0172578115016222, -0.02343594841659069, -0.0049172937870025635, -0.0015987115912139416, -0.011079671792685986, 0.005334948655217886, 0.002525629475712776, 0.007553247269243002, -0.007143472786992788, -0.010890545323491096, 0.0034968736581504345, 0.014405149966478348, 0.004338093567639589, 0.025973398238420486, -0.024570709094405174, 0.01519317738711834, 0.01970069669187069, -0.014941008761525154, -0.0034968736581504345, -0.0017366164829581976, -0.007840877398848534, -0.006201779469847679, 0.017005641013383865, 0.013199467211961746, 0.01453123427927494, -0.0338536761701107, 0.01394021324813366, 0.002535479608923197, -0.0148385651409626, 0.0006954346317797899, -0.009093841537833214, 0.0013012310955673456, 0.020078949630260468, -0.0008358020568266511, -0.020457204431295395, -0.017730627208948135, -0.013041861355304718, -0.007285317871719599, 0.007186814211308956, -0.04857403784990311, -0.020015908405184746, 0.0031698420643806458, -0.002888122107833624, 0.007793596014380455, -0.015863001346588135, 0.015461106784641743, 0.0010392117546871305, -0.005910209380090237, 0.008195489645004272, -0.015665994957089424, 0.002369993831962347, -0.0340743251144886, 0.008337334729731083, -0.015019811689853668, -0.0052797868847846985, 0.0006796740344725549, 0.008187609724700451, 0.009448454715311527, 0.023073457181453705, 0.011836178600788116, 0.008731349371373653, 0.006071754731237888, -0.02420821599662304, 0.02559514530003071, -0.0024409163743257523, -0.018944190815091133, -0.011363361962139606, 0.012781811878085136, -0.034547142684459686, 0.02037840150296688, 0.015264100395143032, 0.008329454809427261, -0.022175105288624763, 0.004235649947077036, 0.021229472011327744, 0.025453301146626472, -0.02732880786061287, 0.0038869476411491632, -0.017494218423962593, -0.010149799287319183, -0.002537449821829796, 0.008049705065786839, 0.018849626183509827, -0.0305597223341465, 0.004527220036834478, -0.009842468425631523, -0.00023320699983742088, -0.014137220568954945, 0.003983480855822563, 1.6637854059808888e-05, -0.003979540895670652, 0.020189274102449417, 0.0213240347802639, 0.023168019950389862, 0.0256109070032835, 0.008108806796371937, -0.013853530399501324, -0.014468192122876644, -0.007470504380762577, -0.0130261005833745, 0.004684825893491507, 0.030354835093021393, 0.014286945573985577, 0.0019858302548527718, 0.02382996305823326, -0.017951276153326035, -0.01635945960879326, 0.02104034461081028, -0.010110397823154926, -0.0062648216262459755, -0.005074899643659592, 0.00977154541760683, -0.0026261028833687305, -0.005055198911577463, 0.006316043436527252, 0.011056031100451946, -0.007777835242450237, -0.010575334541499615, -0.0029807155951857567, -0.0017641974845901132, -0.01527986116707325, -0.006249061319977045, -0.013483157381415367, 0.014791283756494522, 0.0034062506165355444, -0.016454022377729416, 0.010646256618201733, 0.0030240570195019245, -0.009188405238091946, 0.01743117719888687, 0.015729036182165146, -0.034200411289930344, -0.0022301189601421356, 0.01578419841825962, -0.018739303573966026, 0.0072616771794855595, 0.0025098687037825584, -0.003500813851132989, -0.01875506341457367, -0.005922029726207256, 0.0055555966682732105, -0.02249031513929367, -0.028810299932956696, 0.0040090917609632015, 0.00651305029168725, 0.004858192056417465, 0.006962226238101721, -0.02154468186199665, -0.007781775202602148, -0.003908618353307247, 0.0016883497592061758, 0.0025709408801048994, -0.0016282625729218125, -0.00616631843149662, -0.0031245306599885225, -0.007797535974532366, -0.01965341530740261, 0.01208046730607748, -0.002172986976802349, -3.4291526390006766e-05, -0.009448454715311527, -0.011536728590726852, -0.00323682464659214, -0.017273571342229843, -0.00401697214692831, 0.022080540657043457, -0.0316629596054554, -0.009992193430662155, -0.009030799381434917, -0.016123050823807716, 0.022364230826497078, 0.00665095541626215, -0.019952865317463875, -0.00496851559728384, -0.022411512210965157, -0.015547790564596653, 0.013349192216992378, -2.7996537028229795e-05, 0.006260881666094065, 0.010252242907881737, -0.014003255404531956, -0.02805379219353199, -0.014799163676798344, -0.005173403304070234, 0.006591853220015764, 0.0176991056650877, -0.034421056509017944, -0.013435875065624714, -0.006887363735586405, -0.017052924260497093, -0.0020685731433331966, 0.0019168778089806437, 0.03379063680768013, -0.010559573769569397, 0.007943321019411087, -0.002773858141154051, 0.007628109771758318, -0.013388593681156635, 0.010717179626226425, -0.007490205112844706, 7.21845844964264e-06, 0.0021848073229193687, 0.012340516783297062, -0.019558852538466454, -0.02945648320019245, -0.00494093494489789, -0.004385375417768955, 0.0016410680254921317, -0.007576887961477041, 0.007438983302563429, -0.015319261699914932, 0.0009170674602501094, -0.012088348157703876, 0.0021907174959778786, 0.00317969243042171, 0.028242919594049454, 0.015484748408198357, 0.016233375295996666, -0.006844022311270237, -0.008360975421965122, -0.01892842911183834, 0.008597384206950665, 0.027864666655659676, 0.005925969686359167, -0.021576203405857086, -0.013033981435000896, -0.013885051012039185, -0.020441442728042603, -0.014145100489258766, 0.009613940492272377, -0.006552451755851507, -0.011978023685514927, -0.016674669459462166, 0.01280545350164175, -0.01881810650229454, -0.01179677713662386, -0.037163395434617996, -0.028967905789613724, -0.014665198512375355, -0.014948888681828976, 0.013120664283633232, 0.013128544203937054, 0.019007232040166855, -0.016217613592743874, 0.02242727391421795, -0.005945670418441296, -0.009022919461131096, 0.00929872877895832, 0.00201144115999341, -0.007639930583536625, 0.014641557820141315, -0.028400525450706482, 0.022001737728714943, -0.0045705619268119335, -0.0067494590766727924, -0.008818032220005989, -0.0067415786907076836, -0.004653304815292358, -0.029125509783625603, 0.0021060046274214983, -0.0027167261578142643, -0.023577794432640076, 0.01741541549563408, 0.003884977428242564, 0.037888381630182266, -0.006840081885457039, -0.0010549722937867045, -0.008762869983911514, 0.003615077817812562, 0.0018991471733897924, -0.0032289442606270313, 0.014736121520400047, -0.013199467211961746, -0.016769234091043472, -0.009669101797044277, -0.0007954156608320773, -0.0007171054021455348, -0.008408257737755775, -0.01981102116405964, -0.005303427577018738, 0.0005127106560394168, 0.027628257870674133, 0.011394883506000042, -0.015658114105463028, 0.002637923462316394, -0.007025268394500017, 0.010220721364021301, -0.004944874905049801, 0.03533517196774483, -0.004145026672631502, 0.02816411666572094, 0.006576092913746834, -0.009944912046194077, 0.005303427577018738, -0.005618638824671507, -0.007805416360497475, 0.01826648600399494, -0.0034811131190508604, -0.011615530587732792, 0.015736917033791542, -0.046903420239686966, 0.012450840324163437, -0.004271110985428095, -0.02444462478160858, -0.018077360466122627, 0.008313694037497044, -0.010953587479889393, -0.015602951869368553, 0.01085114385932684, 0.009282968938350677, -0.002738396869972348, -0.0025945818051695824, -0.005524075590074062, 0.0015317292418330908, 0.004357794299721718, -0.041324183344841, 0.013010340742766857, 0.010173439979553223, 0.044003475457429886, -0.013065502047538757, 0.010000074282288551, -0.02088273875415325, -0.00339640025049448, -0.004613903351128101, -0.004893653094768524, 0.01664314977824688, 0.0018597458256408572, 0.006993747316300869, 0.027360327541828156, 0.0006816441309638321, -0.0037628330755978823, 0.015665994957089424, 0.0030023863073438406, 0.010457130149006844, 0.008266412653028965, -0.009818827733397484, 0.006288462318480015, -0.01174949575215578, -0.003126500640064478, -0.006552451755851507, 0.019338203594088554, 0.013617121614515781, 0.015468987636268139, -0.02337290719151497, -0.005457093007862568, 0.017336614429950714, 0.0068243215791881084, 0.007241976447403431, -0.013814128935337067, 0.019275162369012833, -0.02394028753042221, 0.004535100422799587, 0.012892136350274086, 4.9128611863125116e-05, -0.014933128841221333, 0.00977154541760683, 0.00821125041693449, -0.0018774764612317085, 0.01741541549563408, 0.00045557861449196935, -0.016343697905540466, 0.01620185375213623, 0.017115965485572815, 0.001451941323466599, 0.0024290960282087326, -0.0019996208138763905, -0.0015376394148916006, -0.005851107183843851, -0.003622958203777671, -0.004964575637131929, 0.0019996208138763905, -0.006855842657387257, 0.014428790658712387, -0.00416078744456172, -0.002096154261380434, 0.01919635944068432, -0.015595071949064732, -0.006048114039003849, -0.00572108244523406, -0.020000148564577103, -0.005780184641480446, 0.008597384206950665, -0.002454706933349371, -0.005023677833378315, 0.0036741800140589476, 0.007797535974532366, 0.0005230535170994699, 0.03084341064095497, 0.012789692729711533, -0.0012677398044615984, 0.0017838981002569199, -0.024791358038783073, 0.0033550288062542677, -0.004676945507526398, -0.0111584747210145, 0.0005491569172590971, -0.0038869476411491632, -0.018896909430623055, 0.0017346463864669204, -0.007726613432168961, 0.005618638824671507, 0.010472890920937061, -0.007990602403879166, 0.016012726351618767, -0.008731349371373653, -0.0054137515835464, -0.004377495031803846, 0.0006580032641068101, -0.014294825494289398, 0.006253001280128956, -0.014137220568954945, -0.007588708773255348, 0.005244325380772352, -0.00955089833587408, -0.005019737407565117, -0.011253038421273232, -0.012545404024422169, -0.010260122828185558, 0.022395752370357513, 0.000777685025241226, 0.001915892818942666, -0.0033313878811895847, -0.012836974114179611, -0.02014199271798134, -0.017903992906212807, -0.0020075009670108557, 0.031016778200864792, 0.006930705159902573, 0.01932244375348091, -0.009472095407545567, -0.01631217636168003, -0.01870778203010559, -0.0005885583232156932, 0.010882665403187275, -0.013695924542844296, 0.011560369282960892, -0.006524871103465557, 0.03889705613255501, -0.02321530133485794, -0.008203370496630669, -0.00929872877895832, -0.008857433684170246, -0.010307405143976212, 0.015216818079352379, -0.010780221782624722, 0.02275824546813965, -0.02009471133351326, -0.002663534367457032, -0.0019355935510247946, -0.008699827827513218, -0.005697441753000021, -0.020835457369685173, -0.003362908959388733, -0.004676945507526398, -0.001444061053916812, -0.0225375983864069, 0.02455494925379753, 0.006847962271422148, -0.014791283756494522, 0.010307405143976212, -0.008754990063607693, 0.012986699119210243, 0.009377531707286835, 0.004365674685686827, 0.0006358399987220764, 0.025642426684498787, -0.02137131616473198, 0.011828298680484295, 0.022112062200903893, 0.0308906938880682, 0.0007781775202602148, -0.0340743251144886, -0.01177313644438982, 0.005130061414092779, 0.01311278436332941, 0.005102480761706829, 0.01391657255589962, 0.016099410131573677, -0.00990551058202982, 0.0029235833790153265, 0.0006072740070521832, -0.0225375983864069, -0.007529606577008963, -0.007041029166430235, 0.02009471133351326, -0.005374350119382143, -0.00020008521096315235, 0.001292365719564259, -0.011339721269905567, -0.001571130589582026, 0.01196226291358471, 0.011899220757186413, -0.003593407105654478, -0.002653684001415968, 0.005220684688538313, 0.004054403398185968, -0.0104965316131711, 0.023309864103794098, 0.005583177786320448, 0.0020449324510991573, 0.0012017425615340471, 0.010338925756514072, 0.01130031980574131, 0.026651103049516678, 0.015405945479869843, -0.009109602309763432, 0.005756543483585119, -0.012600566260516644, 0.011095432564616203, -0.005728962831199169, 0.002535479608923197, 0.018439851701259613, 0.01692683808505535, 0.008494940586388111, 0.012734530493617058, -0.0061899591237306595, 0.003516574390232563, 0.0031540815252810717, -0.012758171185851097, 0.01886538788676262, -0.018786584958434105, -0.03227762132883072, 0.01741541549563408, -0.0130261005833745, 0.01598120480775833, -0.005177343264222145, -0.0063475645147264, 0.004992156755179167, -0.0009121422772295773, -0.015208938159048557, -0.00695828627794981, 0.005985071882605553, 0.00449569895863533, -0.017746388912200928, 0.006237240508198738, 0.012277474626898766, -0.0038889176212251186, 0.013869291171431541, -0.011371242813766003, 0.014137220568954945, 0.022506076842546463, -0.014042656868696213, -0.02849508821964264, -0.0026024621911346912, 0.004992156755179167, -0.0036978209391236305, -0.00604023365303874, 0.0052797868847846985, -0.004755748435854912, 0.007533546537160873, 0.011063911952078342, -0.013349192216992378, -0.0019099826458841562, 0.00634362455457449, 0.0048069702461361885, 0.005331008695065975, 0.0182507261633873, -0.023640837520360947, -0.019448528066277504, 0.025673948228359222, 0.0006525855860672891, 0.014570635743439198, 0.0007732523372396827, 0.03883401304483414, -0.013199467211961746, 0.012789692729711533, -0.007663571275770664, -0.010441369377076626, -0.014964649453759193, 0.0034200409427285194, 0.0133019108325243, -0.00462178373709321, -0.010449250228703022, -0.0016410680254921317, -0.004349913913756609, 0.022080540657043457, 0.01018920075148344, -0.007635990157723427, -0.010118277743458748, -0.001117029576562345, 0.0025335096288472414, -0.005098540335893631, 7.024529622867703e-05, 0.0037194916512817144, 0.005362529773265123, -0.0167061910033226, -0.015082853846251965, 0.0044444771483540535, -0.01282909419387579, -0.005453153047710657, -0.018628979101777077, 0.0017179007409140468, 0.018329529091715813, 0.0029019126668572426, -3.1282552299671806e-06, -0.001483462518081069, -0.008865313604474068, 0.01535866316407919, 0.013593480922281742, -0.01130031980574131, 0.013601361773908138, -0.00959817972034216, -0.01635945960879326, -0.017210528254508972, -0.020835457369685173, -0.0014982380671426654, -0.0076517509296536446, -0.013569840230047703, -0.003234854433685541, -0.029015187174081802, 0.010220721364021301, 0.008258531801402569, -0.0002999431162606925, 0.006954346317797899, 0.017636064440011978, -0.021182188764214516, 0.023231061175465584, 0.003760863095521927, -0.01394021324813366, 0.014594276435673237, -0.005933850072324276, -0.01981102116405964, 0.0016765292966738343, 0.012419319711625576, 0.020504485815763474, 0.002789618680253625, 0.0033747295383363962, -0.013270389288663864, 0.040441591292619705, -0.014933128841221333, 0.020409923046827316, -0.012679368257522583, 0.0047675687819719315, 0.009227806702256203, -0.007505965419113636, -0.0034279213286936283, 0.0004784806806128472, -0.004617843311280012, -0.004184428136795759, 0.013506798073649406, 0.009479975327849388, 0.010748700238764286, -0.01391657255589962, 0.02193869650363922, -0.0009584389044903219, -0.022837048396468163, 0.019401246681809425, 0.004598142579197884, -0.014562754891812801, 0.046840377151966095, -0.02537449821829796, 0.010788101702928543, 0.004936994519084692, -0.0028644814155995846, 0.013152185827493668, -0.0015258189523592591, -0.006422427482903004, -0.0033688191324472427, -0.0027088457718491554, -0.019826781004667282, -0.007754194550216198, 0.0167061910033226, 0.0009131273254752159, 0.00378450402058661, 0.001337677356787026, 0.02086697891354561, -0.01007887627929449, -0.01848713494837284, -0.015201058238744736, -8.51131699164398e-06, -0.002767947968095541, -0.007403521798551083, 0.021292513236403465, 0.0008786511025391519, 0.019732218235731125, 0.003599317278712988, -0.02148164063692093, 0.02115066908299923, -0.005374350119382143, 0.006580032873898745, 0.004838491324335337, -0.011765256524085999, 0.006363325286656618, 0.0025335096288472414, -0.017179008573293686, 0.01196226291358471, -0.011497327126562595, 0.0032131837215274572, -0.026950553059577942, -0.005571356974542141, 0.002608372364193201, -0.002237999113276601, -0.01837681047618389, -0.02154468186199665, -0.0054689133539795876, 0.0216550063341856, 0.03791990131139755, -0.013648643158376217, -0.001127864932641387, 0.033475425094366074, -0.008502820506691933, 0.008065465837717056, -0.007029208820313215, -0.012442960403859615, -0.0067770397290587425, 0.02332562580704689, -0.021859893575310707, 0.0027088457718491554, -0.008684067055583, -0.011063911952078342, 0.015823600813746452, 0.001637127948924899, 0.010055235587060452, 0.010480770841240883, 0.01174161583185196, -0.0020981242414563894, -0.0083530955016613, 0.00022015528520569205, 0.009227806702256203, 0.013672283850610256, -0.0034436818677932024, 0.0012864555465057492, -0.0013898841571062803, -0.006410606671124697, -0.014712480828166008, -0.028652694076299667, -0.016958359628915787, 0.0035973472986370325, -0.009416933171451092, 0.014357867650687695, -0.042837195098400116, -0.016217613592743874, -0.008983517996966839, -0.030465157702565193, -0.0034870232921093702, 0.005894448608160019, 0.003684030380100012, 0.008605264127254486, 0.012033185921609402, 0.011434284970164299, -0.010126158595085144, 0.01658010669052601, -0.002722636330872774, 0.0025709408801048994, -0.0013524529058486223, -0.022175105288624763, 0.007482324726879597, 0.006997687742114067, -0.003240764606744051, -0.018849626183509827, -0.009149003773927689, 0.01959037408232689, -0.01892842911183834, 0.007868458516895771, -0.007159233558923006, -0.007009508088231087, -0.0021907174959778786, 0.0013150215381756425, -0.005153702571988106, 0.005937790032476187, -0.03747860714793205, 0.037541650235652924, 0.005756543483585119, 0.033097170293331146, -0.012364157475531101, 0.008274292573332787, 0.0054807341657578945, 0.00926720816642046, -0.007308958563953638, -0.0057171424850821495, -0.02811683528125286, 0.01235627755522728, -0.0033215375151485205, 0.013388593681156635, 0.02671414613723755, 0.004988216329365969, -0.05191527679562569, 0.02088273875415325, -0.029377680271863937, 0.0027482472360134125, -0.0012066677445545793, -0.004121385980397463, 0.008297933265566826, 0.005110360682010651, 0.0028861521277576685, 0.01752573996782303, 0.010299524292349815, -0.010528052225708961, -0.00617813877761364, -0.004728167317807674, -0.027123920619487762, -0.010606855154037476, -0.011182115413248539, 0.0133019108325243, -0.013309790752828121, -0.0032900164369493723, 0.007423222530633211, -0.006520930677652359, -0.017667585983872414, 0.0269347932189703, 0.004980336409062147, 0.0006427352200262249, 0.013963853940367699, 0.012907897122204304, 0.00527190649881959, -0.009251447394490242, 0.0023601434659212828, 0.004054403398185968, 0.009684862568974495, 0.005386170465499163, 0.033380862325429916, 0.00048636095016263425, -0.004141086712479591, 0.0005260086036287248, -0.015106494538486004, -0.0031993931625038385, 0.011978023685514927, -0.00011937391536775976, 0.0018035988323390484, 0.0023680238518863916, -0.005023677833378315, 0.0130261005833745, -0.015350783243775368, -0.0010224662255495787, 0.005803825333714485, -0.00317969243042171, -0.0003969690587837249, -0.0023443829268217087, 0.017289331182837486, -0.0036268983967602253, 0.00017693688278086483, -0.01798279583454132, -0.007974842563271523, -0.0040465230122208595, -0.028967905789613724, -0.004889713134616613, -0.004101685248315334, -0.0004400643229018897, 0.0055161952041089535, 0.0014322407077997923, -0.02121371030807495, -0.0008850538288243115, -0.034736268222332, -0.008557982742786407, -0.007706912700086832, -0.004984276369214058, 0.00932236947119236, 0.0012894106330350041, -0.0034594424068927765, -0.004204128868877888, 0.0008486075093969703, -0.016989881172776222, -0.0040938048623502254, 0.0014007195131853223, 0.005902328994125128, -0.020835457369685173, -0.002072513336315751, -0.0013238867977634072, 0.007742374204099178, -0.006658835802227259, 0.02370387874543667, -0.012923656962811947, 0.009275088086724281, 0.009212045930325985, 0.011008749715983868, -0.009479975327849388, -0.014342107810080051, -0.004783329088240862, -0.022190865129232407, 0.01741541549563408, -0.010197080671787262, 0.004728167317807674, -0.020677851513028145, 0.00033909824560396373, -0.0007934455643408, -0.02649349719285965, 0.009235686622560024, -0.017289331182837486, -0.014011136256158352, 0.011245157569646835, 0.00877075083553791, 0.023120738565921783, -0.0004203636199235916, -0.017636064440011978, 0.0028487208765000105, -0.02471255511045456, 0.008368856273591518, -0.0010411818511784077, -0.009054440073668957, -0.011040270328521729, 0.0033707893453538418, -0.004164727404713631, -0.002186777302995324, -0.0027265765238553286, 0.014641557820141315, 0.004594202619045973, -0.004676945507526398, -0.0002743322111200541, 0.009582418948411942, -0.01066201739013195, -0.021513162180781364, 0.008439778350293636, 0.0046927062794566154, 0.00727743748575449, 0.01567387394607067, 0.01798279583454132, 0.017856711521744728, 0.006623374298214912, -0.021686527878046036, -0.001345557626336813, -0.014491832815110683, -0.01224595308303833, 0.012679368257522583, -0.0130261005833745, -0.0008042809786275029, -0.01754150167107582, 0.004866071976721287, 0.0009963627671822906, -0.0061505576595664024, 0.015996966511011124, -0.01875506341457367, 0.014546995051205158, 0.013932333327829838, 0.00974002480506897, -0.012064706534147263, 0.015398064628243446, 0.03205697610974312, 0.0002903390268329531, 0.0010027654934674501, -0.0256109070032835, -0.009007158689200878, -0.0038258754648268223, 0.001563250320032239, -0.009085961617529392, -0.031079819425940514, -0.032529789954423904, 0.007777835242450237, -0.028763018548488617, 0.0083530955016613, 0.004704526625573635, -0.0266038216650486, 0.016911078244447708, -0.0013948093401268125, -0.015878761187195778, -0.012900016270577908, -0.0019021022599190474, -0.011426404118537903, 0.002959044650197029, 0.00030191318364813924, -0.021071866154670715, -0.004322332795709372, 0.011316080577671528, 0.0057171424850821495, 0.020110471174120903, 0.02249031513929367, -0.01664314977824688, -0.02466527372598648, -0.02906246855854988, -0.009259327314794064, -0.007068610284477472, -0.0016647089505568147, 0.014003255404531956, 0.0009830647613853216, -0.02282128669321537, -0.004357794299721718, -0.0017267661169171333, 0.0321042574942112, -0.0031284706201404333, 0.0031304408330470324, -0.0006575107690878212, 0.02370387874543667, -0.010567453689873219, -0.007710852660238743, 0.01602848805487156, 0.005701381713151932, -0.021418597549200058, 0.007257736753672361, -0.0029255535919219255, -0.024948962032794952, 0.0016144721303135157, 0.011387002654373646, -0.0005895433714613318, 0.0001385205250699073, 0.024397343397140503, -3.5430472053121775e-05, 0.019716458395123482, -0.001127864932641387, 0.01486220583319664, -0.015398064628243446, -0.011048151180148125, 0.012230193242430687, 0.004227769561111927, 0.006335744168609381, -0.017005641013383865, -0.00946421455591917, 0.011402763426303864, 0.0013465426163747907, -0.008065465837717056, 0.0053191883489489555, 0.012592685408890247, 0.028463566675782204, -0.007482324726879597, -0.009141123853623867, -0.00034303838037885725, 0.01280545350164175, 0.0021237351465970278, 0.0075256661511957645, 0.005725022405385971, 0.006245120894163847, 0.024239737540483475, 0.015256219543516636, 0.009259327314794064, -0.005760483909398317, 0.017352374270558357, 0.001892252010293305, -0.002436976181343198, 0.014523354358971119, 0.030134186148643494, 0.0019759798888117075, -0.025453301146626472, 0.008258531801402569, 0.007399581838399172, 0.011063911952078342, 0.011836178600788116, 3.539969111443497e-05, 0.015019811689853668, 0.014744001440703869, 0.007533546537160873, 0.008408257737755775, -0.022190865129232407, -0.00955089833587408, -0.007848757319152355, 0.023388667032122612, 0.014499712735414505, -0.01004735566675663, 0.014349987730383873, -0.014964649453759193, 0.003656449494883418, 0.007655690889805555, 0.02427125908434391, 0.00023960972612258047, -0.021056104451417923, 0.004810910206288099, -0.018802344799041748, -0.004121385980397463, 0.0049172937870025635, 0.0037904141936451197, 0.006020532920956612, -0.023246822878718376, -0.013459516689181328, -0.019621893763542175, 0.004743928089737892, 0.01513801608234644, 0.016958359628915787, 0.006623374298214912, 0.0015829510521143675, -0.009093841537833214, 0.02877877838909626, -0.005740783177316189, -0.012056826613843441, 0.016848037019371986, -0.025185370817780495, 0.010961468331515789, -0.014074178412556648, 0.009850348345935345, -0.011071791872382164, 0.007635990157723427, 0.006355444900691509, -0.01271876972168684, -0.002332562580704689, 0.015933923423290253, -0.021402837708592415, -0.016083648428320885, 0.012931537814438343, -0.010480770841240883, 0.0018843717407435179, -0.0009943926706910133, -0.010346806608140469, 0.01455487497150898, 0.017951276153326035, 0.009692743420600891, -0.009889749810099602, -0.002100094221532345, -0.016186092048883438, -0.011654932051897049, -0.016264894977211952, -0.009637581184506416, -0.004684825893491507, -0.018676260486245155, -0.0017740477342158556, -0.0037510127294808626, -0.0011603711172938347, 0.002951164497062564, 0.007517786230891943, 0.004948815330862999, 0.007407462224364281, -0.015910282731056213, -0.0074114021845161915, 0.0034673227928578854, 0.0008387572015635669, 0.012064706534147263, -0.012285354547202587, -0.004755748435854912, 0.020614810287952423, -0.008313694037497044, -0.008171848952770233, 0.0029787453822791576, -0.006390905939042568, -0.004038643091917038, -0.01488584652543068, 0.011221516877412796, -0.01563447341322899, -0.007001627702265978, 0.02945648320019245, -0.004440537188202143, 0.0037864740006625652, 0.008274292573332787, 0.0262728501111269, 0.005177343264222145, 0.00217101676389575, -0.004736047703772783, -0.025469060987234116, -0.00959817972034216, 0.0040465230122208595, 0.009054440073668957, 0.008747109211981297, 0.011647052131593227, 0.005858987104147673, 0.013065502047538757, 3.6261597415432334e-05, 0.011331841349601746, 0.013672283850610256, 0.006138737313449383, 0.0002802424132823944, 0.013593480922281742, 0.010307405143976212, 0.0015721155796200037, 0.021355556324124336, -0.02143435925245285, 0.002362113678827882, -0.008345215581357479, 0.010575334541499615, 0.027974989265203476, -0.002637923462316394, -0.016611628234386444, 0.004499639384448528, -0.01776214875280857, -0.013735326007008553, 0.03156839683651924, -0.00446811830624938, -0.013207347132265568, 0.0012588745448738337, 0.009558778256177902, 0.00400712201371789, 0.013877171091735363, -0.01567387394607067, -0.005894448608160019, -0.01513801608234644, -0.014160861261188984, -0.014948888681828976, 0.011678573675453663, 0.002050842624157667, 0.011647052131593227, 0.004005151800811291, 0.01163129135966301, -0.003926348872482777, 0.0018774764612317085, -0.00012195963063277304, -0.009543017484247684, 0.024460386484861374, 0.003794354386627674, -0.0023502930998802185, -0.005760483909398317, 3.210598151781596e-05, -0.02565818838775158, 0.009070200845599174, -0.0007067624828778207, 0.018124641850590706, -0.005807765293866396, -0.03936987370252609, 0.0030792190227657557, 0.0025335096288472414, 0.010173439979553223, 0.021119147539138794, -0.01035468652844429, -0.020441442728042603, -0.008266412653028965, -0.006528811063617468, 0.007017388474196196, -0.009519376792013645, -0.019070275127887726, 0.0007653720676898956, -0.01642250083386898, 0.004298692103475332, 0.016658909618854523, -0.022316949442029, 0.06033141538500786, -0.02327834442257881, -0.021670766174793243, 0.011623411439359188, 0.02332562580704689, 0.0005846181884407997, 0.0025216892827302217, -0.00879439152777195, 0.010228602215647697, 0.010338925756514072, -0.0015159687027335167, 0.003394430037587881, -0.001218488090671599, -0.004318392835557461, 0.003752982709556818, 0.016784993931651115, -0.002813259605318308, -0.007044969126582146, -0.014089938253164291, 0.0029767754022032022, -0.00016191510076168925, 0.02422397769987583, -0.014476072043180466, -0.01993710547685623, -0.017446937039494514, 0.013427995145320892, -0.0067376382648944855, -0.024980483576655388, 0.022805526852607727, -0.013924452476203442, -0.010118277743458748, -0.0154453469440341, 0.0013229018077254295, 0.012655727565288544, 0.032876525074243546, -0.0033510886132717133, -0.004578441847115755, 0.009038680233061314, -0.010740820318460464, -0.005949610378593206, 0.00741534261032939, -0.0213240347802639, -0.012316876091063023, 0.01686379685997963, -0.0362808033823967, -0.01921211928129196, -0.006505170371383429, -0.015571431256830692, -0.034105848520994186, -0.014121459797024727, 0.02493320219218731, 0.006355444900691509, -0.037037309259176254, -0.01826648600399494, -0.005918089300394058, -0.0036367487628012896, 0.007608409039676189, 0.014089938253164291, 0.004858192056417465, 0.00481485016644001, 0.006122976541519165, -0.004231709521263838, -0.004609962925314903, -0.00851858127862215, -0.03779381886124611, 0.036154720932245255, -0.015405945479869843, -0.002897972473874688, 0.003226974280551076, 0.02910974994301796, 0.030023861676454544, -0.0004683840670622885, -0.019527330994606018, -0.011308199726045132, -0.017793670296669006, 0.0012283384567126632, 0.008557982742786407, -0.008124567568302155, -0.008384617045521736, -0.015437466092407703, 0.005583177786320448, -0.007840877398848534, -0.03646992892026901, -0.006966166663914919, 0.0038869476411491632, 0.013506798073649406, 1.1812722959803068e-06, -0.020677851513028145, -0.0025216892827302217, -0.009669101797044277, 0.015579311177134514, -0.007301078177988529, -0.01255328394472599, 0.01664314977824688, 0.005996892228722572, 0.003280166070908308, -0.0017395715694874525, 0.0005117256077937782, -0.008621024899184704, 0.0018636859022080898, 0.010598975233733654, 0.002462587086483836, 0.007186814211308956, -0.01908603496849537, -0.017777908593416214, -0.011119073256850243, -0.003012236673384905, -0.0015484747709706426, -0.0015041482402011752, 0.008896835148334503, 0.005594998132437468, -0.015035572461783886, -0.007025268394500017, 0.005847166758030653, 0.01233263686299324, 0.009676982648670673, 0.02833748236298561, -0.004070164170116186, -0.01837681047618389, 0.0011426404817029834, -0.0040583438239991665, 0.015815719962120056, 0.025421779602766037, -0.00870770774781704, -0.0030004160944372416, -0.0321042574942112, 0.0018203443614766002, -0.004724227357655764, -0.01580783911049366, 0.010465010069310665, -0.008723468519747257, 0.012143509462475777, -0.005110360682010651, 0.012466601096093655, 0.0029314637649804354, 0.00045237725134938955, 0.011781017296016216, -0.010386207140982151, 0.0049172937870025635, 0.014893727377057076, -0.025090808048844337, 0.027974989265203476, -0.022726723924279213, 0.01809312030673027, -0.00990551058202982, -0.0151695366948843, 0.0017021402018144727, -0.009921271353960037, 0.016186092048883438, -0.005957490764558315, -0.0032072735484689474, -0.007931500673294067, 0.006631254684180021, -0.03467322885990143, -0.007565067615360022, 0.019952865317463875, 0.02649349719285965, 0.013097023591399193, -0.001605606870725751, 0.0010076906764879823, -0.014050536789000034, 0.0219859778881073, 0.0046808854676783085, 0.004389315377920866, -0.004791209474205971, 0.01037832722067833, 0.017509980127215385, 0.004475998226553202, -0.014610037207603455, 0.03467322885990143, -0.023120738565921783, 0.01360924169421196, 0.001828224747441709, 0.005362529773265123, -0.002799469046294689, -0.011079671792685986, -0.0027935588732361794, 0.018361050635576248, -0.017320852726697922, -0.0071749938651919365, -0.011528847739100456, 0.01798279583454132, 0.01686379685997963, -0.009519376792013645, -0.0028191697783768177, -0.0026280730962753296, 0.014562754891812801, 0.002897972473874688, 0.002903882646933198, -0.0023345325607806444, 0.011765256524085999, -0.007407462224364281, -0.006450008135288954, 0.0256109070032835, 0.002039022045210004, 0.013869291171431541, 0.005086719989776611, 0.005374350119382143, -0.008494940586388111, 0.009913390502333641, 0.007387761492282152, 0.0005284711951389909, -0.012017425149679184, -0.01859745755791664]\n"
     ]
    }
   ],
   "source": [
    "tenant_id = '10'\n",
    "# Assuming you already computed the average location vector and current location vector\n",
    "average_location_vector = get_average_location_vector(container, tenant_id)\n",
    "\n",
    "print(average_location_vector)\n",
    "current_location_vector = generate_embeddings(get_city_coordinates(\"New york\"))\n",
    "print(current_location_vector)\n",
    "\n",
    "# Query parameters\n",
    "query = \"Recent purchase at a grocery store\"\n",
    "amount = 10.0  # The current transaction amount\n",
    "\n",
    "# Perform vector search\n",
    "results = vector_search(current_location_vector,tenant_id, average_location_vector, amount, num_results=5)\n",
    "for result in results:\n",
    "    print(result)\n"
   ]
  },
  {
   "cell_type": "code",
   "execution_count": null,
   "metadata": {},
   "outputs": [],
   "source": []
  }
 ],
 "metadata": {
  "kernelspec": {
   "display_name": ".venv",
   "language": "python",
   "name": "python3"
  },
  "language_info": {
   "codemirror_mode": {
    "name": "ipython",
    "version": 3
   },
   "file_extension": ".py",
   "mimetype": "text/x-python",
   "name": "python",
   "nbconvert_exporter": "python",
   "pygments_lexer": "ipython3",
   "version": "3.11.9"
  }
 },
 "nbformat": 4,
 "nbformat_minor": 2
}
